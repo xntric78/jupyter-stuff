{
 "cells": [
  {
   "cell_type": "markdown",
   "metadata": {
    "extensions": {
     "jupyter_dashboards": {
      "version": 1,
      "views": {
       "grid_default": {
        "hidden": true
       },
       "report_default": {
        "hidden": false
       }
      }
     }
    }
   },
   "source": [
    "# Community Sentiment\n",
    "__CONFIGURATION:__ You will need to enter in an access token from [github](https://github.com/settings/tokens) in the configuration cell below. \n",
    "\n",
    "This dashboard tries to describe the sentiment of an open source project on github. A project can have elements of both positive and negative sentiment. The elements which define positive and negative sentiment are defined below.\n",
    "\n",
    "__Positive__\n",
    "* When an issue is closed\n",
    "* When a pull request is closed\n",
    "\n",
    "__Negative__\n",
    "* When an issue has been idle (no activity or comments) within a given time frame.\n",
    "* When a pull request has been idle (no activity or comments) within a given time frame."
   ]
  },
  {
   "cell_type": "markdown",
   "metadata": {
    "extensions": {
     "jupyter_dashboards": {
      "version": 1,
      "views": {
       "grid_default": {
        "col": 0,
        "height": 4,
        "hidden": true,
        "row": 59,
        "width": 4
       },
       "report_default": {}
      }
     }
    }
   },
   "source": [
    "<div class=\"alert alert-info\" role=\"alert\" style=\"margin-top: 10px\">\n",
    "<strong>Note:</strong> Requires Declarative Widgets v0.6.0+.\n",
    "</div>"
   ]
  },
  {
   "cell_type": "markdown",
   "metadata": {
    "extensions": {
     "jupyter_dashboards": {
      "version": 1,
      "views": {
       "grid_default": {
        "hidden": true
       },
       "report_default": {
        "hidden": false
       }
      }
     }
    }
   },
   "source": [
    "## Configuration"
   ]
  },
  {
   "cell_type": "code",
   "execution_count": null,
   "metadata": {
    "collapsed": false,
    "extensions": {
     "jupyter_dashboards": {
      "version": 1,
      "views": {
       "grid_default": {
        "hidden": true
       },
       "report_default": {
        "hidden": false
       }
      }
     }
    }
   },
   "outputs": [],
   "source": [
    "access_token = 'XXXXXXXXXXXXXXXXXXXXX'\n",
    "github_rest_endpoint = 'https://api.github.com{}'\n",
    "github_repo_issues_endpoint = github_rest_endpoint.format('/repos/{0}/{1}/issues')\n",
    "github_repo_issue_events_endpoint = github_rest_endpoint.format('/repos/{0}/{1}/issues/{2}/events')\n",
    "github_repo_issue_comments_endpoint = github_rest_endpoint.format('/repos/{0}/{1}/issues/{2}/comments')"
   ]
  },
  {
   "cell_type": "markdown",
   "metadata": {
    "extensions": {
     "jupyter_dashboards": {
      "version": 1,
      "views": {
       "grid_default": {
        "hidden": true
       },
       "report_default": {
        "hidden": false
       }
      }
     }
    }
   },
   "source": [
    "## Setup\n",
    "Import modules and any web components and setup any constants."
   ]
  },
  {
   "cell_type": "code",
   "execution_count": null,
   "metadata": {
    "collapsed": false,
    "extensions": {
     "jupyter_dashboards": {
      "version": 1,
      "views": {
       "grid_default": {
        "hidden": true
       },
       "report_default": {
        "hidden": false
       }
      }
     }
    }
   },
   "outputs": [],
   "source": [
    "import json, requests\n",
    "import re\n",
    "from datetime import datetime, timedelta\n",
    "import dateutil.parser\n",
    "import os\n",
    "import pickle\n",
    "from declarativewidgets import channel\n",
    "import pandas as pd\n",
    "from pandas import DataFrame\n",
    "import numpy as np\n",
    "import time"
   ]
  },
  {
   "cell_type": "code",
   "execution_count": null,
   "metadata": {
    "collapsed": false,
    "extensions": {
     "jupyter_dashboards": {
      "version": 1,
      "views": {
       "grid_default": {
        "hidden": true
       },
       "report_default": {}
      }
     }
    }
   },
   "outputs": [],
   "source": [
    "import declarativewidgets as widgets\n",
    "\n",
    "widgets.init()"
   ]
  },
  {
   "cell_type": "code",
   "execution_count": null,
   "metadata": {
    "collapsed": true,
    "extensions": {
     "jupyter_dashboards": {
      "version": 1,
      "views": {
       "grid_default": {
        "hidden": true
       },
       "report_default": {
        "hidden": false
       }
      }
     }
    }
   },
   "outputs": [],
   "source": [
    "last_page_regex = re.compile('\\<([^\\>]*)\\>; rel=\\\"last\\\"')\n",
    "page_number_regex = re.compile('[&|\\?]page=(\\d+)')\n",
    "cache_dir = os.path.join(os.getcwd(),'.dashboard_cache')"
   ]
  },
  {
   "cell_type": "code",
   "execution_count": null,
   "metadata": {
    "collapsed": false,
    "extensions": {
     "jupyter_dashboards": {
      "version": 1,
      "views": {
       "grid_default": {
        "hidden": true
       },
       "report_default": {
        "hidden": false
       }
      }
     }
    }
   },
   "outputs": [],
   "source": [
    "%%html\n",
    "<link rel='import' href='urth_components/urth-viz-chart/urth-viz-chart.html' is='urth-core-import'>\n",
    "<link rel='import' href='urth_components/paper-slider/paper-slider.html' package='PolymerElements/paper-slider' is='urth-core-import'>\n",
    "<link rel='import' href='urth_components/paper-button/paper-button.html' package='PolymerElements/paper-button' is='urth-core-import'>\n",
    "<link rel='import' href='urth_components/paper-progress/paper-progress.html' package='PolymerElements/paper-progress' is='urth-core-import'>\n",
    "<link rel='import' href='urth_components/paper-toggle-button/paper-toggle-button.html' package='PolymerElements/paper-toggle-button' is='urth-core-import'>\n",
    "\n",
    "<!-- Custom Widgets !-->\n",
    "<link rel='import' is='urth-core-import' package='/home/jovyan/work/community_sentiment_demo/widgets/urth-timeline'\n",
    "    href='urth_components/urth-timeline/urth-timeline.html'>"
   ]
  },
  {
   "cell_type": "markdown",
   "metadata": {
    "extensions": {
     "jupyter_dashboards": {
      "version": 1,
      "views": {
       "grid_default": {
        "hidden": true
       },
       "report_default": {
        "hidden": false
       }
      }
     }
    }
   },
   "source": [
    "## Data Caching\n",
    "To avoid rate limits, we will cache data to the file system."
   ]
  },
  {
   "cell_type": "code",
   "execution_count": null,
   "metadata": {
    "collapsed": true,
    "extensions": {
     "jupyter_dashboards": {
      "version": 1,
      "views": {
       "grid_default": {
        "hidden": true
       },
       "report_default": {
        "hidden": false
       }
      }
     }
    }
   },
   "outputs": [],
   "source": [
    "def make_cache_dirs(org, repo):\n",
    "    os.makedirs(os.path.join('.dashboard_cache', 'github', org, repo), exist_ok = True)\n",
    "\n",
    "    \n",
    "def load_cache(org, repo):\n",
    "    make_cache_dirs(org,repo)\n",
    "    issues_path = os.path.join('.dashboard_cache', 'github', org, repo, 'issues')\n",
    "    if os.path.exists(issues_path):\n",
    "        cached_issues = pickle.load(open(issues_path, 'rb'))\n",
    "    else:\n",
    "        cached_issues = {'cache_date' : None, 'data': []}\n",
    "        \n",
    "    events_path = os.path.join('.dashboard_cache', 'github', org, repo, 'events')\n",
    "    if os.path.exists(issues_path):\n",
    "        cached_events = pickle.load(open(events_path, 'rb'))\n",
    "    else:\n",
    "        cached_events = {'cache_date' : None, 'data': []}\n",
    "                        \n",
    "            \n",
    "    comments_path = os.path.join('.dashboard_cache', 'github', org, repo, 'comments')\n",
    "    if os.path.exists(issues_path):\n",
    "        cached_comments = pickle.load(open(comments_path, 'rb'))\n",
    "    else:\n",
    "        cached_comments = {'cache_date' : None, 'data': []}\n",
    "    \n",
    "    return cached_issues, cached_events, cached_comments\n",
    "\n",
    "def cache_data(org, repo, **kwargs):\n",
    "    make_cache_dirs(org, repo)\n",
    "    cache_date = datetime.now().isoformat() + 'Z'\n",
    "    for key, value in kwargs.items():\n",
    "        file_to_save = os.path.join('.dashboard_cache', 'github', org, repo, key)\n",
    "        pickle.dump(\n",
    "            {\n",
    "                'cache_date' : cache_date,\n",
    "                'data': value \n",
    "            }, \n",
    "            open(file_to_save, 'wb')\n",
    "        )"
   ]
  },
  {
   "cell_type": "code",
   "execution_count": null,
   "metadata": {
    "collapsed": true,
    "extensions": {
     "jupyter_dashboards": {
      "version": 1,
      "views": {
       "grid_default": {
        "hidden": true
       },
       "report_default": {
        "hidden": false
       }
      }
     }
    }
   },
   "outputs": [],
   "source": [
    "def parse_date(date_string):\n",
    "    '''Parses an ISO date string and returns a UTC datetime object.\n",
    "    '''\n",
    "    if date_string is None:\n",
    "        return np.nan\n",
    "    date_val = dateutil.parser.parse(date_string)\n",
    "    return datetime.utcfromtimestamp(date_val.timestamp())"
   ]
  },
  {
   "cell_type": "markdown",
   "metadata": {
    "extensions": {
     "jupyter_dashboards": {
      "version": 1,
      "views": {
       "grid_default": {
        "hidden": true
       },
       "report_default": {
        "hidden": false
       }
      }
     }
    }
   },
   "source": [
    "# Github"
   ]
  },
  {
   "cell_type": "code",
   "execution_count": null,
   "metadata": {
    "collapsed": false,
    "extensions": {
     "jupyter_dashboards": {
      "version": 1,
      "views": {
       "grid_default": {
        "hidden": true
       },
       "report_default": {
        "hidden": false
       }
      }
     }
    }
   },
   "outputs": [],
   "source": [
    "def _github_paged_collection(url,params, page=1, track_progress=True):\n",
    "    '''Returns a collection from github by iterating over a paged resource.\n",
    "    \n",
    "    Returns:\n",
    "        An array of dictionaries\n",
    "    '''\n",
    "    params['access_token'] = access_token\n",
    "    params['per_page'] = 100\n",
    "    params['page'] = page\n",
    "    params['direction'] = 'asc'\n",
    "    params['sort'] = 'updated'\n",
    "    headers = {}\n",
    "        \n",
    "    # If the cache dir exists add the ETag header\n",
    "    response = requests.get(url=url,params=params, headers=headers)\n",
    "    values = json.loads(response.text)\n",
    "    if 'Link' in response.headers and len(values) > 0: \n",
    "        if page == 1 and track_progress:\n",
    "            last_page_link = last_page_regex.findall(response.headers['Link'])[0]\n",
    "            last_page = page_number_regex.findall(last_page_link)[0]\n",
    "            channel().set('progress-end', last_page)\n",
    "            \n",
    "        # Set the progress to the page\n",
    "        channel().set('progress', page)\n",
    "        return values + _github_paged_collection(url,params,page + 1)\n",
    "    else:\n",
    "        return values\n",
    "\n",
    "def get_github_issue_comments(org, repo, issue):\n",
    "    '''Returns all of the comments, as an array of dictionaries, for a github issue'''\n",
    "    params = {}\n",
    "    url = github_repo_issue_comments_endpoint.format(org,repo, issue)\n",
    "    return _github_paged_collection(url, params)\n",
    "\n",
    "\n",
    "def get_github_issue_events(org, repo, issue):\n",
    "    '''Returns all of the events, as an array of dictionaries, for a github issue'''\n",
    "    params = {}\n",
    "    url = github_repo_issue_events_endpoint.format(org, repo, issue)\n",
    "    return _github_paged_collection(url, params, track_progress=False)\n",
    "        \n",
    "def get_github_issues(org, repo, since=None):\n",
    "    '''Returns all of the issues, as an array of dictionaries, for a github repo'''\n",
    "    params = {\n",
    "        'state' :  'all'\n",
    "    }\n",
    "    \n",
    "    if since:\n",
    "        params['since'] = since\n",
    "        \n",
    "    channel().set('progress-message', 'Collecting issues for {}/{}'.format(org, repo))\n",
    "    url = github_repo_issues_endpoint.format(org,repo)\n",
    "    return _github_paged_collection(url, params)\n",
    "\n",
    "def load_github_data(org, repo):\n",
    "    '''Loads a github repo's issues, events, and comments for a github repo. \n",
    "    \n",
    "    Returns:\n",
    "        issues, events, comments: The issues, events for all issues, and comments for all issues of the github repo\n",
    "    '''\n",
    "    channel().set('show-progress', True)\n",
    "    channel().set('progress', 0)\n",
    "    \n",
    "    cached_issues, cached_events, cached_comments = load_cache(org,repo)\n",
    "    issues = get_github_issues(org, repo, since=cached_issues['cache_date'])\n",
    "    events = []\n",
    "    comments = []\n",
    "    \n",
    "    total_issues = len(issues)\n",
    "    if(total_issues  > 0 ):\n",
    "        curr_issue = 0\n",
    "        channel().set('progress-end', len(issues))\n",
    "        for issue in issues:\n",
    "            issue_number = issue['number']\n",
    "            channel().set('progress-message', 'Getting info for issue {} of {}'.format(curr_issue, total_issues))\n",
    "            issue_events = get_github_issue_events(org, repo, issue_number)\n",
    "            for event in issue_events:\n",
    "                event['number'] = issue_number\n",
    "            events.extend(issue_events)\n",
    "\n",
    "            issue_comments = get_github_issue_comments(org, repo, issue_number)\n",
    "            for comment in issue_comments:\n",
    "                comment['number'] = issue_number\n",
    "            comments.extend(issue_comments)\n",
    "\n",
    "            curr_issue = curr_issue+1\n",
    "            channel().set('progress', curr_issue)  \n",
    "            \n",
    "    updated_issue_ids = list(map(lambda x: x['number'], issues))\n",
    "    filtered_cached_issues = list(filter(lambda x: x['number'] not in updated_issue_ids, cached_issues['data']))\n",
    "    filtered_cached_events = list(filter(lambda x: x['number'] not in updated_issue_ids, cached_events['data']))\n",
    "    filtered_cached_comments = list(filter(lambda x: x['number'] not in updated_issue_ids, cached_comments['data']))\n",
    "    issues = issues + filtered_cached_issues\n",
    "    events = events + filtered_cached_events\n",
    "    comments = comments + filtered_cached_comments\n",
    "    cache_data(org, repo, events=events, issues=issues, comments=comments)\n",
    "    \n",
    "    issues_df = DataFrame(issues)\n",
    "    issue_events_df = DataFrame(events)\n",
    "    issue_comments_df = DataFrame(comments)\n",
    "\n",
    "    # Parse the dates only if we have issues, events, or comments for the respective dataframe\n",
    "    # And add any attributes used for filtering, so we an just pass the empty dataframe along\n",
    "    if(len(issues_df) > 0):\n",
    "        issues_df.closed_at = issues_df.closed_at.apply(parse_date)\n",
    "        issues_df.created_at = issues_df.created_at.apply(parse_date)\n",
    "        issues_df.updated_at = issues_df.updated_at.apply(parse_date)\n",
    "    else:\n",
    "        issues_df['closed_at'] = datetime.utcfromtimestamp(0)\n",
    "        issues_df['created_at'] = datetime.utcfromtimestamp(0)\n",
    "        issues_df['updated_at'] = datetime.utcfromtimestamp(0)\n",
    "        issues_df['number'] = 0\n",
    "        \n",
    "    # If no pull requests have been made then the pull request field will \n",
    "    # not be in the dataframe and will break our filters    \n",
    "    if 'pull_request' not in issues_df:\n",
    "        issues_df['pull_request'] = np.nan            \n",
    "            \n",
    "    if(len(issue_events_df) > 0):\n",
    "        issue_events_df.created_at = issue_events_df.created_at.apply(parse_date)\n",
    "    else:\n",
    "        issue_events_df['created_at'] = datetime.utcfromtimestamp(0)\n",
    "        issue_events_df['number'] = 0\n",
    "        issue_events_df['event'] = ''\n",
    "        \n",
    "    if(len(issue_comments_df) > 0):\n",
    "        issue_comments_df.created_at = issue_comments_df.created_at.apply(parse_date)\n",
    "    else:\n",
    "        issue_comments_df['created_at'] = datetime.utcfromtimestamp(0)\n",
    "        issue_comments_df['number'] = 0\n",
    "        \n",
    "    channel().set('show-progress', False)\n",
    "    return issues_df, issue_events_df, issue_comments_df"
   ]
  },
  {
   "cell_type": "markdown",
   "metadata": {
    "extensions": {
     "jupyter_dashboards": {
      "version": 1,
      "views": {
       "grid_default": {
        "hidden": true
       },
       "report_default": {
        "hidden": false
       }
      }
     }
    }
   },
   "source": [
    "## Filter/Classification Methods"
   ]
  },
  {
   "cell_type": "code",
   "execution_count": null,
   "metadata": {
    "collapsed": false,
    "extensions": {
     "jupyter_dashboards": {
      "version": 1,
      "views": {
       "grid_default": {
        "hidden": true
       },
       "report_default": {
        "hidden": false
       }
      }
     }
    }
   },
   "outputs": [],
   "source": [
    "def filter_pull_requests_items(items):\n",
    "    '''Filters items to only inlucde items which are pull requests\n",
    "        \n",
    "    Args:\n",
    "        items: a dataframe of github items\n",
    "        \n",
    "    Returns:\n",
    "        A dataframe of pull requests.\n",
    "    '''\n",
    "    if len(items) > 0:\n",
    "        return items[items['pull_request'].apply(lambda x: type(x) == dict)]\n",
    "    else:\n",
    "        return items\n",
    "\n",
    "def filter_issue_items(items):\n",
    "    '''Filters items to only include items which are issues\n",
    "    \n",
    "    Args:\n",
    "        items: A dataframe of github items\n",
    "        \n",
    "    Returns:\n",
    "        A dataframe of issues.\n",
    "    '''\n",
    "    if len(items) > 0:\n",
    "        return items[items['pull_request'].apply(lambda x: type(x) != dict and np.isnan(x))]\n",
    "    else:\n",
    "        return items\n",
    "\n",
    "def filter_idle_items_during(items, events, comments, start_date, end_date):\n",
    "    '''Filters items to include only the items that are considered idle.\n",
    "    \n",
    "    Idle is defined as follows:\n",
    "        The item was created before start_date\n",
    "        The item was open before start_date\n",
    "        There were no comments or events associated with the item between start_date and end_date\n",
    "        \n",
    "    Args:\n",
    "        items: A dataframe containing the items for a github repo\n",
    "        events: A dataframe containing the events for a github repo\n",
    "        comments: A dataframe containing the comments for items in a github repo\n",
    "        start_date: A datetime to represent the beginning of the window to consider when items are idle\n",
    "        end_date: A datetime to represent the end of the window to consider when items are idle\n",
    "        \n",
    "    Returns:\n",
    "        A datframe of items idle during the given time frame.\n",
    "    '''\n",
    "    all_df = pd.merge(items, events, how='outer', on='number', suffixes=('_item', '_event'))\n",
    "    \n",
    "    # Contains events within the time window\n",
    "    df = all_df[\n",
    "        (all_df.created_at_event > start_date) & (all_df.created_at_event < end_date)\n",
    "    ]\n",
    "    \n",
    "    # Active items within the time window\n",
    "    active_items_set = df.drop_duplicates('number')\n",
    "    \n",
    "    \n",
    "    # Items that had no events within window (not necesarilly inactive)\n",
    "    filtered_df = all_df[~all_df.number.isin(active_items_set.number)]\n",
    "    \n",
    "    \n",
    "    # If the item was closed before the start date\n",
    "    items_closed_before_window = filtered_df[\n",
    "            (filtered_df.event == 'closed') &\n",
    "            (filtered_df.created_at_event <= start_date)\n",
    "    ]\n",
    "    \n",
    "    filtered_df = filtered_df[\n",
    "        ~filtered_df.number.isin(items_closed_before_window.number)\n",
    "    ]\n",
    "    \n",
    "    # If the item was opened after the end date it is not inactive\n",
    "    items_opened_after_window = filtered_df[\n",
    "        (filtered_df.created_at_item > end_date) \n",
    "    ]\n",
    "    \n",
    "    filtered_df = filtered_df[\n",
    "        ~filtered_df.number.isin(items_opened_after_window.number)\n",
    "    ]\n",
    "    \n",
    "    # If there was a comment on the item during the window, it is active\n",
    "    comments_within_window = comments[\n",
    "        (comments.created_at > start_date) &\n",
    "        (comments.created_at < end_date)\n",
    "    ]\n",
    "    \n",
    "    filtered_df = filtered_df[\n",
    "        ~filtered_df.number.isin(comments_within_window.number)\n",
    "    ]\n",
    "    \n",
    "    inactive_items = filtered_df.drop_duplicates('number')\n",
    "    return items[items.number.isin(inactive_items.number)]\n",
    "\n",
    "\n",
    "def filter_closed_items_during(items, events, start_date, end_date):\n",
    "    '''Filters items to include only the items that are closed \n",
    "        \n",
    "    Args:\n",
    "        items: A dataframe containing the items for a github repo\n",
    "        events: A dataframe containing the events for a github repo\n",
    "        start_date: A datetime to represent the beginning of the window to consider when items are idle\n",
    "        end_date: A datetime to represent the end of the window to consider when items are idle\n",
    "\n",
    "    Returns:\n",
    "        A datframe of items closed during the given time frame.\n",
    "    '''\n",
    "    closed_events_during = events[\n",
    "        (events.created_at > start_date) & \n",
    "        (events.created_at < end_date) & \n",
    "        (events.event == 'closed')\n",
    "    ]\n",
    "    return items[items.number.isin(closed_events_during.number)]"
   ]
  },
  {
   "cell_type": "markdown",
   "metadata": {
    "extensions": {
     "jupyter_dashboards": {
      "version": 1,
      "views": {
       "grid_default": {
        "hidden": true
       },
       "report_default": {
        "hidden": false
       }
      }
     }
    }
   },
   "source": [
    "## Data Access"
   ]
  },
  {
   "cell_type": "code",
   "execution_count": null,
   "metadata": {
    "collapsed": false,
    "extensions": {
     "jupyter_dashboards": {
      "version": 1,
      "views": {
       "grid_default": {
        "hidden": true
       },
       "report_default": {
        "hidden": false
       }
      }
     }
    }
   },
   "outputs": [],
   "source": [
    "# Issues\n",
    "def get_closed_issues_during(items, events, start_date, end_date):\n",
    "    '''Filters items to include only issues closed between start_date and end_date.\n",
    "    \n",
    "    Returns: a dataframe containing the closed issues during the given time frame.\n",
    "    '''\n",
    "    return filter_closed_items_during(filter_issue_items(items), events, start_date, end_date)    \n",
    "\n",
    "def get_closed_issue_count_during(items, events, start_date, end_date):\n",
    "    '''Returns the total number of issues closed between start_date and end_date.\n",
    "    \n",
    "    Returns: total number of issues closed between start_date and end_date.\n",
    "    '''\n",
    "    return len(get_closed_issues_during(items, events, start_date, end_date))\n",
    "\n",
    "def get_idle_issues_during(items, events, comments, start_date, end_date):\n",
    "    '''Filters items to include only issues idle between start_date and end_date.\n",
    "    \n",
    "    Returns: a dataframe containing the idle issues during the given time frame.\n",
    "    '''\n",
    "    return filter_idle_items_during(filter_issue_items(items), events, comments, start_date, end_date)\n",
    "\n",
    "def get_idle_issue_count_during(items, events, comments, start_date, end_date):\n",
    "    '''Returns the total number of issues idle between start_date and end_date.\n",
    "    \n",
    "    Returns: total number of issues idle between start_date and end_date.\n",
    "    '''\n",
    "    return len(get_idle_issues_during(items, events, comments, start_date, end_date))\n",
    "\n",
    "# Pull requests\n",
    "def get_closed_pull_requests_during(items, events, start_date, end_date):\n",
    "    '''Filters items to include only pull requests closed between start_date and end_date.\n",
    "    \n",
    "    Returns: a dataframe containing the closed pull requests during the given time frame.\n",
    "    '''\n",
    "\n",
    "    return filter_closed_items_during(filter_pull_requests_items(items), events, start_date, end_date)    \n",
    "\n",
    "def get_closed_pull_request_count_during(items, events, start_date, end_date):\n",
    "    '''Returns the total number of pull requests closed between start_date and end_date.\n",
    "    \n",
    "    Returns: total number of pull requests closed between start_date and end_date.\n",
    "    '''\n",
    "    return len(get_closed_pull_requests_during(items, events, start_date, end_date))\n",
    "\n",
    "def get_idle_pull_requests_during(items, events, comments, start_date, end_date):\n",
    "    '''Filters items to include only pull requests idle between start_date and end_date.\n",
    "    \n",
    "    Returns: a dataframe containing the idle pull requests during the given time frame.\n",
    "    '''\n",
    "    return filter_idle_items_during(filter_pull_requests_items(items), events, comments, start_date, end_date)\n",
    "\n",
    "def get_idle_pull_request_count_during(items, events, comments, start_date, end_date):\n",
    "    '''Returns the total number of pull requests idle between start_date and end_date.\n",
    "    \n",
    "    Returns: total number of pull requests idle between start_date and end_date.\n",
    "    '''\n",
    "    return len(get_idle_pull_requests_during(items, events, comments, start_date, end_date))"
   ]
  },
  {
   "cell_type": "code",
   "execution_count": null,
   "metadata": {
    "collapsed": false,
    "extensions": {
     "jupyter_dashboards": {
      "version": 1,
      "views": {
       "grid_default": {
        "hidden": true
       },
       "report_default": {
        "hidden": false
       }
      }
     }
    }
   },
   "outputs": [],
   "source": [
    "def get_sentiment_counts(org, repo):\n",
    "    '''Returns the counts for individual components of sentiment analysis.\n",
    "    \n",
    "    Returns:\n",
    "        A tuple of the following values: closed issues, idles issues, closed pull requests, idle pull requests\n",
    "    '''\n",
    "    items, events, comments = load_github_data(org, repo)\n",
    "    end_date = datetime.now()\n",
    "    start_date = end_date - timedelta(days=7)\n",
    "    closed_issues = get_closed_issue_count_during(items, events, start_date, end_date)\n",
    "    idle_issues = get_idle_issue_count_during(items, events, comments, start_date, end_date)\n",
    "    closed_prs = get_closed_pull_request_count_during(items, events, start_date, end_date)\n",
    "    idle_prs = get_idle_pull_request_count_during(items, events, comments, start_date, end_date)\n",
    "    return (closed_issues, idle_issues, closed_prs, idle_prs)\n",
    "    \n",
    "def get_individual_sentiment_data(org, repo):\n",
    "    '''Returns the sentimnet grouped by the different components (issues and pull requests)\n",
    "    '''\n",
    "    closed_issues, idle_issues, closed_prs, idle_prs = get_sentiment_counts(org, repo)\n",
    "    return {\n",
    "        'rows': [\n",
    "            ['Issues', closed_issues, idle_issues],\n",
    "            ['Pull Requests', closed_prs, idle_prs]\n",
    "        ],\n",
    "        'columns': ['Index', 'Positive', 'Negative']\n",
    "    }\n",
    "\n",
    "\n",
    "def get_total_sentiment_data(org, repo):\n",
    "    '''Returns a dictionary representing the total values for positive and negative sentiment.\n",
    "    '''\n",
    "    closed_issues, idle_issues, closed_prs, idle_prs = get_sentiment_counts(org, repo)\n",
    "    return {\n",
    "        'rows': [\n",
    "            ['Total', closed_issues + closed_prs, idle_issues + idle_prs]\n",
    "        ],\n",
    "        'columns': ['Index', 'Positive', 'Negative']\n",
    "    }\n",
    "\n",
    "def get_historical_sentiment_data(org, repo, start_date, end_date):\n",
    "    '''Returns a dictionary representing the individual sentiment components between the start and end dates.\n",
    "    \n",
    "    Args:\n",
    "        org: The github organization to collect data for\n",
    "        repo: The github repository to collect data for \n",
    "        start_date: An ISO standard date string representing the start date of the historical window.\n",
    "        end_date: An ISO standard date string representing the end date of the historical window.\n",
    "    '''\n",
    "    items, events, comments = load_github_data(org, repo)\n",
    "    start_date = parse_date(start_date)\n",
    "    end_date = parse_date(end_date)\n",
    "    rows = []\n",
    "    curr_time = end_date\n",
    "    prev_time = end_date\n",
    "    index = 0\n",
    "    delta = (end_date - start_date) / 30\n",
    "    while(curr_time > start_date):\n",
    "        prev_time = curr_time\n",
    "        curr_time = curr_time - delta\n",
    "        index = index + 1\n",
    "        rows.append([\n",
    "                curr_time.isoformat(),\n",
    "                get_closed_issue_count_during(items, events, curr_time, prev_time),\n",
    "                get_idle_issue_count_during(items, events, comments, curr_time, prev_time),\n",
    "                get_closed_pull_request_count_during(items, events, curr_time, prev_time),\n",
    "                get_idle_pull_request_count_during(items, events, comments, curr_time, prev_time)\n",
    "        ])\n",
    "    interval = delta.days + round(delta.seconds/(60*60*24), 2)\n",
    "    return {\n",
    "        'rows': rows,\n",
    "        'columns': ['Index', 'Closed Issues', 'Idle Issues', 'Closed PRs', 'Idle PRs'], \n",
    "        'metadata' : { 'interval' : interval}\n",
    "    }"
   ]
  },
  {
   "cell_type": "markdown",
   "metadata": {
    "extensions": {
     "jupyter_dashboards": {
      "version": 1,
      "views": {
       "grid_default": {
        "hidden": true
       },
       "report_default": {
        "hidden": false
       }
      }
     }
    }
   },
   "source": [
    "# UI\n"
   ]
  },
  {
   "cell_type": "code",
   "execution_count": null,
   "metadata": {
    "collapsed": false,
    "extensions": {
     "jupyter_dashboards": {
      "version": 1,
      "views": {
       "grid_default": {
        "hidden": true
       },
       "report_default": {
        "hidden": false
       }
      }
     }
    }
   },
   "outputs": [],
   "source": [
    "%%html\n",
    "<style>\n",
    "paper-progress, paper-slider {\n",
    "    display: block;\n",
    "    width: 100%;\n",
    "    margin: 20px 0;\n",
    "}\n",
    "</style>"
   ]
  },
  {
   "cell_type": "code",
   "execution_count": null,
   "metadata": {
    "collapsed": false,
    "extensions": {
     "jupyter_dashboards": {
      "version": 1,
      "views": {
       "grid_default": {
        "hidden": true
       },
       "report_default": {
        "hidden": false
       }
      }
     }
    }
   },
   "outputs": [],
   "source": [
    "%%html\n",
    "<template is=\"urth-core-bind\">\n",
    "    <urth-core-function id=\"get_individual_sentiment_data\" ref=\"get_individual_sentiment_data\" \n",
    "        arg-org=\"{{org}}\"  \n",
    "        arg-repo=\"{{repo}}\"  \n",
    "        result='{{individual_sentiment_data}}'>\n",
    "    </urth-core-function> \n",
    "    <urth-core-function id=\"get_total_sentiment_data\" ref=\"get_total_sentiment_data\" \n",
    "        arg-org=\"{{org}}\"  \n",
    "        arg-repo=\"{{repo}}\"  \n",
    "        result='{{total_sentiment_data}}'>\n",
    "    </urth-core-function> \n",
    "    <urth-core-function id=\"get_historical_sentiment_data\" ref=\"get_historical_sentiment_data\" \n",
    "        arg-org=\"{{org}}\"  \n",
    "        arg-repo=\"{{repo}}\"  \n",
    "        arg-start_date='{{window_start}}'\n",
    "        arg-end_date='{{window_end}}'\n",
    "        result='{{historical_data}}'>\n",
    "    </urth-core-function>\n",
    "    <urth-core-channel id=\"defaultChannel\"></urth-core-channel>\n",
    "    <script>\n",
    "        function get_data(){\n",
    "            document.getElementById('get_individual_sentiment_data').invoke();\n",
    "            document.getElementById('get_total_sentiment_data').invoke();\n",
    "            document.getElementById('get_historical_sentiment_data').invoke();\n",
    "        }\n",
    "        // Set the start and end for the timeline widget\n",
    "        var timeline_end = new Date();\n",
    "        var timeline_start = new Date(timeline_end.getTime() - 1000*60*60*24*30);\n",
    "        var channel = document.getElementById('defaultChannel');\n",
    "        channel.set('timeline_start', timeline_start);\n",
    "        channel.set('timeline_end', timeline_end);\n",
    "        channel.set('window_end', new Date().toISOString());\n",
    "        channel.set('window_start', new Date().toISOString());\n",
    "        channel.set('palette', [\"#4575b4\",\"#d73027\", \"#313695\", \"#a50026\",])\n",
    "    </script>\n",
    "</template>"
   ]
  },
  {
   "cell_type": "code",
   "execution_count": null,
   "metadata": {
    "collapsed": false,
    "extensions": {
     "jupyter_dashboards": {
      "version": 1,
      "views": {
       "grid_default": {
        "col": 0,
        "height": 18,
        "hidden": false,
        "row": 0,
        "width": 12
       },
       "report_default": {
        "hidden": false
       }
      }
     }
    },
    "scrolled": false
   },
   "outputs": [],
   "source": [
    "%%html\n",
    "<template id='banner' is=\"urth-core-bind\">\n",
    "    <h1>Community Project Sentiment</h1>\n",
    "    <paper-item>\n",
    "        <p>\n",
    "            This dashboard tries to describe the sentiment of an open source project on github. \n",
    "            A project can have elements of both positive and negative sentiment.\n",
    "            The elements which define positive and negative sentiment are defined below.\n",
    "        </p>\n",
    "    </paper-item>\n",
    "    <paper-item>\n",
    "            <p>\n",
    "            <ul>\n",
    "                <li>\n",
    "                    Positive\n",
    "                    <ul>\n",
    "                        <li>When an issue is closed</li>\n",
    "                        <li>When a pull request is closed</li>\n",
    "                        \n",
    "                    </ul>\n",
    "                </li>\n",
    "                <li>\n",
    "                    Negative\n",
    "                    <ul>\n",
    "                        <li>When an issue has been idle (no activity or comments) within a given time frame.</li>\n",
    "                        <li>When a pull request has been idle (no activity or comments) within a given time frame.</li>\n",
    "                    </ul>\n",
    "                </li>\n",
    "            </ul>\n",
    "        </p>\n",
    "    </paper-item>\n",
    "    <paper-input label='Organization' value=\"{{org}}\"></paper-input>\n",
    "    <paper-input label='Repository' value=\"{{repo}}\"></paper-input>\n",
    "    <paper-button raised onclick='get_data();'>Collect Data</paper-button>\n",
    "    <paper-toggle-button id='stream-toggle' on-change='toggleStream'>Stream</paper-toggle-button>\n",
    "    <template is='dom-if' if='{{show-progress}}'>\n",
    "        <paper-progress class='blue' value=\"{{progress}}\" min='0' max='{{progress-end}}'></paper-progress>\n",
    "        <paper-item>\n",
    "            <p style='text-align:center; width:100%'>{{progress-message}}</p>\n",
    "        </paper-item>\n",
    "    </template>\n",
    "    <script>\n",
    "        var streamInterval = null;\n",
    "        banner.toggleStream = function(e){\n",
    "            if(document.getElementById('stream-toggle').active) {\n",
    "                streamInterval = setInterval(get_data, 7000);\n",
    "            } else {\n",
    "                clearInterval(streamInterval);\n",
    "            }\n",
    "        };\n",
    "    </script>\n",
    "</template>"
   ]
  },
  {
   "cell_type": "code",
   "execution_count": null,
   "metadata": {
    "collapsed": false,
    "extensions": {
     "jupyter_dashboards": {
      "version": 1,
      "views": {
       "grid_default": {
        "col": 0,
        "height": 17,
        "hidden": false,
        "row": 18,
        "width": 6
       },
       "report_default": {
        "hidden": false
       }
      }
     }
    }
   },
   "outputs": [],
   "source": [
    "%%html\n",
    "<template is=\"urth-core-bind\">\n",
    "    <h2 style='text-align:center;'>Overall Project Sentiment (Past 7 Days)</h2>\n",
    "    <urth-viz-chart type='bar' palette='{{palette}}' \n",
    "        datarows='{{total_sentiment_data.rows}}' \n",
    "        columns='{{total_sentiment_data.columns}}'>\n",
    "    </urth-viz-chart>\n",
    "</template>"
   ]
  },
  {
   "cell_type": "code",
   "execution_count": null,
   "metadata": {
    "collapsed": false,
    "extensions": {
     "jupyter_dashboards": {
      "version": 1,
      "views": {
       "grid_default": {
        "col": 6,
        "height": 17,
        "hidden": false,
        "row": 18,
        "width": 6
       },
       "report_default": {
        "hidden": false
       }
      }
     }
    }
   },
   "outputs": [],
   "source": [
    "%%html\n",
    "<template is=\"urth-core-bind\">\n",
    "        <h2 style='text-align:center;'>Sentiment Breakdown (Past 7 Days)</h2>\n",
    "        <urth-viz-chart type='bar' palette='{{palette}}' \n",
    "            datarows='{{individual_sentiment_data.rows}}' \n",
    "            columns='{{individual_sentiment_data.columns}}'>\n",
    "        </urth-viz-chart>\n",
    "</template>"
   ]
  },
  {
   "cell_type": "code",
   "execution_count": null,
   "metadata": {
    "collapsed": false,
    "extensions": {
     "jupyter_dashboards": {
      "version": 1,
      "views": {
       "grid_default": {
        "col": 0,
        "height": 24,
        "hidden": false,
        "row": 35,
        "width": 12
       },
       "report_default": {
        "hidden": false
       }
      }
     }
    }
   },
   "outputs": [],
   "source": [
    "%%html\n",
    "<template id='timeline_bind' is='urth-core-bind'>\n",
    "    <h2 style='text-align:center;'>\n",
    "        Historical Sentiment \n",
    "    </h2>\n",
    "    <h3 style='text-align:center;'>\n",
    "    <span id='startLabel'></span> to <span id='endLabel'></span> every <span>{{historical_data.metadata.interval}}</span> days\n",
    "    </h3>\n",
    "    <urth-viz-chart type='line' palette='{{palette}}' \n",
    "        datarows='{{historical_data.rows}}' \n",
    "        columns='{{historical_data.columns}}'>\n",
    "        <urth-viz-col index=\"0\" type=\"date\" ></urth-viz-col>\n",
    "    </urth-viz-chart>\n",
    "    <div style='padding-left:60px;'>\n",
    "        <urth-timeline \n",
    "            start-date='{{timeline_start}}'\n",
    "            end-date='{{timeline_end}}'\n",
    "            on-window-changed='update'>\n",
    "        </urth-timeline>\n",
    "    </div> \n",
    "    <script>\n",
    "        timeline_bind.update = function(e){\n",
    "            var startLabel = document.getElementById('startLabel');\n",
    "            var endLabel = document.getElementById('endLabel');\n",
    "            var historical_function = document.getElementById('get_historical_sentiment_data');\n",
    "            var channel = document.getElementById('defaultChannel');\n",
    "\n",
    "            channel.set('window_start', e.detail.window_start.toISOString());\n",
    "            channel.set('window_end', e.detail.window_end.toISOString());\n",
    "            startLabel.innerText = e.detail.window_start.toLocaleDateString();\n",
    "            endLabel.innerText = e.detail.window_end.toLocaleDateString();\n",
    "\n",
    "            // A work around for declarative widgets issue 35\n",
    "            // https://github.com/jupyter-incubator/declarativewidgets/issues/35\n",
    "            historical_function.args['start_date'] = e.detail.window_start.toISOString();\n",
    "            historical_function.args['end_date'] = e.detail.window_end.toISOString();\n",
    "            if(historical_function.isValid()) {\n",
    "                historical_function.invoke();\n",
    "            }\n",
    "        }\n",
    "    </script>\n",
    "</template>"
   ]
  }
 ],
 "metadata": {
  "extensions": {
   "jupyter_dashboards": {
    "activeView": "grid_default",
    "version": 1,
    "views": {
     "grid_default": {
      "cellMargin": 10,
      "defaultCellHeight": 20,
      "maxColumns": 12,
      "name": "grid",
      "type": "grid"
     },
     "report_default": {
      "name": "report",
      "type": "report"
     }
    }
   }
  },
  "kernelspec": {
   "display_name": "Python 3",
   "language": "python",
   "name": "python3"
  },
  "language_info": {
   "codemirror_mode": {
    "name": "ipython",
    "version": 3
   },
   "file_extension": ".py",
   "mimetype": "text/x-python",
   "name": "python",
   "nbconvert_exporter": "python",
   "pygments_lexer": "ipython3",
   "version": "3.5.1"
  },
  "widgets": {
   "state": {},
   "version": "1.1.2"
  }
 },
 "nbformat": 4,
 "nbformat_minor": 0
}
