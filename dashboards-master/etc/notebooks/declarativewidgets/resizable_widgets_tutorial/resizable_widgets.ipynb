{
 "cells": [
  {
   "cell_type": "markdown",
   "metadata": {
    "extensions": {
     "jupyter_dashboards": {
      "version": 1,
      "views": {
       "grid_default": {
        "col": 0,
        "height": 6,
        "hidden": false,
        "row": 0,
        "width": 12
       },
       "report_default": {
        "hidden": false
       }
      }
     }
    }
   },
   "source": [
    "# Resizable Widget Tutorial\n",
    "\n",
    "This tutorial demonstrates how to implement a resizable Polymer element for use with the [Dynamic Dashboard](https://github.com/jupyter/dashboards) extension. By using [`iron-resizable-behavior`](https://elements.polymer-project.org/elements/iron-resizable-behavior?active=Polymer.IronResizableBehavior), your widget can be informed when it is resized, allowing you to act accordingly. This is mainly applicable to [Declarative Widgets](https://github.com/jupyter-incubator/declarativewidgets) as a declarative widget is a Polymer element.\n",
    "\n",
    "A Notebook cell can be resized in one of two ways: (1) by resizing the window or (2) by resizing the cell when in the Dashboard layout view (`View > Layout Dashboard`). Any cell output content is responsible for sizing itself. By listening to the `iron-resize` event, your widget can be notified of both of these resize actions.\n",
    "\n",
    "The important parts are as follows:\n",
    "\n",
    "1. Add the `iron-resizable-behavior` to your list of `behaviors`. This will add the capabilities from that behavior to your widget.\n",
    "2. Add a listener for the `iron-resize` event, which is fired when your element is resized (i.e. a user is resizing the cells in the Dashboard view).\n",
    "3. Implement a callback function which can act when your widget is resized.\n",
    "\n",
    "In the example widget below, when the cell is resized, the widget adjusts its height to match its width."
   ]
  },
  {
   "cell_type": "markdown",
   "metadata": {
    "extensions": {
     "jupyter_dashboards": {
      "version": 1,
      "views": {
       "grid_default": {
        "col": 7,
        "height": 4,
        "hidden": true,
        "row": 6,
        "width": 4
       },
       "report_default": {}
      }
     }
    }
   },
   "source": [
    "<div class=\"alert alert-info\" role=\"alert\" style=\"margin-top: 10px\">\n",
    "<strong>Note:</strong> Requires Declarative Widgets v0.6.0+.\n",
    "</div>"
   ]
  },
  {
   "cell_type": "code",
   "execution_count": null,
   "metadata": {
    "collapsed": false,
    "extensions": {
     "jupyter_dashboards": {
      "version": 1,
      "views": {
       "grid_default": {
        "hidden": true
       },
       "report_default": {}
      }
     }
    }
   },
   "outputs": [],
   "source": [
    "import declarativewidgets as widgets\n",
    "\n",
    "widgets.init()"
   ]
  },
  {
   "cell_type": "code",
   "execution_count": null,
   "metadata": {
    "collapsed": false,
    "extensions": {
     "jupyter_dashboards": {
      "version": 1,
      "views": {
       "grid_default": {
        "hidden": true
       },
       "report_default": {
        "hidden": false
       }
      }
     }
    }
   },
   "outputs": [],
   "source": [
    "%%html\n",
    "<link rel=\"import\" href=\"/urth_components/iron-resizable-behavior/iron-resizable-behavior.html\"\n",
    "is=\"urth-core-import\" package=\"PolymerElements/iron-resizable-behavior\">\n",
    "\n",
    "<dom-module id=\"resizable-element\">\n",
    "    <style>\n",
    "        :host {\n",
    "            display: block;\n",
    "            background-color: goldenrod;\n",
    "            text-align: center;\n",
    "        }\n",
    "    </style>\n",
    "\n",
    "    <template>\n",
    "        <div style$=\"[[getStyle(h)]]\">\n",
    "            <b>I'm a resizable square with height <span>{{h}}</span>.</b>\n",
    "        </div>\n",
    "    </template>\n",
    "\n",
    "    <script>\n",
    "        HTMLImports.whenReady(function () {\n",
    "            Polymer({\n",
    "                is: 'resizable-element',\n",
    "                \n",
    "                // 1. List the behaviors used by your widget here.\n",
    "                behaviors: [\n",
    "                    Polymer.IronResizableBehavior\n",
    "                ],\n",
    "                \n",
    "                properties: {\n",
    "                    h: {\n",
    "                        type: Number,\n",
    "                        value: 0\n",
    "                    }\n",
    "                },\n",
    "                \n",
    "                // 2. Add a listener for the 'iron-resize' event\n",
    "                listeners: {\n",
    "                    'iron-resize': '_onIronResize'\n",
    "                },\n",
    "                \n",
    "                attached: function() {\n",
    "                    // invoke when added to DOM, so we can set initial dimensions\n",
    "                    this.async(this._onIronResize.bind(this), 100);\n",
    "                },\n",
    "                \n",
    "                // 3. Implement the callback which is invoked when your widget is resized\n",
    "                _onIronResize: function() {\n",
    "                    this.h = this.offsetWidth;\n",
    "                },\n",
    "                \n",
    "                getStyle: function() {\n",
    "                    return 'height: ' + this.h + 'px';\n",
    "                }\n",
    "            });\n",
    "        });\n",
    "    </script>\n",
    "</dom-module>"
   ]
  },
  {
   "cell_type": "code",
   "execution_count": null,
   "metadata": {
    "collapsed": false,
    "extensions": {
     "jupyter_dashboards": {
      "version": 1,
      "views": {
       "grid_default": {
        "col": 0,
        "height": 23,
        "hidden": false,
        "row": 6,
        "width": 7
       },
       "report_default": {
        "hidden": false
       }
      }
     }
    }
   },
   "outputs": [],
   "source": [
    "%%html\n",
    "<resizable-element></resizable-element>"
   ]
  }
 ],
 "metadata": {
  "extensions": {
   "jupyter_dashboards": {
    "activeView": "grid_default",
    "version": 1,
    "views": {
     "grid_default": {
      "cellMargin": 10,
      "defaultCellHeight": 20,
      "maxColumns": 12,
      "name": "grid",
      "type": "grid"
     },
     "report_default": {
      "name": "report",
      "type": "report"
     }
    }
   }
  },
  "kernelspec": {
   "display_name": "Python 3",
   "language": "python",
   "name": "python3"
  },
  "language_info": {
   "codemirror_mode": {
    "name": "ipython",
    "version": 3
   },
   "file_extension": ".py",
   "mimetype": "text/x-python",
   "name": "python",
   "nbconvert_exporter": "python",
   "pygments_lexer": "ipython3",
   "version": "3.5.1"
  },
  "widgets": {
   "state": {
    "A639A7C001574EBC854DDE0497144BB7": {
     "views": []
    }
   },
   "version": "1.1.2"
  }
 },
 "nbformat": 4,
 "nbformat_minor": 0
}
