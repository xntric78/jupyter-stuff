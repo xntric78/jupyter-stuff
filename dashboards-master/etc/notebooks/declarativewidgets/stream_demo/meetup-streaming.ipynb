{
 "cells": [
  {
   "cell_type": "markdown",
   "metadata": {
    "extensions": {
     "jupyter_dashboards": {
      "version": 1,
      "views": {
       "grid_default": {
        "col": 4,
        "height": 3,
        "hidden": false,
        "row": 0,
        "width": 6
       },
       "report_default": {
        "hidden": false
       }
      }
     }
    }
   },
   "source": [
    "# Streaming Meetups Dashboard"
   ]
  },
  {
   "cell_type": "markdown",
   "metadata": {
    "extensions": {
     "jupyter_dashboards": {
      "version": 1,
      "views": {
       "grid_default": {
        "col": 6,
        "height": 4,
        "hidden": false,
        "row": 3,
        "width": 6
       },
       "report_default": {
        "hidden": false
       }
      }
     }
    }
   },
   "source": [
    "The purpose of this notebook is to give an all-in-one demo of streaming data from the [meetup.com RSVP API](http://www.meetup.com/meetup_api/docs/stream/2/rsvps/#websockets), through a local [Spark Streaming job](http://spark.apache.org/streaming/), and into [declarative widgets](https://github.com/jupyter-incubator/declarativewidgets) in a dashboard layout."
   ]
  },
  {
   "cell_type": "markdown",
   "metadata": {
    "extensions": {
     "jupyter_dashboards": {
      "version": 1,
      "views": {
       "grid_default": {
        "hidden": true
       },
       "report_default": {
        "hidden": false
       }
      }
     }
    }
   },
   "source": [
    "On your first visit to this notebook, we recommend that you execute one cell at a time as you read along. Later, if you  just want to see the demo, select *Cell > Run All* from the menu bar. Once you've run all of the cells, select *View > View Dashboard* and then click on the **Stream** toggle to start the data stream.\n",
    "\n",
    "**Table of Contents**\n",
    "\n",
    "1. [Create the Frontend Widgets](#Create-the-Widgets-Top) <span class=\"text-muted\" style=\"float:right\">topic histogram, filter entry, user card, global heatmap</span>\n",
    "2. [Define the Spark Streaming Job](#Define-the-Spark-Streaming-Job-Top) <span style=\"float:right\" class=\"text-muted\">filter by topic, top topics, venue metadata</span>\n",
    "3. [Publish Data to Widget Channels](#Publish-Data-to-Widget-Channels-Top)\n",
    "4. [Connect to the Data Source](#Connect-to-the-Data-Source-Top) <span class=\"text-muted\" style=\"float:right\">\"custom receiver\", websocket connection, stream toggle</span>\n",
    "5. [Arrange the Dashboard Layout](#Arrange-the-Dashboard-Layout-Top)"
   ]
  },
  {
   "cell_type": "markdown",
   "metadata": {
    "extensions": {
     "jupyter_dashboards": {
      "version": 1,
      "views": {
       "grid_default": {
        "hidden": true
       },
       "report_default": {
        "hidden": false
       }
      }
     }
    }
   },
   "source": [
    "<div class=\"alert alert-info\" role=\"alert\" style=\"margin-top: 10px\">\n",
    "<p><strong>Note</strong><p>\n",
    "\n",
    "<p>We've condensed all of the demo logic into a single notebook for educational purposes. If you want to turn this into a scalable, multi-tenant dashboard, you'll want to separate the stream processing portions from the dashboard view. That way, multiple dashboard instances can pull from the same processed data stream instead of recomputing it.</p>\n",
    "\n",
    "<p> Requires Declarative Widgets v0.6.0+.</p>\n",
    "</div>"
   ]
  },
  {
   "cell_type": "code",
   "execution_count": null,
   "metadata": {
    "collapsed": false,
    "extensions": {
     "jupyter_dashboards": {
      "version": 1,
      "views": {
       "grid_default": {
        "hidden": true
       },
       "report_default": {
        "hidden": false
       }
      }
     }
    }
   },
   "outputs": [],
   "source": [
    "import shutil\n",
    "import tempfile\n",
    "import os\n",
    "import time\n",
    "import json\n",
    "from tornado.websocket import websocket_connect\n",
    "from pyspark import SparkContext\n",
    "from pyspark.streaming import StreamingContext\n",
    "from functools import reduce\n",
    "import pandas as pd\n",
    "import numpy as np"
   ]
  },
  {
   "cell_type": "code",
   "execution_count": null,
   "metadata": {
    "collapsed": false,
    "extensions": {
     "jupyter_dashboards": {
      "version": 1,
      "views": {
       "grid_default": {
        "hidden": true
       },
       "report_default": {}
      }
     }
    }
   },
   "outputs": [],
   "source": [
    "import declarativewidgets as widgets\n",
    "\n",
    "widgets.init()"
   ]
  },
  {
   "cell_type": "markdown",
   "metadata": {
    "extensions": {
     "jupyter_dashboards": {
      "version": 1,
      "views": {
       "grid_default": {
        "hidden": true
       },
       "report_default": {
        "hidden": false
       }
      }
     }
    }
   },
   "source": [
    "## Create the Widgets <span style=\"float: right; font-size: 0.5em\"><a href=\"#Streaming-Meetups-Dashboard\">Top</a></span>\n",
    "\n",
    "We'll start by defining what we want to show in our dashboard, and use that definition to drive the stream processing we'll perform. Just keep in mind that none of the widgets we include here will render anything useful yet.\n",
    "\n",
    "### Topic Bar Chart\n",
    "\n",
    "Here we insert a `<urth-viz-chart>` to show the top 25 meetup topics by occurrence in the stream. Take note of the `<template>` element. We use it to specify that the HTML within will make use of a `counts` channel. We will put data on the `counts` channel later in this notebook."
   ]
  },
  {
   "cell_type": "code",
   "execution_count": null,
   "metadata": {
    "collapsed": false,
    "extensions": {
     "jupyter_dashboards": {
      "version": 1,
      "views": {
       "grid_default": {
        "col": 6,
        "height": 19,
        "hidden": false,
        "row": 10,
        "width": 6
       },
       "report_default": {
        "hidden": false
       }
      }
     }
    }
   },
   "outputs": [],
   "source": [
    "%%html\n",
    "<link rel=\"import\" href=\"urth_components/urth-viz-chart/urth-viz-chart.html\" is=\"urth-core-import\">\n",
    "\n",
    "<template is=\"urth-core-bind\" channel=\"counts\">\n",
    "    <urth-viz-chart type='bar' datarows='[[counts.data]]' columns='[[counts.columns]]' rotatelabels='30'></urth-viz-chart>\n",
    "</template>"
   ]
  },
  {
   "cell_type": "markdown",
   "metadata": {
    "extensions": {
     "jupyter_dashboards": {
      "version": 1,
      "views": {
       "grid_default": {
        "hidden": true
       },
       "report_default": {
        "hidden": false
       }
      }
     }
    }
   },
   "source": [
    "### Topic Filter\n",
    "\n",
    "Next we create an `<urth-core-function>` which that binds the value of a `<paper-input>` widget to a Python function that sets a global variable. The function will set a string that we'll use to filter the incoming events to only pertaining to a certain topic.\n",
    "\n",
    "Notice that the `<link>` tag here is different than what we specified above. `<urth-viz-chart>` is already loaded within the notebook, but here we are using a third-party [Polymer](https://www.polymer-project.org/1.0/) element which needs to download first. To handle that automatically, we specify `is=\"urth-core-import\"` and set the [bower](http://bower.io/) package name as the `package` attribute value."
   ]
  },
  {
   "cell_type": "code",
   "execution_count": null,
   "metadata": {
    "collapsed": true,
    "extensions": {
     "jupyter_dashboards": {
      "version": 1,
      "views": {
       "grid_default": {
        "hidden": true
       },
       "report_default": {
        "hidden": false
       }
      }
     }
    }
   },
   "outputs": [],
   "source": [
    "topic_filter = ''\n",
    "\n",
    "def set_topic_filter(value):\n",
    "    global topic_filter\n",
    "    topic_filter = value"
   ]
  },
  {
   "cell_type": "code",
   "execution_count": null,
   "metadata": {
    "collapsed": false,
    "extensions": {
     "jupyter_dashboards": {
      "version": 1,
      "views": {
       "grid_default": {
        "col": 6,
        "height": 3,
        "hidden": false,
        "row": 7,
        "width": 6
       },
       "report_default": {
        "hidden": false
       }
      }
     }
    }
   },
   "outputs": [],
   "source": [
    "%%html\n",
    "<link rel=\"import\" href=\"urth_components/paper-input/paper-input.html\"\n",
    "    is=\"urth-core-import\" package=\"PolymerElements/paper-input\">\n",
    "    \n",
    "<template is=\"urth-core-bind\" channel=\"filter\" id=\"filter-input\">\n",
    "    <urth-core-function auto\n",
    "        id=\"set_topic_filter\"\n",
    "        ref=\"set_topic_filter\"\n",
    "        arg-value=\"{{topic_filter}}\">\n",
    "    </urth-core-function>\n",
    "        \n",
    "    <paper-input label=\"Filter\" value=\"{{topic_filter}}\"></paper-input>\n",
    "</template>"
   ]
  },
  {
   "cell_type": "markdown",
   "metadata": {
    "extensions": {
     "jupyter_dashboards": {
      "version": 1,
      "views": {
       "grid_default": {
        "hidden": true
       },
       "report_default": {
        "hidden": false
       }
      }
     }
    }
   },
   "source": [
    "### User Card\n",
    "\n",
    "Now we add a simple `<paper-card>` element showing the name and photo of one user who RSVPed recently in the event stream. We add some custom styling and a bit of custom JavaScript in this case to format the datetime associated with the RSVP event."
   ]
  },
  {
   "cell_type": "code",
   "execution_count": null,
   "metadata": {
    "collapsed": false,
    "extensions": {
     "jupyter_dashboards": {
      "version": 1,
      "views": {
       "grid_default": {
        "col": 1,
        "height": 7,
        "hidden": false,
        "row": 3,
        "width": 5
       },
       "report_default": {
        "hidden": false
       }
      }
     }
    }
   },
   "outputs": [],
   "source": [
    "%%html\n",
    "<link rel=\"import\" href=\"urth_components/paper-card/paper-card.html\"\n",
    "    is=\"urth-core-import\" package=\"PolymerElements/paper-card\">\n",
    "\n",
    "<style is=\"custom-style\">\n",
    "    paper-card.meetups-card {\n",
    "        max-width: 400px;\n",
    "        width: 100%;\n",
    "        \n",
    "        --paper-card-header: {\n",
    "            height: 100px;\n",
    "            border-bottom: 1px solid #e8e8e8;\n",
    "        };\n",
    "\n",
    "        --paper-card-header-image: {\n",
    "            height: 80px;\n",
    "            width: 80px !important;\n",
    "            margin: 10px;\n",
    "            border-radius: 50px;\n",
    "            width: auto;\n",
    "            border: 10px solid white;\n",
    "            box-shadow: 0 0 1px 1px #e8e8e8;\n",
    "        };\n",
    "        \n",
    "        --paper-card-header-image-text: {\n",
    "            left: auto;\n",
    "            right: 0px;\n",
    "            width: calc(100% - 130px);\n",
    "            text-align: right;\n",
    "            text-overflow: ellipsis;\n",
    "            overflow: hidden;\n",
    "        };\n",
    "    }\n",
    "    \n",
    "    .meetups-card .card-content a {\n",
    "        display: block;\n",
    "        overflow: hidden;\n",
    "        text-overflow: ellipsis;\n",
    "        white-space: nowrap;\n",
    "    }\n",
    "</style>\n",
    "\n",
    "<template is=\"urth-core-bind\" channel=\"meetups\" id=\"meetup-card\">\n",
    "    <paper-card\n",
    "            class=\"meetups-card\"\n",
    "            heading=\"[[meetup.member.member_name]]\"\n",
    "            image=\"[[meetup.member.photo]]\">\n",
    "        <div class=\"card-content\">\n",
    "            <p><a href=\"[[meetup.event.event_url]]\" target=\"_blank\">[[meetup.event.event_name]]</a></p>\n",
    "            <p>[[getPrettyTime(meetup.event.time)]]</p>\n",
    "        </div>\n",
    "    </paper-card>\n",
    "</template>\n",
    "\n",
    "<!-- see https://github.com/PolymerElements/iron-validator-behavior/blob/master/demo/index.html -->\n",
    "<script>\n",
    "    (function() {\n",
    "        var dateStringOptions = {weekday:'long', year:'numeric', month: 'long', hour:'2-digit', minute:'2-digit', day:'numeric'};\n",
    "        var locale = navigator.language || navigator.browserLanguage || navigator.systemLanguage || navigator.userLanguage;\n",
    "\n",
    "        var scope = document.querySelector('template#meetup-card');\n",
    "        scope.getPrettyTime = function(timestamp) {\n",
    "            var d = new Date(timestamp);\n",
    "            return d.toLocaleDateString(locale, dateStringOptions);\n",
    "        }\n",
    "    })();\n",
    "</script>"
   ]
  },
  {
   "cell_type": "markdown",
   "metadata": {
    "extensions": {
     "jupyter_dashboards": {
      "version": 1,
      "views": {
       "grid_default": {
        "hidden": true
       },
       "report_default": {
        "hidden": false
       }
      }
     }
    }
   },
   "source": [
    "### Map Venues\n",
    "\n",
    "Finally, we add a [WebGL globe](https://github.com/dataarts/webgl-globe) showing the location of meetup venues to which users are RSVPing in the stream. On the globe we render bars to represent the number of recent RSVPs in a geographic area."
   ]
  },
  {
   "cell_type": "code",
   "execution_count": null,
   "metadata": {
    "collapsed": false,
    "extensions": {
     "jupyter_dashboards": {
      "version": 1,
      "views": {
       "grid_default": {
        "col": 0,
        "height": 19,
        "hidden": false,
        "row": 10,
        "width": 6
       },
       "report_default": {
        "hidden": false
       }
      }
     }
    }
   },
   "outputs": [],
   "source": [
    "%%html\n",
    "<link rel=\"import\" href=\"urth_components/webgl-globe/webgl-globe.html\"\n",
    "  is=\"urth-core-import\" package=\"http://github.com/ibm-et/webgl-globe.git\">\n",
    "\n",
    "<template is=\"urth-core-bind\" channel=\"venues\">\n",
    "    <webgl-globe data=[[venue_data]]></webgl-globe>\n",
    "</template>"
   ]
  },
  {
   "cell_type": "markdown",
   "metadata": {
    "extensions": {
     "jupyter_dashboards": {
      "version": 1,
      "views": {
       "grid_default": {
        "hidden": true
       },
       "report_default": {
        "hidden": false
       }
      }
     }
    }
   },
   "source": [
    "## Define the Spark Streaming Job <span style=\"float: right; font-size: 0.5em\"><a href=\"#Streaming-Meetups-Dashboard\">Top</a></span>\n",
    "\n",
    "With the frontend widgest in mind, we'll now setup our Spark Streaming job to fulfill their data requirements. In this section, we'll define a set of functions that act on a `SparkStreamingContext` or `RDDs` from that context."
   ]
  },
  {
   "cell_type": "markdown",
   "metadata": {
    "extensions": {
     "jupyter_dashboards": {
      "version": 1,
      "views": {
       "grid_default": {
        "hidden": true
       },
       "report_default": {
        "hidden": false
       }
      }
     }
    }
   },
   "source": [
    "### Create Spark Contexts\n",
    "\n",
    "Here we create a function that will initialize our Spark contexts. We'll use this function at the end of the notebook when we tie Spark to the data source and a final widget controlling the stream flow."
   ]
  },
  {
   "cell_type": "code",
   "execution_count": null,
   "metadata": {
    "collapsed": true,
    "extensions": {
     "jupyter_dashboards": {
      "version": 1,
      "views": {
       "grid_default": {
        "hidden": true
       },
       "report_default": {
        "hidden": false
       }
      }
     }
    }
   },
   "outputs": [],
   "source": [
    "def create_streaming_context(checkpoint_dir, sample_rate):\n",
    "    '''\n",
    "    Creates a new SparkContext and SparkStreamingContext. Done in a function\n",
    "    to allow repeated start/stop of the streaming. Returns the streaming\n",
    "    context instance.\n",
    "    \n",
    "    :param checkpoint_dir: Directory to use to track Spark job state\n",
    "    :param sample_rate: Stream sampling rate in seconds\n",
    "    '''\n",
    "    # create a local SparkContext to start using as many CPUs as we can\n",
    "    sc = SparkContext('local[*]')\n",
    "    \n",
    "    # wrap it in a StreamingContext that collects from the stream\n",
    "    ssc = StreamingContext(sc, sample_rate)\n",
    "\n",
    "    # Setup a checkpoint directory to keep total counts over time.\n",
    "    ssc.checkpoint(os.path.join(checkpoint_dir, '.checkpoint'))\n",
    "    \n",
    "    return ssc"
   ]
  },
  {
   "cell_type": "markdown",
   "metadata": {
    "extensions": {
     "jupyter_dashboards": {
      "version": 1,
      "views": {
       "grid_default": {
        "hidden": true
       },
       "report_default": {
        "hidden": false
       }
      }
     }
    }
   },
   "source": [
    "### Process Events\n",
    "\n",
    "Next we create a function, `get_events` to parse the RSVP stream JSON events and optionally filter them by topic. We define a few helper functions as well."
   ]
  },
  {
   "cell_type": "code",
   "execution_count": null,
   "metadata": {
    "collapsed": false,
    "extensions": {
     "jupyter_dashboards": {
      "version": 1,
      "views": {
       "grid_default": {
        "hidden": true
       },
       "report_default": {
        "hidden": false
       }
      }
     }
    }
   },
   "outputs": [],
   "source": [
    "def retain_event(event):\n",
    "    '''\n",
    "    Returns true if the user defined topic filter is blank or if at least one\n",
    "    group topic in the event exactly matches the user topic filter string.\n",
    "    '''\n",
    "    global topic_filter\n",
    "    if topic_filter.strip() == '':\n",
    "        return True\n",
    "    return any(topic['urlkey'] == topic_filter for topic in event['group']['group_topics'])\n",
    "\n",
    "def get_events(ssc, queue, for_each):\n",
    "    '''\n",
    "    Parses the events from the queue. Retains only those events that have at\n",
    "    least one topic exactly matching the current topic_filter. Sends event\n",
    "    RDDs to the for_each function. Returns the event DStream.\n",
    "    '''\n",
    "    msgs = ssc.textFileStream(queue)\n",
    "    \n",
    "    # Each event is a JSON blob. Parse it. Filter it.\n",
    "    events = (msgs.map(lambda json_str: json.loads(json_str))\n",
    "                  .filter(lambda event: retain_event(event)))\n",
    "\n",
    "    # Send event data to a widget channel. This will be covered below.\n",
    "    events.foreachRDD(for_each)\n",
    "    \n",
    "    return events"
   ]
  },
  {
   "cell_type": "markdown",
   "metadata": {
    "extensions": {
     "jupyter_dashboards": {
      "version": 1,
      "views": {
       "grid_default": {
        "hidden": true
       },
       "report_default": {
        "hidden": false
       }
      }
     }
    }
   },
   "source": [
    "### Process Topics\n",
    "\n",
    "Now we define `get_topics` to pull the URL key topic from every group sponsoring a meetup event in the stream and update the global topic counts."
   ]
  },
  {
   "cell_type": "code",
   "execution_count": null,
   "metadata": {
    "collapsed": true,
    "extensions": {
     "jupyter_dashboards": {
      "version": 1,
      "views": {
       "grid_default": {
        "hidden": true
       },
       "report_default": {
        "hidden": false
       }
      }
     }
    }
   },
   "outputs": [],
   "source": [
    "def update_topic_counts(new_values, last_sum):\n",
    "    '''\n",
    "    Sums the number of times a topic has been seen in the current sampling\n",
    "    window. Then adds that to the number of times the topic has been\n",
    "    seen in the past. Returns the new sum.\n",
    "    '''\n",
    "    return sum(new_values) + (last_sum or 0)\n",
    "\n",
    "def get_topics(events, for_each):\n",
    "    '''\n",
    "    Pulls group topics from meetup events. Counts each one once and updates\n",
    "    the global topic counts seen since stream start. Sends topic count RDDs\n",
    "    to the for_each function. Returns nothing new.\n",
    "    '''\n",
    "    # Extract the group topic url keys and \"namespace\" them with the current topic filter\n",
    "    topics = (events\n",
    "                .flatMap(lambda event: event['group']['group_topics'])\n",
    "                .map(lambda topic: ((topic_filter if topic_filter else '*', topic['urlkey']), 1)))\n",
    "    \n",
    "    topic_counts = topics.updateStateByKey(update_topic_counts)\n",
    "\n",
    "    # Send topic data to a widget channel. This will be covered below.\n",
    "    topic_counts.foreachRDD(for_each)"
   ]
  },
  {
   "cell_type": "markdown",
   "metadata": {
    "extensions": {
     "jupyter_dashboards": {
      "version": 1,
      "views": {
       "grid_default": {
        "hidden": true
       },
       "report_default": {
        "hidden": false
       }
      }
     }
    }
   },
   "source": [
    "### Process Venues\n",
    "\n",
    "Finally, we add `get_venues` to extract and relay venue metadata."
   ]
  },
  {
   "cell_type": "code",
   "execution_count": null,
   "metadata": {
    "collapsed": false,
    "extensions": {
     "jupyter_dashboards": {
      "version": 1,
      "views": {
       "grid_default": {
        "hidden": true
       },
       "report_default": {
        "hidden": false
       }
      }
     }
    }
   },
   "outputs": [],
   "source": [
    "def get_venues(events, for_each):\n",
    "    '''\n",
    "    Pulls venu metadata from meetup events if it exists. Sends venue \n",
    "    dictionaries RDDs to the for_each function. Returns nothing new.\n",
    "    '''\n",
    "    venues = (events\n",
    "        .filter(lambda event: 'venue' in event)\n",
    "        .map(lambda event: event['venue']))\n",
    "    \n",
    "    # Send topic data to a widget channel\n",
    "    venues.foreachRDD(for_each)"
   ]
  },
  {
   "cell_type": "markdown",
   "metadata": {
    "extensions": {
     "jupyter_dashboards": {
      "version": 1,
      "views": {
       "grid_default": {
        "hidden": true
       },
       "report_default": {
        "hidden": false
       }
      }
     }
    }
   },
   "source": [
    "## Publish Data to Widget Channels <span style=\"float: right; font-size: 0.5em\"><a href=\"#Streaming-Meetups-Dashboard\">Top</a></span>\n",
    "\n",
    "With both the frontend and Spark job definition in hand, we can now begin to link them. Three of our widgets are set to update when they receive data on channels `counts`, `topics`, and `venues`. We'll define functions that publish data on these channels here."
   ]
  },
  {
   "cell_type": "code",
   "execution_count": null,
   "metadata": {
    "collapsed": false,
    "extensions": {
     "jupyter_dashboards": {
      "version": 1,
      "views": {
       "grid_default": {
        "hidden": true
       },
       "report_default": {
        "hidden": false
       }
      }
     }
    }
   },
   "outputs": [],
   "source": [
    "from declarativewidgets import channel"
   ]
  },
  {
   "cell_type": "markdown",
   "metadata": {
    "extensions": {
     "jupyter_dashboards": {
      "version": 1,
      "views": {
       "grid_default": {
        "hidden": true
       },
       "report_default": {
        "hidden": false
       }
      }
     }
    }
   },
   "source": [
    "We'll eventually pass the `sample_event` function as the `for_each` parameter of the `get_events` function that we defined above."
   ]
  },
  {
   "cell_type": "code",
   "execution_count": null,
   "metadata": {
    "collapsed": true,
    "extensions": {
     "jupyter_dashboards": {
      "version": 1,
      "views": {
       "grid_default": {
        "hidden": true
       },
       "report_default": {
        "hidden": false
       }
      }
     }
    }
   },
   "outputs": [],
   "source": [
    "def sample_event(rdd):\n",
    "    '''\n",
    "    Takes an RDD from the event DStream. Takes one event from the RDD.\n",
    "    Substitutes a placeholder photo if the member who RSVPed does not\n",
    "    have one. Publishes the event metadata on the meetup channel.\n",
    "    '''\n",
    "    event = rdd.take(1)\n",
    "    if len(event) > 0:\n",
    "        evt = event[0]\n",
    "        \n",
    "        # use a fallback photo for those members without one\n",
    "        if 'photo' not in evt['member'] or evt['member']['photo'] is None:\n",
    "            evt['member']['photo'] = 'http://photos4.meetupstatic.com/img/noPhoto_50.png'\n",
    "\n",
    "        channel('meetups').set('meetup', evt)"
   ]
  },
  {
   "cell_type": "markdown",
   "metadata": {
    "extensions": {
     "jupyter_dashboards": {
      "version": 1,
      "views": {
       "grid_default": {
        "hidden": true
       },
       "report_default": {
        "hidden": false
       }
      }
     }
    }
   },
   "source": [
    "Likewise, we'll eventually pass the `get_topic_counts` function as the `for_each` parameter value to the `get_topics` function that we defined above."
   ]
  },
  {
   "cell_type": "code",
   "execution_count": null,
   "metadata": {
    "collapsed": true,
    "extensions": {
     "jupyter_dashboards": {
      "version": 1,
      "views": {
       "grid_default": {
        "hidden": true
       },
       "report_default": {
        "hidden": false
       }
      }
     }
    }
   },
   "outputs": [],
   "source": [
    "def get_topic_counts(rdd):\n",
    "    '''\n",
    "    Takes an RDD from the topic DStream. Takes the top 25 topics by occurrence\n",
    "    and publishes them in a pandas DataFrame on the counts channel.\n",
    "    '''\n",
    "    #counts = rdd.takeOrdered(25, key=lambda x: -x[1])\n",
    "    filterStr = topic_filter if topic_filter else '*'\n",
    "    counts = (rdd\n",
    "                .filter(lambda x: x[0][0] == filterStr) # keep only those matching current filter\n",
    "                .takeOrdered(25, key=lambda x: -x[1]))  # sort in descending order, taking top 25\n",
    "    if not counts:\n",
    "        # If there are no data, the bar chart will error out. Instead,\n",
    "        # we send a tuple whose count is zero.\n",
    "        counts = [('NO DATA', 0)]\n",
    "    else:\n",
    "        # Drop the topic filter from the tuple\n",
    "        counts = list(map(lambda x: (x[0][1], x[1]), counts))\n",
    "    df = pd.DataFrame(counts)\n",
    "    channel('counts').set('counts', df)"
   ]
  },
  {
   "cell_type": "markdown",
   "metadata": {
    "extensions": {
     "jupyter_dashboards": {
      "version": 1,
      "views": {
       "grid_default": {
        "hidden": true
       },
       "report_default": {
        "hidden": false
       }
      }
     }
    }
   },
   "source": [
    "And, finally, we'll pass the `aggregate_venues` function as the `for_each` parameter value to the `get_venues` function."
   ]
  },
  {
   "cell_type": "code",
   "execution_count": null,
   "metadata": {
    "collapsed": false,
    "extensions": {
     "jupyter_dashboards": {
      "version": 1,
      "views": {
       "grid_default": {
        "hidden": true
       },
       "report_default": {
        "hidden": false
       }
      }
     }
    }
   },
   "outputs": [],
   "source": [
    "venue_data = []\n",
    "lon_bins = np.linspace(-180, 180, 361)\n",
    "lat_bins = np.linspace(-90, 90, 181)\n",
    "scale=100\n",
    "\n",
    "def aggregate_venues(rdd):\n",
    "    '''\n",
    "    Takes an RDD from the venues DStream. Builds a histogram of events by \n",
    "    latitude and longitude. Publishes the histogram as a list of three-tuples\n",
    "    on the venues channel.\n",
    "    \n",
    "    Note: To improve scalability, this binning should be performed\n",
    "    on the Spark workers, not collected and performed on the driver.\n",
    "    '''\n",
    "    global venue_data\n",
    "\n",
    "    # create new lists from previous data and new incoming venues\n",
    "    venues = rdd.collect()\n",
    "    lats = [v[0] for v in venue_data] + [x['lat'] for x in venues]\n",
    "    lons = [v[1] for v in venue_data] + [x['lon'] for x in venues]\n",
    "    weights = [v[2] for v in venue_data] + ([1./scale] * len(venues))\n",
    "    \n",
    "    # create histogram from aggregate data\n",
    "    density, _, _ = np.histogram2d(lats, lons, [lat_bins, lon_bins], weights=weights)\n",
    "    venue_data = [[lat-90, lon-180, min(mag,1)]\n",
    "                     for lat,dlats in enumerate(density)\n",
    "                     for lon,mag in enumerate(dlats)\n",
    "                     if mag > 0]\n",
    "    \n",
    "    channel('venues').set('venue_data', venue_data)"
   ]
  },
  {
   "cell_type": "markdown",
   "metadata": {
    "extensions": {
     "jupyter_dashboards": {
      "version": 1,
      "views": {
       "grid_default": {
        "hidden": true
       },
       "report_default": {
        "hidden": false
       }
      }
     }
    }
   },
   "source": [
    "## Connect to the Data Source <span style=\"float: right; font-size: 0.5em\"><a href=\"#Streaming-Meetups-Dashboard\">Top</a></span>\n",
    "\n",
    "We're finally ready to connect the meetup.com RSVP websocket server to our Spark job. To do so, we want to write a [custom DStream receiver bridging the Websocket to a `SparkStreamingContext`](http://spark.apache.org/docs/latest/streaming-custom-receivers.html). Unfortunately, we can't write a [custom receiver in Python yet](http://spark.apache.org/docs/latest/streaming-programming-guide.html#custom-sources). We'll work around this limitation by dumping incoming Websocket messages to disk in a ring buffer, and using the Spark `textFileStream` API to read them."
   ]
  },
  {
   "cell_type": "code",
   "execution_count": null,
   "metadata": {
    "collapsed": true,
    "extensions": {
     "jupyter_dashboards": {
      "version": 1,
      "views": {
       "grid_default": {
        "hidden": true
       },
       "report_default": {
        "hidden": false
       }
      }
     }
    }
   },
   "outputs": [],
   "source": [
    "class FileRingReceiver(object):\n",
    "    '''\n",
    "    Hack around lack of custom DStream receivers in Python: \n",
    "    Create a ring buffer of UTF-8 text files on disk.\n",
    "    '''\n",
    "    def __init__(self, max_batches=10):\n",
    "        self.queue = tempfile.mkdtemp()\n",
    "        self.batch_count = 0\n",
    "        self.max_batches = max_batches\n",
    "        \n",
    "    def __del__(self):\n",
    "        self.destroy()\n",
    "        \n",
    "    def put(self, text):\n",
    "        # ignore sentinels\n",
    "        if text is None: return\n",
    "        with open(os.path.join(self.queue, str(self.batch_count)), 'w', encoding='utf-8') as f:\n",
    "            f.write(text)\n",
    "        if self.batch_count >= self.max_batches:\n",
    "            oldest = str(self.batch_count - self.max_batches)\n",
    "            os.remove(os.path.join(self.queue, str(oldest)))\n",
    "        self.batch_count += 1\n",
    "        \n",
    "    def destroy(self):\n",
    "        shutil.rmtree(self.queue, ignore_errors=True)"
   ]
  },
  {
   "cell_type": "markdown",
   "metadata": {
    "extensions": {
     "jupyter_dashboards": {
      "version": 1,
      "views": {
       "grid_default": {
        "hidden": true
       },
       "report_default": {
        "hidden": false
       }
      }
     }
    }
   },
   "source": [
    "We now define a functions to start and stop the stream processing. We track the websocket client, SparkStreamingContext, and ring buffer between start and stop calls."
   ]
  },
  {
   "cell_type": "code",
   "execution_count": null,
   "metadata": {
    "collapsed": true,
    "extensions": {
     "jupyter_dashboards": {
      "version": 1,
      "views": {
       "grid_default": {
        "hidden": true
       },
       "report_default": {
        "hidden": false
       }
      }
     }
    }
   },
   "outputs": [],
   "source": [
    "conn_future = None\n",
    "ssc = None\n",
    "receiver = None"
   ]
  },
  {
   "cell_type": "code",
   "execution_count": null,
   "metadata": {
    "collapsed": false,
    "extensions": {
     "jupyter_dashboards": {
      "version": 1,
      "views": {
       "grid_default": {
        "hidden": true
       },
       "report_default": {
        "hidden": false
       }
      }
     }
    }
   },
   "outputs": [],
   "source": [
    "def start_stream():\n",
    "    '''\n",
    "    Creates a websocket client that pumps events into a ring buffer queue. Creates\n",
    "    a SparkStreamContext that reads from the queue. Creates the events, topics, and\n",
    "    venues DStreams, setting the widget channel publishing functions to iterate over\n",
    "    RDDs in each. Starts the stream processing.\n",
    "    '''\n",
    "    global conn_future\n",
    "    global ssc\n",
    "    global receiver\n",
    "    \n",
    "    receiver = FileRingReceiver(max_batches=100)  \n",
    "    conn_future = websocket_connect('ws://stream.meetup.com/2/rsvps', on_message_callback=receiver.put)\n",
    "    ssc = create_streaming_context(receiver.queue, 5)\n",
    "    events = get_events(ssc, receiver.queue, sample_event)\n",
    "    get_topics(events, get_topic_counts)\n",
    "    get_venues(events, aggregate_venues)\n",
    "    ssc.start()\n",
    "    \n",
    "def shutdown_stream():\n",
    "    '''\n",
    "    Shuts down the websocket, stops the streaming context, and cleans up the file ring.\n",
    "    '''\n",
    "    global conn_future\n",
    "    global ssc\n",
    "    global receiver\n",
    "    \n",
    "    conn_future.result().close()\n",
    "    ssc.stop()\n",
    "    receiver.destroy()"
   ]
  },
  {
   "cell_type": "markdown",
   "metadata": {
    "extensions": {
     "jupyter_dashboards": {
      "version": 1,
      "views": {
       "grid_default": {
        "hidden": true
       },
       "report_default": {
        "hidden": false
       }
      }
     }
    }
   },
   "source": [
    "We give each of these functions a frontend `<urth-core-function>` representation. We bind these functions to a `<paper-toggle-button>` that starts and stops the stream processing."
   ]
  },
  {
   "cell_type": "code",
   "execution_count": null,
   "metadata": {
    "collapsed": false,
    "extensions": {
     "jupyter_dashboards": {
      "version": 1,
      "views": {
       "grid_default": {
        "col": 10,
        "height": 2,
        "hidden": false,
        "row": 0,
        "width": 2
       },
       "report_default": {
        "hidden": false
       }
      }
     }
    },
    "scrolled": false
   },
   "outputs": [],
   "source": [
    "%%html\n",
    "<link rel=\"import\" href=\"urth_components/paper-toggle-button/paper-toggle-button.html\"\n",
    "    is=\"urth-core-import\" package=\"PolymerElements/paper-toggle-button#v1.0.10\">\n",
    "    \n",
    "<template is=\"urth-core-bind\">\n",
    "    <urth-core-function id=\"streamFunc\" ref=\"start_stream\"></urth-core-function>\n",
    "    <urth-core-function id=\"shutdownFunc\" ref=\"shutdown_stream\"></urth-core-function>\n",
    "</template>\n",
    "\n",
    "<style is=\"custom-style\">\n",
    "    paper-toggle-button {\n",
    "        --default-primary-color: green;\n",
    "    }\n",
    "    \n",
    "    paper-toggle-button:hover {\n",
    "        cursor: pointer;\n",
    "    }\n",
    "        \n",
    "    .toggle-btn-container {\n",
    "        margin: 1em 0;\n",
    "        text-align: right;\n",
    "    }\n",
    "    \n",
    "    #stream-label {\n",
    "        font-size: larger;\n",
    "        margin: 0;\n",
    "        padding: 0 0.5em;\n",
    "    }\n",
    "</style>\n",
    "\n",
    "<div class=\"toggle-btn-container\">\n",
    "    <paper-toggle-button id=\"stream-btn\"></paper-toggle-button>\n",
    "    <label id=\"stream-label\">Stream</label>\n",
    "</div>\n",
    "\n",
    "<script>\n",
    "    $('#stream-btn').on('change', function() {\n",
    "        if ($(this).attr('checked')) {\n",
    "            // start streaming\n",
    "            console.warn('Starting Spark Streaming');\n",
    "            $('#streamFunc').get(0).invoke();\n",
    "        } else {\n",
    "            // stop streaming\n",
    "            console.warn('Stopping Spark Streaming');\n",
    "            $('#shutdownFunc').get(0).invoke();\n",
    "        }\n",
    "    });\n",
    "</script>"
   ]
  },
  {
   "cell_type": "markdown",
   "metadata": {
    "collapsed": true,
    "extensions": {
     "jupyter_dashboards": {
      "version": 1,
      "views": {
       "grid_default": {
        "hidden": true
       },
       "report_default": {
        "hidden": false
       }
      }
     }
    }
   },
   "source": [
    "## Arrange the Dashboard Layout <span style=\"float: right; font-size: 0.5em\"><a href=\"#Streaming-Meetups-Dashboard\">Top</a></span>"
   ]
  },
  {
   "cell_type": "markdown",
   "metadata": {
    "extensions": {
     "jupyter_dashboards": {
      "version": 1,
      "views": {
       "grid_default": {
        "hidden": true
       },
       "report_default": {
        "hidden": false
       }
      }
     }
    }
   },
   "source": [
    "Before toggling the stream on/off switch, we should switch to dashboard view. Otherwise, we'll need to scroll up and down this notebook to see the widgets updating. For convenience, this notebook already contains metadata to position our widgets in a grid layout.\n",
    "\n",
    "Select *View > View Dashboard* from the menu bar to see the dashboard view now. Then toggle the stream switch in the top right of the dashboard to begin stream processing. To return to the regular notebook view, select *View > Notebook*.\n",
    "\n",
    "If you want to arrange the notebook cells differently, select *View > Layout Dashboard*. Then, hover your mouse over the main notebook / dashboard area. When you do, you'll see icons appear that allow you to:\n",
    "\n",
    "- Drag cells to new locations\n",
    "- Resize cells\n",
    "- Show / hide cells in the dashboard view\n",
    "- Flip to editing mode for a cell\n",
    "\n",
    "Save the notebook to save your changes to the layout within the notebook file itself.\n",
    "\n",
    "<div class=\"alert alert-info\" role=\"alert\" style=\"margin-top: 10px\">\n",
    "<p><strong>Note</strong><p>\n",
    "\n",
    "<p>in a fresh notebook, the dashboard will only show cells with non-empty output. All other cells can be found in the *Hidden* section at the bottom of the dashboard layout page. You can quickly add all cell outputs or remove all cell outputs from the dashboard using the show / hide icons that appear in the notebook toolbar when you are in layout mode.</p>\n",
    "</div>"
   ]
  }
 ],
 "metadata": {
  "extensions": {
   "jupyter_dashboards": {
    "activeView": "grid_default",
    "version": 1,
    "views": {
     "grid_default": {
      "cellMargin": 10,
      "defaultCellHeight": 20,
      "maxColumns": 12,
      "name": "grid",
      "type": "grid"
     },
     "report_default": {
      "name": "report",
      "type": "report"
     }
    }
   }
  },
  "kernelspec": {
   "display_name": "Python 3",
   "language": "python",
   "name": "python3"
  },
  "language_info": {
   "codemirror_mode": {
    "name": "ipython",
    "version": 3
   },
   "file_extension": ".py",
   "mimetype": "text/x-python",
   "name": "python",
   "nbconvert_exporter": "python",
   "pygments_lexer": "ipython3",
   "version": "3.5.1"
  },
  "widgets": {
   "state": {
    "304EAC49DAAC401B891DC12FEE97C89C": {
     "views": []
    },
    "768543DBAF0047BF81163146BA35A9D2": {
     "views": []
    },
    "AAF4610729E94094B8DF59D5925301EF": {
     "views": []
    },
    "AD053B782389456D8EDD10A4F72E992E": {
     "views": []
    }
   },
   "version": "1.1.2"
  }
 },
 "nbformat": 4,
 "nbformat_minor": 0
}
