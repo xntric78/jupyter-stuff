{
 "cells": [
  {
   "cell_type": "markdown",
   "metadata": {
    "extensions": {
     "jupyter_dashboards": {
      "version": 1,
      "views": {
       "grid_default": {
        "col": 0,
        "height": 3,
        "hidden": false,
        "row": 0,
        "width": 12
       },
       "report_default": {
        "hidden": false
       }
      }
     }
    }
   },
   "source": [
    "# Declarative Widgets in a Dashboard Layout Test"
   ]
  },
  {
   "cell_type": "code",
   "execution_count": null,
   "metadata": {
    "collapsed": false,
    "extensions": {
     "jupyter_dashboards": {
      "version": 1,
      "views": {
       "grid_default": {
        "hidden": true
       },
       "report_default": {}
      }
     }
    }
   },
   "outputs": [],
   "source": [
    "import declarativewidgets as widgets\n",
    "\n",
    "widgets.init()"
   ]
  },
  {
   "cell_type": "markdown",
   "metadata": {
    "extensions": {
     "jupyter_dashboards": {
      "version": 1,
      "views": {
       "grid_default": {
        "col": 0,
        "height": 4,
        "hidden": false,
        "row": 3,
        "width": 3
       },
       "report_default": {
        "hidden": false
       }
      }
     }
    }
   },
   "source": [
    "Here is a `paper-input` widget from the Polymer catalog."
   ]
  },
  {
   "cell_type": "code",
   "execution_count": null,
   "metadata": {
    "collapsed": false,
    "extensions": {
     "jupyter_dashboards": {
      "version": 1,
      "views": {
       "grid_default": {
        "col": 3,
        "height": 4,
        "hidden": false,
        "row": 3,
        "width": 9
       },
       "report_default": {
        "hidden": false
       }
      }
     }
    }
   },
   "outputs": [],
   "source": [
    "%%html\n",
    "<link rel='import' href='urth_components/paper-input/paper-input.html' \n",
    "        is='urth-core-import' package='PolymerElements/paper-input'>\n",
    "\n",
    "<paper-input label=\"Enter some text\"></paper-input>"
   ]
  },
  {
   "cell_type": "markdown",
   "metadata": {
    "extensions": {
     "jupyter_dashboards": {
      "version": 1,
      "views": {
       "grid_default": {
        "col": 0,
        "height": 4,
        "hidden": false,
        "row": 7,
        "width": 3
       },
       "report_default": {
        "hidden": false
       }
      }
     }
    }
   },
   "source": [
    "And here is a `paper-dropdown-menu` widget from the Polymer catalog."
   ]
  },
  {
   "cell_type": "code",
   "execution_count": null,
   "metadata": {
    "collapsed": false,
    "extensions": {
     "jupyter_dashboards": {
      "version": 1,
      "views": {
       "grid_default": {
        "col": 3,
        "height": 4,
        "hidden": false,
        "row": 7,
        "width": 4
       },
       "report_default": {
        "hidden": false
       }
      }
     }
    }
   },
   "outputs": [],
   "source": [
    "%%html\n",
    "<link rel=\"import\" href=\"urth_components/paper-dropdown-menu/paper-dropdown-menu.html\" \n",
    "        is='urth-core-import' package='PolymerElements/paper-dropdown-menu'>\n",
    "<link rel=\"import\" href=\"urth_components/paper-item/paper-item.html\" \n",
    "        is='urth-core-import' package='PolymerElements/paper-item'>\n",
    "\n",
    "<paper-dropdown-menu label=\"Select Something\" noink>\n",
    "    <paper-menu class=\"dropdown-content\" attr-for-selected=\"label\">\n",
    "        <paper-item label=\"A\">A</paper-item>    \n",
    "        <paper-item label=\"B\">B</paper-item>    \n",
    "        <paper-item label=\"C\">C</paper-item>    \n",
    "    </paper-menu>\n",
    "</paper-dropdown-menu>"
   ]
  }
 ],
 "metadata": {
  "celltoolbar": "Section",
  "extensions": {
   "jupyter_dashboards": {
    "activeView": "grid_default",
    "version": 1,
    "views": {
     "grid_default": {
      "cellMargin": 10,
      "defaultCellHeight": 20,
      "maxColumns": 12,
      "name": "grid",
      "type": "grid"
     },
     "report_default": {
      "name": "report",
      "type": "report"
     }
    }
   }
  },
  "kernelspec": {
   "display_name": "Python 3",
   "language": "python",
   "name": "python3"
  },
  "language_info": {
   "codemirror_mode": {
    "name": "ipython",
    "version": 3
   },
   "file_extension": ".py",
   "mimetype": "text/x-python",
   "name": "python",
   "nbconvert_exporter": "python",
   "pygments_lexer": "ipython3",
   "version": "3.5.1"
  },
  "widgets": {
   "state": {
    "3DD167D680C24D5B974608DDB5E98E87": {
     "views": []
    }
   },
   "version": "1.1.2"
  }
 },
 "nbformat": 4,
 "nbformat_minor": 0
}
