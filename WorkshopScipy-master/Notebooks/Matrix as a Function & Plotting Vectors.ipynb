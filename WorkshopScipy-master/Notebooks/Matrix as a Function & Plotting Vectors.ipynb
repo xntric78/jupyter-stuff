{
 "cells": [
  {
   "cell_type": "markdown",
   "metadata": {},
   "source": [
    "# Matrix as a Function & Plotting Vectors\n",
    "** October 2017 **\n",
    "\n",
    "** Andrew Riberio @ [AndrewRib.com](http://www.andrewrib.com) **"
   ]
  },
  {
   "cell_type": "markdown",
   "metadata": {},
   "source": [
    "One of the fundamental concepts that is key to understanding and working with linear algebra is the notion that a matrix represents a linear transformation aka a linear function. This notebook will show you why that is.\n",
    "\n",
    "**Questions explored by this notebook**\n",
    "* Why is linear algebra called 'linear' algebra.\n",
    "* How does a matrix represent a linear function?\n",
    "* What is the geometric interpretation of linear funcitons?\n",
    "* How do we plot vectors using matplotlib?\n",
    "\n",
    "** Resources **\n",
    "* https://matplotlib.org/devdocs/api/_as_gen/matplotlib.axes.Axes.quiver.html"
   ]
  },
  {
   "cell_type": "markdown",
   "metadata": {},
   "source": [
    "## Libraries"
   ]
  },
  {
   "cell_type": "code",
   "execution_count": 214,
   "metadata": {
    "collapsed": true
   },
   "outputs": [],
   "source": [
    "import sympy as sp\n",
    "import numpy as np\n",
    "import matplotlib.pyplot as plt"
   ]
  },
  {
   "cell_type": "markdown",
   "metadata": {},
   "source": [
    "## Matrices as Linear Functions"
   ]
  },
  {
   "cell_type": "markdown",
   "metadata": {},
   "source": [
    "A matrix defines a linear function. A matrix multiplied by a vector is equivalent of applying a linear function. A matrix multiplied by another matrix is equivalent to function composition. Below we have a matrix *a* and it's equivalent function defintion *fn*. We show here how they are equivalent. See the notebook *Linear Vs. Non-Linear Functions* for why we can define a linear function as a matrix. "
   ]
  },
  {
   "cell_type": "code",
   "execution_count": 215,
   "metadata": {},
   "outputs": [
    {
     "data": {
      "image/png": "[encoded data removed]",
      "text/latex": [
       "$$\\left[\\begin{matrix}2 & 1\\\\1 & 2\\end{matrix}\\right]$$"
      ],
      "text/plain": [
       "⎡2  1⎤\n",
       "⎢    ⎥\n",
       "⎣1  2⎦"
      ]
     },
     "execution_count": 215,
     "metadata": {},
     "output_type": "execute_result"
    }
   ],
   "source": [
    "sp.init_printing()\n",
    "def fn(x,y):\n",
    "    return sp.Matrix( [2*x + 1*y, (1*x+2*y)] )\n",
    "\n",
    "a = sp.Matrix([[2,1],[1,2]]) # 2 * 2\n",
    "b = sp.Matrix([2,2]) # 2 * 1\n",
    "a"
   ]
  },
  {
   "cell_type": "code",
   "execution_count": 216,
   "metadata": {},
   "outputs": [
    {
     "data": {
      "image/png": "[encoded data removed]",
      "text/latex": [
       "$$\\left[\\begin{matrix}6\\\\6\\end{matrix}\\right]$$"
      ],
      "text/plain": [
       "⎡6⎤\n",
       "⎢ ⎥\n",
       "⎣6⎦"
      ]
     },
     "execution_count": 216,
     "metadata": {},
     "output_type": "execute_result"
    }
   ],
   "source": [
    "a * b"
   ]
  },
  {
   "cell_type": "code",
   "execution_count": 217,
   "metadata": {},
   "outputs": [
    {
     "data": {
      "image/png": "[encoded data removed]",
      "text/latex": [
       "$$\\left[\\begin{matrix}6\\\\6\\end{matrix}\\right]$$"
      ],
      "text/plain": [
       "⎡6⎤\n",
       "⎢ ⎥\n",
       "⎣6⎦"
      ]
     },
     "execution_count": 217,
     "metadata": {},
     "output_type": "execute_result"
    }
   ],
   "source": [
    "fn(2,2)"
   ]
  },
  {
   "cell_type": "markdown",
   "metadata": {},
   "source": [
    "## Plotting Vectors"
   ]
  },
  {
   "cell_type": "markdown",
   "metadata": {},
   "source": [
    "Due to linear algebra having such a strong geometric interpretation, it's helpful to have the tools to visualize what's going on. Here we will discuss how to plot vectors using matplotlib. "
   ]
  },
  {
   "cell_type": "code",
   "execution_count": 218,
   "metadata": {},
   "outputs": [
    {
     "data": {
      "image/png": "[encoded data removed]",
      "text/plain": [
       "<matplotlib.figure.Figure at 0x1ceb648bd68>"
      ]
     },
     "metadata": {},
     "output_type": "display_data"
    }
   ],
   "source": [
    "# [start_loc_x, start_loc_y, x_magintute, y_magintude]\n",
    "vects = np.array([[0, 2, 2, 0], \n",
    "                  [0, 2, 0, 2],\n",
    "                  [0, 4, 2, 0],\n",
    "                  [2, 2, 0, 2]])\n",
    "\n",
    "# Unpack vects into their respective tupules.\n",
    "X_LOC, Y_LOC, X_MAG, Y_MAG = zip(*vects)\n",
    "\n",
    "plt.figure()\n",
    "\n",
    "# GCA = Get current axes.\n",
    "ax = plt.gca()\n",
    "ax.quiver(X_LOC, Y_LOC, X_MAG, Y_MAG, angles='xy', scale_units='xy', scale=1)\n",
    "\n",
    "# Set the scale of the tics on the x and y axes. \n",
    "ax.set_xlim([-1, 10])\n",
    "ax.set_ylim([-1, 10])\n",
    "\n",
    "plt.show()"
   ]
  },
  {
   "cell_type": "markdown",
   "metadata": {},
   "source": [
    "## Linear Transformations"
   ]
  },
  {
   "cell_type": "markdown",
   "metadata": {},
   "source": [
    "In this section we will define a rectagle by a series of points, then we will define a linear transformation, a matrix, that transforms these points, thereby transforming the defined rectangle. First we will start by defining a function, *plotRect*, which plots a rectangle."
   ]
  },
  {
   "cell_type": "code",
   "execution_count": 219,
   "metadata": {
    "collapsed": true
   },
   "outputs": [],
   "source": [
    "def plotRect(lb,lt,rt,rb):\n",
    "    \n",
    "    plt.figure(figsize=(8, 8))\n",
    "    ax = plt.gca()\n",
    "    \n",
    "    # Setup grid and axes. \n",
    "    ax.axhline(linewidth=2.0, color=\"black\")\n",
    "    ax.axvline(linewidth=2.0, color=\"black\")\n",
    "    ax.grid(color='b', linestyle='-', linewidth=1)\n",
    "    \n",
    "    ax.set_yticks(range(-10,11))\n",
    "    ax.set_xticks(range(-10,11))\n",
    "\n",
    "    # Set the scale of the tics on the x and y axes. \n",
    "    ax.set_xlim([-10, 10])\n",
    "    ax.set_ylim([-10, 10])\n",
    "    \n",
    "    # Plot square based on points. \n",
    "    # [x1,x2],[y1,y2]\n",
    "    plt.plot([lb[0],lt[0]], [lb[1],lt[1]], 'k-', lw=2)\n",
    "    plt.plot([lt[0],rt[0]], [lt[1],rt[1]], 'k-', lw=2)\n",
    "    plt.plot([rt[0],rb[0]], [rt[1],rb[1]], 'k-', lw=2)\n",
    "    plt.plot([rb[0],lb[0]], [rb[1],lb[1]], 'k-', lw=2)\n",
    "\n",
    "    plt.show()"
   ]
  },
  {
   "cell_type": "markdown",
   "metadata": {},
   "source": [
    "Now we will define a rectangle by a series of points, (lb,lt,rt,br), and plot it using our above function."
   ]
  },
  {
   "cell_type": "code",
   "execution_count": 220,
   "metadata": {},
   "outputs": [
    {
     "data": {
      "image/png": "[encoded data removed]",
      "text/plain": [
       "<matplotlib.figure.Figure at 0x1ceb64ac7f0>"
      ]
     },
     "metadata": {},
     "output_type": "display_data"
    }
   ],
   "source": [
    "# Left bottom point\n",
    "lb = sp.Matrix([0,0])\n",
    "# Left top point\n",
    "lt = sp.Matrix([0,4])\n",
    "# Right top point\n",
    "rt = sp.Matrix([4,4])\n",
    "# Bottom right point\n",
    "\n",
    "rb = sp.Matrix([4,0])\n",
    "\n",
    "plotRect(lb,lt,rt,rb)"
   ]
  },
  {
   "cell_type": "markdown",
   "metadata": {},
   "source": [
    "Let's definine a funciton that applies a 2 * 2 matrix to four points that we will use to transform the rectangle defined by the points above. "
   ]
  },
  {
   "cell_type": "code",
   "execution_count": 221,
   "metadata": {
    "collapsed": true
   },
   "outputs": [],
   "source": [
    "def transform(m,lb,lt,rt,rb):\n",
    "    lb_o = m * lb\n",
    "    lt_o = m * lt\n",
    "    rt_o = m * rt\n",
    "    rb_o = m * rb\n",
    "    \n",
    "    return [lb_o,lt_o,rt_o,rb_o]"
   ]
  },
  {
   "cell_type": "markdown",
   "metadata": {},
   "source": [
    "We will now define a matrix which we we will use to transform the rectangle. "
   ]
  },
  {
   "cell_type": "code",
   "execution_count": 222,
   "metadata": {},
   "outputs": [
    {
     "data": {
      "image/png": "[encoded data removed]",
      "text/latex": [
       "$$\\left[\\begin{matrix}1 & 0\\\\0 & 1\\end{matrix}\\right]$$"
      ],
      "text/plain": [
       "⎡1  0⎤\n",
       "⎢    ⎥\n",
       "⎣0  1⎦"
      ]
     },
     "execution_count": 222,
     "metadata": {},
     "output_type": "execute_result"
    }
   ],
   "source": [
    "# M is an identity matrix. \n",
    "m = sp.Matrix([[1,0],[0,1]])\n",
    "m"
   ]
  },
  {
   "cell_type": "code",
   "execution_count": 223,
   "metadata": {},
   "outputs": [
    {
     "data": {
      "image/png": "[encoded data removed]",
      "text/plain": [
       "<matplotlib.figure.Figure at 0x1ceb6657c18>"
      ]
     },
     "metadata": {},
     "output_type": "display_data"
    }
   ],
   "source": [
    "lb_t,lt_t,rt_t,rb_t = transform(m,lb,lt,rt,rb)\n",
    "plotRect(lb_t,lt_t,rt_t,rb_t)"
   ]
  },
  {
   "cell_type": "markdown",
   "metadata": {},
   "source": [
    "As we see, the identity matrix preserves the original size of the square. Let's now play around with different matricies to see how they spatially transform the rectangle. "
   ]
  },
  {
   "cell_type": "code",
   "execution_count": 224,
   "metadata": {},
   "outputs": [
    {
     "data": {
      "image/png": "[encoded data removed]",
      "text/latex": [
       "$$\\left[\\begin{matrix}2 & 0\\\\0 & 2\\end{matrix}\\right]$$"
      ],
      "text/plain": [
       "⎡2  0⎤\n",
       "⎢    ⎥\n",
       "⎣0  2⎦"
      ]
     },
     "execution_count": 224,
     "metadata": {},
     "output_type": "execute_result"
    }
   ],
   "source": [
    "m = sp.Matrix([[2,0],[0,2]])\n",
    "m"
   ]
  },
  {
   "cell_type": "code",
   "execution_count": 225,
   "metadata": {},
   "outputs": [
    {
     "data": {
      "image/png": "[encoded data removed]",
      "text/plain": [
       "<matplotlib.figure.Figure at 0x1ceb65d0b70>"
      ]
     },
     "metadata": {},
     "output_type": "display_data"
    }
   ],
   "source": [
    "lb_t,lt_t,rt_t,rb_t = transform(m,lb,lt,rt,rb)\n",
    "plotRect(lb_t,lt_t,rt_t,rb_t)"
   ]
  },
  {
   "cell_type": "markdown",
   "metadata": {},
   "source": [
    "As we see, changing the values on the diagonal scales the rectangle. "
   ]
  },
  {
   "cell_type": "code",
   "execution_count": 226,
   "metadata": {},
   "outputs": [
    {
     "data": {
      "image/png": "[encoded data removed]",
      "text/latex": [
       "$$\\left[\\begin{matrix}1 & 0\\\\0 & -1\\end{matrix}\\right]$$"
      ],
      "text/plain": [
       "⎡1  0 ⎤\n",
       "⎢     ⎥\n",
       "⎣0  -1⎦"
      ]
     },
     "execution_count": 226,
     "metadata": {},
     "output_type": "execute_result"
    }
   ],
   "source": [
    "m = sp.Matrix([[1,0],[0,-1]])\n",
    "m"
   ]
  },
  {
   "cell_type": "code",
   "execution_count": 227,
   "metadata": {},
   "outputs": [
    {
     "data": {
      "image/png": "[encoded data removed]",
      "text/plain": [
       "<matplotlib.figure.Figure at 0x1ceb67839b0>"
      ]
     },
     "metadata": {},
     "output_type": "display_data"
    }
   ],
   "source": [
    "lb_t,lt_t,rt_t,rb_t = transform(m,lb,lt,rt,rb)\n",
    "plotRect(lb_t,lt_t,rt_t,rb_t)"
   ]
  },
  {
   "cell_type": "markdown",
   "metadata": {},
   "source": [
    "As we see, changing the signs on the diagonal translates the rectangle over an axis. "
   ]
  },
  {
   "cell_type": "code",
   "execution_count": 236,
   "metadata": {},
   "outputs": [
    {
     "data": {
      "image/png": "[encoded data removed]",
      "text/latex": [
       "$$\\left[\\begin{matrix}1 & 0\\\\1 & 1\\end{matrix}\\right]$$"
      ],
      "text/plain": [
       "⎡1  0⎤\n",
       "⎢    ⎥\n",
       "⎣1  1⎦"
      ]
     },
     "execution_count": 236,
     "metadata": {},
     "output_type": "execute_result"
    }
   ],
   "source": [
    "m = sp.Matrix([[1,0],[1,1]])\n",
    "m"
   ]
  },
  {
   "cell_type": "code",
   "execution_count": 237,
   "metadata": {},
   "outputs": [
    {
     "data": {
      "image/png": "[encoded data removed]",
      "text/plain": [
       "<matplotlib.figure.Figure at 0x1ceb68edb00>"
      ]
     },
     "metadata": {},
     "output_type": "display_data"
    }
   ],
   "source": [
    "lb_t,lt_t,rt_t,rb_t = transform(m,lb,lt,rt,rb)\n",
    "plotRect(lb_t,lt_t,rt_t,rb_t)"
   ]
  },
  {
   "cell_type": "markdown",
   "metadata": {},
   "source": [
    "When we start changing the values on the counterdiagonal, we start skewing the rectangle. By changing the values on the diagonal and counterdiagonal, we can perform any linear transformation to our square. If we apply successive linear transformations, affine transformations, we can do things like rotation. Play around with the values for the matrix to see how different values result in different linear transformations of the rectangle. "
   ]
  }
 ],
 "metadata": {
  "kernelspec": {
   "display_name": "Python 3",
   "language": "python",
   "name": "python3"
  },
  "language_info": {
   "codemirror_mode": {
    "name": "ipython",
    "version": 3
   },
   "file_extension": ".py",
   "mimetype": "text/x-python",
   "name": "python",
   "nbconvert_exporter": "python",
   "pygments_lexer": "ipython3",
   "version": "3.5.3"
  }
 },
 "nbformat": 4,
 "nbformat_minor": 2
}
