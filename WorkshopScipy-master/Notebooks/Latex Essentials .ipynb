{
 "cells": [
  {
   "cell_type": "markdown",
   "metadata": {},
   "source": [
    "$$\n",
    "\\huge\\text{Latex Essentials}\\\\\n",
    "\\text{Andrew Ribeiro}\\\\\n",
    "\\text{2017}\n",
    "$$\n",
    "\n",
    "LaTex is a robust typesetting system which is used ubiquitously in scientific publications and mathematical documents. With a working knowledge of LaTex, you can make beautiful scientific documents and express your mathematical constructions easily. Jupyter notebooks allow us embed LaTex in markdown cells using the double dollar sign block ```$$ Your latex here $$```, so we can use LaTex to document our mathematical notebooks easily! This guide will show you the basics of using LaTex in Jupyter notebooks. \n",
    "\n",
    "** Double click any cell to reveal the LaTex code. **\n",
    "\n",
    "Resources and Tools\n",
    "* https://www.sharelatex.com/learn/\n",
    "* https://www.latex4technics.com/\n",
    "* https://math.meta.stackexchange.com/questions/5020/mathjax-basic-tutorial-and-quick-reference"
   ]
  },
  {
   "cell_type": "markdown",
   "metadata": {},
   "source": [
    "## Basic Formatting and Embedding Latex"
   ]
  },
  {
   "cell_type": "markdown",
   "metadata": {},
   "source": [
    "We can use single dollar signs to embedd latex in a markdown sentence. Let's say we want to talk about a function $f(x)$ in some text and refer to $x$ as well. This is how you'd go about it. "
   ]
  },
  {
   "cell_type": "markdown",
   "metadata": {},
   "source": [
    "If you want to put a snippet of LaTex on its own dedicated line, use double dollar signs. \n",
    "\n",
    "$$ \\text{This is a dedicated LaTex line}$$\n",
    "\n",
    "Within some latex block, you can write multiple lines as such:\n",
    "\n",
    "$$ \\text{Line 1} \\\\ \\text{Line 2} $$\n",
    "\n",
    "You can adjust the size of each line as such: \n",
    "\n",
    "$$ \\huge \\text{This is a big line} \\\\ \n",
    "\\large \\text{This is a smaller, but still big } \\\\\n",
    "\\text{This is a normal size} \\\\\n",
    "\\small \\text{This is a smaller size} \n",
    "$$\n",
    "\n",
    "For more complex statements you must use the begin and end commands:\n",
    "\n",
    "```$$\\begin{align} your latex \\end{align}$$``` \n",
    "\n",
    "The following snippets use this. \n",
    "\n",
    "You can also give each line a tag if you'd like to refer to them later. \n",
    "\n",
    "$$ \n",
    "\\begin{align}\n",
    "\\text{Line 1} \\tag 1 \\\\\n",
    "\\text{Line 2} \\tag 2\n",
    "\\end{align}\n",
    "$$\n",
    "\n",
    "You can arrange things in columns and rows using the double ampersand. \n",
    "\n",
    "$$ \n",
    "\\begin{align}\n",
    "\\text{This} && \\text{Is} && \\text{sparta} \\\\\n",
    "\\text{no} && \\text{this} && \\text{is} && \\text{columns} \\\\\n",
    "&& \\text{and} && \\text{rows}\n",
    "\\end{align}\n",
    "$$\n",
    "\n",
    "You can  keep equations aligned by using the single ampersand.: \n",
    "\n",
    "$$\n",
    "\\begin{align}\n",
    "f(x) &= \\frac{x(x+1)}{2} \\\\\n",
    "& = equiv \\\\\n",
    "& = equiv\n",
    "\\end{align}\n",
    "$$\n"
   ]
  },
  {
   "cell_type": "markdown",
   "metadata": {},
   "source": [
    "## Essentials "
   ]
  },
  {
   "cell_type": "markdown",
   "metadata": {},
   "source": [
    "#### Fractions\n",
    "$$\\frac{2}{\\frac{2}{3}+5}+\\frac{1}{2}$$\n",
    "\n",
    "#### Matrices\n",
    "$$\n",
    "\\large\\begin{bmatrix}\n",
    "n && n-1 && n-2 && \\dots && 0 \\\\\n",
    "0 && 1 && 2 && \\dots&& n\n",
    "\\end{bmatrix}^\\intercal\n",
    "$$\n",
    "\n",
    "#### Sums\n",
    "$$ \\large\\sum_{i=1}^{n}{i} = \\frac{n(n+1)}{2} $$\n",
    "\n",
    "#### Products\n",
    "$$\n",
    "\\large\\prod_{i=1}^{n}{i}\n",
    "$$\n",
    "\n",
    "#### Calculus\n",
    "$$\\int_{a}^{b} x^2 dx$$\n",
    "\n",
    "$$\\lim_{x\\to\\infty} f(x)$$\n"
   ]
  },
  {
   "cell_type": "markdown",
   "metadata": {},
   "source": [
    "## Examples"
   ]
  },
  {
   "cell_type": "markdown",
   "metadata": {},
   "source": [
    "$$\n",
    "\\large\\sum_{i=1}^{n}{i} = \\frac{n(n+1)}{2} = \n",
    "\\frac{\n",
    "\\begin{bmatrix}\n",
    "1\\\\\n",
    "1\n",
    "\\end{bmatrix}^\\intercal\n",
    "\\begin{bmatrix}\n",
    "n && n-1 && n-2 && \\dots && 0 \\\\\n",
    "0 && 1 && 2 && \\dots&& n\n",
    "\\end{bmatrix}\n",
    "\\begin{bmatrix}\n",
    "1&&1&&\\dots&& n\n",
    "\\end{bmatrix}^\\intercal}{2}\n",
    "$$\n"
   ]
  },
  {
   "cell_type": "markdown",
   "metadata": {},
   "source": [
    "From Mike\n",
    "\n",
    "$$\n",
    "\\begin{align}\n",
    "\\frac{\\partial{f}}{\\partial{v_{0}}} & = \\frac{1}{2} \\frac{\\partial}{\\partial{v_{0}}} (( A_{00}v_{0} + A_{01}v_{1} - b_{0} )^{2}) + \\frac{1}{2} \\frac{\\partial}{\\partial{v_{0}}} (( A_{10}v_{0} + A_{11}v_{1} - b_{1} )^{2}) && \\tag 6\\\\\n",
    "& = \\frac{1}{2} 2 ( A_{00}v_{0} + A_{01}v_{1} - b_{0} ) \\frac{\\partial}{\\partial{v_{0}}} ( A_{00}v_{0} + A_{01}v_{1} - b_{0} ) + \\frac{1}{2} 2 ( A_{10}v_{0} + A_{11}v_{1} - b_{1} ) \\frac{\\partial}{\\partial{v_{0}}} ( A_{10}v_{0} + A_{11}v_{1} - b_{1} ) && \\tag 7\\\\ \n",
    "& = A_{00}( A_{00}v_{0} + A_{01}v_{1} - b_{0} ) + A_{10} (A_{10}v_{0} + A_{11}v_{1} - b_{1}) && \\tag 8\\\\\n",
    "\\end{align}\n",
    "$$"
   ]
  },
  {
   "cell_type": "markdown",
   "metadata": {},
   "source": [
    "$$\n",
    "f(\\mathbf{x}) = \\frac{1}{2} \\lVert \\mathbf{A}\\mathbf{x} - \\mathbf{b} \\rVert^{2}_{2}\n",
    "$$"
   ]
  },
  {
   "cell_type": "markdown",
   "metadata": {},
   "source": [
    "$$\n",
    "\\begin{align}\n",
    "\\nabla_{\\mathbf{v}}f(\\mathbf{v}) & = \\begin{bmatrix}A_{00}&A_{10}\\\\A_{01}&A_{11}\\\\ \\end{bmatrix} \\begin{bmatrix}A_{00}v_{0} + A_{01}v_{1} - b_{0}\\\\A_{10}v_{0} + A_{11}v_{1} - b_{1}\\\\ \\end{bmatrix} && \\tag{11}\\\\\n",
    "& = \\mathbf{A}^T(\\mathbf{A}\\mathbf{x} - \\mathbf{b}) && \\tag{qed}\\\\\n",
    "\\end{align}\n",
    "$$"
   ]
  },
  {
   "cell_type": "markdown",
   "metadata": {},
   "source": [
    "$$\n",
    "\\begin{align}\n",
    "Pr(x,y)Pr(z|w,x,y)Pr(w|x,y)\n",
    "& = Pr(z|w,x,y)Pr(w|x,y)Pr(x,y) &&\\text{rearrange} \\tag 1\\\\\n",
    "& = Pr(z|w,x,y)Pr(w,x,y) &&\\text{prince 2.5} \\tag 2\\\\\n",
    "& = \\frac{Pr(w,x,y,z)}{Pr(w,x,y)}Pr(w,x,y) &&\\text{bayes rule on left factor of (2)} \\tag 3\\\\\n",
    "& = Pr(w,x,y,z) &&\\text{terms cancel} \\tag 4\\\\\n",
    "\\end{align}\n",
    "$$"
   ]
  }
 ],
 "metadata": {
  "kernelspec": {
   "display_name": "Python 3",
   "language": "python",
   "name": "python3"
  },
  "language_info": {
   "codemirror_mode": {
    "name": "ipython",
    "version": 3
   },
   "file_extension": ".py",
   "mimetype": "text/x-python",
   "name": "python",
   "nbconvert_exporter": "python",
   "pygments_lexer": "ipython3",
   "version": "3.5.3"
  }
 },
 "nbformat": 4,
 "nbformat_minor": 2
}
