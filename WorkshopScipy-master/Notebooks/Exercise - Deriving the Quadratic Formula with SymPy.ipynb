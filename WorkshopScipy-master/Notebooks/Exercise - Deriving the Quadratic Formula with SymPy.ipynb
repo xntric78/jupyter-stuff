{
 "cells": [
  {
   "cell_type": "markdown",
   "metadata": {},
   "source": [
    "$$\n",
    "\\huge \\text{Deriving the Quadratic Formula with SymPy}\\\\\n",
    "\\large \\text{Andrew Ribeiro}\\\\\n",
    "\\text{December 2017}\n",
    "$$"
   ]
  },
  {
   "cell_type": "code",
   "execution_count": 1,
   "metadata": {
    "collapsed": true
   },
   "outputs": [],
   "source": [
    "import sympy as sp\n",
    "from IPython.display import display\n",
    "sp.init_printing(order=\"lex\",use_latex='mathjax')"
   ]
  },
  {
   "cell_type": "markdown",
   "metadata": {
    "collapsed": true
   },
   "source": [
    "Quadratic equations are of the form: \n",
    "\n",
    "$$ ax^2 + bx^1 + cx^0 = ax^2 + bx + c = 0$$\n",
    "\n",
    "Where $a,b,c$ are coeficients. The coeficients can be integers, real numbers, or imaginary numbers. We know from the quadratic formula that such equations can be solved for x by completing the square. In this exercise we will use SymPy to help us derive the quadratic formula. Let's first define some symbols we will use in our symbolic calculations. "
   ]
  },
  {
   "cell_type": "code",
   "execution_count": 2,
   "metadata": {},
   "outputs": [],
   "source": [
    "a,b,c = sp.symbols(\"a b c\")\n",
    "z,k = sp.symbols(\"z k\")\n",
    "x = sp.symbols(\"x\")"
   ]
  },
  {
   "cell_type": "markdown",
   "metadata": {},
   "source": [
    "Now we can easily represent the quadratic equation."
   ]
  },
  {
   "cell_type": "code",
   "execution_count": 3,
   "metadata": {},
   "outputs": [
    {
     "data": {
      "text/latex": [
       "$$a x^{2} + b x + c = 0$$"
      ],
      "text/plain": [
       "   2              \n",
       "a⋅x  + b⋅x + c = 0"
      ]
     },
     "execution_count": 3,
     "metadata": {},
     "output_type": "execute_result"
    }
   ],
   "source": [
    "lhs = a*x**2 + b*x + c\n",
    "rhs = 0 \n",
    "quadraticEqn = sp.Eq(lhs,rhs)\n",
    "quadraticEqn"
   ]
  },
  {
   "cell_type": "markdown",
   "metadata": {},
   "source": [
    "## Completing the square \n",
    "\n",
    "Before we start our derivation, let's talk about completing the square. Say we have binomial rased to a power. "
   ]
  },
  {
   "cell_type": "code",
   "execution_count": 4,
   "metadata": {},
   "outputs": [
    {
     "data": {
      "text/latex": [
       "$$\\left(a + b\\right)^{2}$$"
      ],
      "text/plain": [
       "       2\n",
       "(a + b) "
      ]
     },
     "execution_count": 4,
     "metadata": {},
     "output_type": "execute_result"
    }
   ],
   "source": [
    "f =(a+b)**2\n",
    "f"
   ]
  },
  {
   "cell_type": "markdown",
   "metadata": {},
   "source": [
    "If we expand this we get the form: "
   ]
  },
  {
   "cell_type": "code",
   "execution_count": 5,
   "metadata": {},
   "outputs": [
    {
     "data": {
      "text/latex": [
       "$$a^{2} + 2 a b + b^{2}$$"
      ],
      "text/plain": [
       " 2            2\n",
       "a  + 2⋅a⋅b + b "
      ]
     },
     "execution_count": 5,
     "metadata": {},
     "output_type": "execute_result"
    }
   ],
   "source": [
    "fExp = f.expand()\n",
    "fExp"
   ]
  },
  {
   "cell_type": "markdown",
   "metadata": {},
   "source": [
    "Going from this expanded form back to the binomial is called *factoring.*"
   ]
  },
  {
   "cell_type": "code",
   "execution_count": 6,
   "metadata": {},
   "outputs": [
    {
     "data": {
      "text/latex": [
       "$$\\left(a + b\\right)^{2}$$"
      ],
      "text/plain": [
       "       2\n",
       "(a + b) "
      ]
     },
     "execution_count": 6,
     "metadata": {},
     "output_type": "execute_result"
    }
   ],
   "source": [
    "fExp.factor()"
   ]
  },
  {
   "cell_type": "markdown",
   "metadata": {},
   "source": [
    "We use SymPy to define a function for completing the square of a symbolic polynomial. This will work for different types of polynomials, but in the case of a quadratic, this works by solving for $z$ and $k$: \n",
    "\n",
    "$$\n",
    "ax^2 + bx + c = (x+z)^2 + k \\\\\n",
    "ax^2 + bx + c - (x+z)^2 + k = 0\n",
    "$$"
   ]
  },
  {
   "cell_type": "code",
   "execution_count": 7,
   "metadata": {},
   "outputs": [],
   "source": [
    "def completeSquare(poly):\n",
    "    z,k = sp.symbols(\"z k\")\n",
    "    completedSquareForm = (x+z)**2+k\n",
    "    sol = sp.solve(poly-completedSquareForm,[z,k])\n",
    "    squareRes = sp.Pow(x+sol[0][0],2,evaluate=False)\n",
    "    constantRes = sol[0][1]\n",
    "    return squareRes + constantRes\n"
   ]
  },
  {
   "cell_type": "markdown",
   "metadata": {},
   "source": [
    "Consider the following polynomial, which is not a perfect square. "
   ]
  },
  {
   "cell_type": "code",
   "execution_count": 8,
   "metadata": {},
   "outputs": [
    {
     "data": {
      "text/latex": [
       "$$x^{2} + 10 x + 28$$"
      ],
      "text/plain": [
       " 2            \n",
       "x  + 10⋅x + 28"
      ]
     },
     "execution_count": 8,
     "metadata": {},
     "output_type": "execute_result"
    }
   ],
   "source": [
    "poly1 = x**2 + 10*x + 28\n",
    "poly1"
   ]
  },
  {
   "cell_type": "markdown",
   "metadata": {},
   "source": [
    "If we try to factor this with SymPy it will throw up its hands and do nothing because it cannot be factored. "
   ]
  },
  {
   "cell_type": "code",
   "execution_count": 9,
   "metadata": {},
   "outputs": [
    {
     "data": {
      "text/latex": [
       "$$x^{2} + 10 x + 28$$"
      ],
      "text/plain": [
       " 2            \n",
       "x  + 10⋅x + 28"
      ]
     },
     "execution_count": 9,
     "metadata": {},
     "output_type": "execute_result"
    }
   ],
   "source": [
    "poly1.factor()"
   ]
  },
  {
   "cell_type": "markdown",
   "metadata": {},
   "source": [
    "We still can, however, complete the square. "
   ]
  },
  {
   "cell_type": "code",
   "execution_count": 10,
   "metadata": {},
   "outputs": [
    {
     "data": {
      "text/latex": [
       "$$x^{2} + 10 x + 28 = c + \\left(b + x\\right)^{2}$$"
      ],
      "text/plain": [
       " 2                          2\n",
       "x  + 10⋅x + 28 = c + (b + x) "
      ]
     },
     "execution_count": 10,
     "metadata": {},
     "output_type": "execute_result"
    }
   ],
   "source": [
    "completedSquareForm = (x+b)**2+c\n",
    "poly1Eqn = sp.Eq(poly1,completedSquareForm)\n",
    "poly1Eqn"
   ]
  },
  {
   "cell_type": "code",
   "execution_count": 11,
   "metadata": {},
   "outputs": [
    {
     "data": {
      "text/latex": [
       "$$x^{2} + 10 x + 28 = c + \\left(b + x\\right)^{2} = \\left(x + 5\\right)^{2} + 3$$"
      ],
      "text/plain": [
       " 2                          2          2    \n",
       "x  + 10⋅x + 28 = c + (b + x)  = (x + 5)  + 3"
      ]
     },
     "execution_count": 11,
     "metadata": {},
     "output_type": "execute_result"
    }
   ],
   "source": [
    "sol = sp.solve(poly1 - completedSquareForm,[b,c])\n",
    "sp.Eq(poly1Eqn,completeSquare(poly1))"
   ]
  },
  {
   "cell_type": "markdown",
   "metadata": {},
   "source": [
    "Now consider a polynomial which is a perfect square. "
   ]
  },
  {
   "cell_type": "code",
   "execution_count": 12,
   "metadata": {},
   "outputs": [
    {
     "data": {
      "text/latex": [
       "$$x^{2} + 10 x + 25$$"
      ],
      "text/plain": [
       " 2            \n",
       "x  + 10⋅x + 25"
      ]
     },
     "execution_count": 12,
     "metadata": {},
     "output_type": "execute_result"
    }
   ],
   "source": [
    "poly2 = ((x+5)**2).expand()\n",
    "poly2"
   ]
  },
  {
   "cell_type": "markdown",
   "metadata": {},
   "source": [
    "Factoring now works, but we can also complete the square with $c=0$"
   ]
  },
  {
   "cell_type": "code",
   "execution_count": 13,
   "metadata": {},
   "outputs": [
    {
     "data": {
      "text/latex": [
       "$$\\left(x + 5\\right)^{2}$$"
      ],
      "text/plain": [
       "       2\n",
       "(x + 5) "
      ]
     },
     "execution_count": 13,
     "metadata": {},
     "output_type": "execute_result"
    }
   ],
   "source": [
    "poly2.factor()"
   ]
  },
  {
   "cell_type": "code",
   "execution_count": 14,
   "metadata": {},
   "outputs": [
    {
     "data": {
      "text/latex": [
       "$$\\left(x + 5\\right)^{2}$$"
      ],
      "text/plain": [
       "       2\n",
       "(x + 5) "
      ]
     },
     "execution_count": 14,
     "metadata": {},
     "output_type": "execute_result"
    }
   ],
   "source": [
    "completeSquare(poly2)"
   ]
  },
  {
   "cell_type": "markdown",
   "metadata": {},
   "source": [
    "We will use this function below to help us derive the quadratic formula. "
   ]
  },
  {
   "cell_type": "markdown",
   "metadata": {},
   "source": [
    "## Using the completion of the square to derive the quadratic formula"
   ]
  },
  {
   "cell_type": "code",
   "execution_count": 15,
   "metadata": {},
   "outputs": [
    {
     "data": {
      "text/latex": [
       "$$x^{2} + \\frac{1}{a} \\left(b x + c\\right)$$"
      ],
      "text/plain": [
       " 2   b⋅x + c\n",
       "x  + ───────\n",
       "        a   "
      ]
     },
     "execution_count": 15,
     "metadata": {},
     "output_type": "execute_result"
    }
   ],
   "source": [
    "quadApart = (quadraticEqn/a).apart(a)\n",
    "quadApart"
   ]
  },
  {
   "cell_type": "code",
   "execution_count": 16,
   "metadata": {},
   "outputs": [
    {
     "data": {
      "text/latex": [
       "$$x^{2} + \\frac{b x}{a} + \\frac{c}{a}$$"
      ],
      "text/plain": [
       " 2   b⋅x   c\n",
       "x  + ─── + ─\n",
       "      a    a"
      ]
     },
     "execution_count": 16,
     "metadata": {},
     "output_type": "execute_result"
    }
   ],
   "source": [
    "expanded = quadApart.expand()\n",
    "lhs = expanded\n",
    "lhs"
   ]
  },
  {
   "cell_type": "markdown",
   "metadata": {},
   "source": [
    "Subtract both sides by $\\large \\frac{c}{a}$"
   ]
  },
  {
   "cell_type": "code",
   "execution_count": 17,
   "metadata": {},
   "outputs": [
    {
     "data": {
      "text/latex": [
       "$$x^{2} + \\frac{b x}{a} = - \\frac{c}{a}$$"
      ],
      "text/plain": [
       " 2   b⋅x   -c \n",
       "x  + ─── = ───\n",
       "      a     a "
      ]
     },
     "execution_count": 17,
     "metadata": {},
     "output_type": "execute_result"
    }
   ],
   "source": [
    "lhs = lhs - c/a\n",
    "rhs = rhs - c/a\n",
    "sp.Eq(lhs,rhs)"
   ]
  },
  {
   "cell_type": "markdown",
   "metadata": {},
   "source": [
    "We would now like to know what term we must add to both sides of the equation such that we can complete the square of the left hand side so we can isolate x. We know from previous results that it is:\n",
    "\n",
    "$$ \n",
    "\\begin{align}\n",
    "\\large \\left( \\frac{b}{2a} \\right)^2 = \\frac{b^2}{4a^2}\n",
    "\\end{align}\n",
    "$$\n",
    "\n",
    "But let's derive this using sympy. To do this we will need to solve the following equation for $z$. We can also solve for $k$ to get the completed square, but we will derive this later.  \n",
    "\n",
    "$$\n",
    "\\large x^2+\\frac{b}{a}x+z = \\left( x+k \\right)^2\n",
    "$$\n",
    "\n",
    "Subtracting the right hand side from both sides will put this in a form SymPy favors for solving:\n",
    "\n",
    "$$\n",
    "\\large x^2+\\frac{b}{a}x+z - \\left( x+k \\right)^2 = 0\n",
    "$$"
   ]
  },
  {
   "cell_type": "code",
   "execution_count": 18,
   "metadata": {},
   "outputs": [
    {
     "name": "stdout",
     "output_type": "stream",
     "text": [
      "Z:\n"
     ]
    },
    {
     "data": {
      "text/latex": [
       "$$\\frac{b^{2}}{4 a^{2}}$$"
      ],
      "text/plain": [
       "  2 \n",
       " b  \n",
       "────\n",
       "   2\n",
       "4⋅a "
      ]
     },
     "metadata": {},
     "output_type": "display_data"
    },
    {
     "name": "stdout",
     "output_type": "stream",
     "text": [
      "K:\n"
     ]
    },
    {
     "data": {
      "text/latex": [
       "$$\\frac{b}{2 a}$$"
      ],
      "text/plain": [
       " b \n",
       "───\n",
       "2⋅a"
      ]
     },
     "metadata": {},
     "output_type": "display_data"
    }
   ],
   "source": [
    "solvingForZK = sp.solve(lhs+z -(x+k)**2,z,k)\n",
    "print(\"Z:\")\n",
    "# Sympy automatically applies the square. \n",
    "display(solvingForZK[0][0])\n",
    "print(\"K:\")\n",
    "display(solvingForZK[0][1])"
   ]
  },
  {
   "cell_type": "markdown",
   "metadata": {},
   "source": [
    "Thus we see if we'd like to write the left hand side of our equation as a square, we need to add $ \\left( \\frac{b}{2a} \\right)^2$ to both sides of our equation."
   ]
  },
  {
   "cell_type": "code",
   "execution_count": 19,
   "metadata": {},
   "outputs": [
    {
     "data": {
      "text/latex": [
       "$$x^{2} + \\left(\\frac{b}{2 a}\\right)^{2} + \\frac{b x}{a} = \\left(\\frac{b}{2 a}\\right)^{2} - \\frac{c}{a}$$"
      ],
      "text/plain": [
       "          2              2    \n",
       " 2   ⎛ b ⎞    b⋅x   ⎛ b ⎞    c\n",
       "x  + ⎜───⎟  + ─── = ⎜───⎟  - ─\n",
       "     ⎝2⋅a⎠     a    ⎝2⋅a⎠    a"
      ]
     },
     "execution_count": 19,
     "metadata": {},
     "output_type": "execute_result"
    }
   ],
   "source": [
    "completingSquareTerm = sp.Pow((b/(2*a)),2,evaluate=False)\n",
    "nLhs = lhs + completingSquareTerm\n",
    "nRhs = rhs + completingSquareTerm\n",
    "sp.Eq(nLhs,nRhs)"
   ]
  },
  {
   "cell_type": "markdown",
   "metadata": {},
   "source": [
    "We can use the function we defined above to complete the square of the left hand side."
   ]
  },
  {
   "cell_type": "code",
   "execution_count": 20,
   "metadata": {},
   "outputs": [
    {
     "data": {
      "text/latex": [
       "$$\\left(x + \\frac{b}{2 a}\\right)^{2}$$"
      ],
      "text/plain": [
       "         2\n",
       "⎛     b ⎞ \n",
       "⎜x + ───⎟ \n",
       "⎝    2⋅a⎠ "
      ]
     },
     "execution_count": 20,
     "metadata": {},
     "output_type": "execute_result"
    }
   ],
   "source": [
    "nLhs = completeSquare(nLhs)\n",
    "nLhs"
   ]
  },
  {
   "cell_type": "markdown",
   "metadata": {},
   "source": [
    "As we see, $\\frac{b}{2a}$ is the $k$ we computed before. We now have: "
   ]
  },
  {
   "cell_type": "code",
   "execution_count": 21,
   "metadata": {},
   "outputs": [
    {
     "data": {
      "text/latex": [
       "$$\\left(x + \\frac{b}{2 a}\\right)^{2} = \\left(\\frac{b}{2 a}\\right)^{2} - \\frac{c}{a}$$"
      ],
      "text/plain": [
       "         2        2    \n",
       "⎛     b ⎞    ⎛ b ⎞    c\n",
       "⎜x + ───⎟  = ⎜───⎟  - ─\n",
       "⎝    2⋅a⎠    ⎝2⋅a⎠    a"
      ]
     },
     "execution_count": 21,
     "metadata": {},
     "output_type": "execute_result"
    }
   ],
   "source": [
    "sp.Eq(nLhs,nRhs)"
   ]
  },
  {
   "cell_type": "markdown",
   "metadata": {},
   "source": [
    "We have finally found a form where we can isolate $x$! The remainder of the derivation is just a simple matter of rearanging terms. \n",
    "\n",
    "We need to get the right hand side into a form easier for sympy to work with later. This requires a little wizardry with polynomial manipulation module. We could have done this operation on one line, but I will show the steps here. \n",
    "\n",
    "We first factor. "
   ]
  },
  {
   "cell_type": "code",
   "execution_count": 22,
   "metadata": {},
   "outputs": [
    {
     "data": {
      "text/latex": [
       "$$- \\frac{1}{4 a^{2}} \\left(4 a c - b^{2}\\right)$$"
      ],
      "text/plain": [
       " ⎛         2⎞ \n",
       "-⎝4⋅a⋅c - b ⎠ \n",
       "──────────────\n",
       "        2     \n",
       "     4⋅a      "
      ]
     },
     "execution_count": 22,
     "metadata": {},
     "output_type": "execute_result"
    }
   ],
   "source": [
    "nRhs = nRhs.factor()\n",
    "nRhs"
   ]
  },
  {
   "cell_type": "markdown",
   "metadata": {},
   "source": [
    "As you see this gives us a strange form. We can resolve this by expanding, then bringing the terms together again. "
   ]
  },
  {
   "cell_type": "code",
   "execution_count": 23,
   "metadata": {},
   "outputs": [
    {
     "data": {
      "text/latex": [
       "$$- \\frac{c}{a} + \\frac{b^{2}}{4 a^{2}}$$"
      ],
      "text/plain": [
       "        2 \n",
       "  c    b  \n",
       "- ─ + ────\n",
       "  a      2\n",
       "      4⋅a "
      ]
     },
     "execution_count": 23,
     "metadata": {},
     "output_type": "execute_result"
    }
   ],
   "source": [
    "nRhs = nRhs.expand()\n",
    "nRhs"
   ]
  },
  {
   "cell_type": "code",
   "execution_count": 24,
   "metadata": {},
   "outputs": [
    {
     "data": {
      "text/latex": [
       "$$\\frac{1}{4 a^{2}} \\left(- 4 a c + b^{2}\\right)$$"
      ],
      "text/plain": [
       "          2\n",
       "-4⋅a⋅c + b \n",
       "───────────\n",
       "       2   \n",
       "    4⋅a    "
      ]
     },
     "execution_count": 24,
     "metadata": {},
     "output_type": "execute_result"
    }
   ],
   "source": [
    "nRhs = nRhs.together()\n",
    "nRhs"
   ]
  },
  {
   "cell_type": "markdown",
   "metadata": {},
   "source": [
    "We now square both sides. \n",
    "\n",
    "Since we did not define our symbol type, sympy will not apply the square root because it does not always hold for all types of numbers that $\\sqrt{x^2} = x^2$; however we can force it to make this assumption with a utility function called powdnest."
   ]
  },
  {
   "cell_type": "code",
   "execution_count": 25,
   "metadata": {},
   "outputs": [
    {
     "data": {
      "text/latex": [
       "$$x + \\frac{b}{2 a} = \\frac{1}{2 a} \\sqrt{- 4 a c + b^{2}}$$"
      ],
      "text/plain": [
       "             _____________\n",
       "            ╱           2 \n",
       "     b    ╲╱  -4⋅a⋅c + b  \n",
       "x + ─── = ────────────────\n",
       "    2⋅a         2⋅a       "
      ]
     },
     "execution_count": 25,
     "metadata": {},
     "output_type": "execute_result"
    }
   ],
   "source": [
    "nLhs = sp.powdenest(sp.sqrt(nLhs),force=True)\n",
    "nRhs = sp.powdenest(sp.sqrt(nRhs),force=True)\n",
    "sp.Eq(nLhs,nRhs)"
   ]
  },
  {
   "cell_type": "markdown",
   "metadata": {},
   "source": [
    "Now we subtract $\\frac{b}{2a}$ from both sides. "
   ]
  },
  {
   "cell_type": "code",
   "execution_count": 26,
   "metadata": {},
   "outputs": [
    {
     "data": {
      "text/latex": [
       "$$x = - \\frac{b}{2 a} + \\frac{1}{2 a} \\sqrt{- 4 a c + b^{2}}$$"
      ],
      "text/plain": [
       "               _____________\n",
       "              ╱           2 \n",
       "       b    ╲╱  -4⋅a⋅c + b  \n",
       "x = - ─── + ────────────────\n",
       "      2⋅a         2⋅a       "
      ]
     },
     "execution_count": 26,
     "metadata": {},
     "output_type": "execute_result"
    }
   ],
   "source": [
    "nLhs = nLhs - b/(2*a)\n",
    "nRhs = nRhs - b/(2*a)\n",
    "sp.Eq(nLhs,nRhs)"
   ]
  },
  {
   "cell_type": "markdown",
   "metadata": {},
   "source": [
    "We simplify the right hand side and get our familiar quadratic equation. "
   ]
  },
  {
   "cell_type": "code",
   "execution_count": 27,
   "metadata": {},
   "outputs": [
    {
     "data": {
      "text/latex": [
       "$$x = \\frac{1}{2 a} \\left(- b + \\sqrt{- 4 a c + b^{2}}\\right)$$"
      ],
      "text/plain": [
       "            _____________\n",
       "           ╱           2 \n",
       "    -b + ╲╱  -4⋅a⋅c + b  \n",
       "x = ─────────────────────\n",
       "             2⋅a         "
      ]
     },
     "execution_count": 27,
     "metadata": {},
     "output_type": "execute_result"
    }
   ],
   "source": [
    "sp.Eq(x,nRhs.simplify())"
   ]
  },
  {
   "cell_type": "markdown",
   "metadata": {},
   "source": [
    "As you can see, there is no $\\pm$ we are accustom to seeing. There is obviously no plus or minus operator inherent in mathematics. We would have introduced this when we took the square root of both sides because the square of $x$ could either be positive or negative. "
   ]
  }
 ],
 "metadata": {
  "kernelspec": {
   "display_name": "Python 3",
   "language": "python",
   "name": "python3"
  },
  "language_info": {
   "codemirror_mode": {
    "name": "ipython",
    "version": 3
   },
   "file_extension": ".py",
   "mimetype": "text/x-python",
   "name": "python",
   "nbconvert_exporter": "python",
   "pygments_lexer": "ipython3",
   "version": "3.5.3"
  }
 },
 "nbformat": 4,
 "nbformat_minor": 2
}
