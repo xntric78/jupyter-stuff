{
 "cells": [
  {
   "cell_type": "markdown",
   "metadata": {},
   "source": [
    "## Autoreload is cool\n",
    "\n",
    "Much more detail here: https://gist.github.com/jbwhit/38c1035c48cdb1714fc8d47fa163bfae"
   ]
  },
  {
   "cell_type": "code",
   "execution_count": 2,
   "metadata": {
    "ExecuteTime": {
     "end_time": "2018-09-18T02:17:24.373463Z",
     "start_time": "2018-09-18T02:17:24.370035Z"
    }
   },
   "outputs": [
    {
     "name": "stdout",
     "output_type": "stream",
     "text": [
      "The autoreload extension is already loaded. To reload it, use:\n",
      "  %reload_ext autoreload\n"
     ]
    }
   ],
   "source": [
    "%load_ext autoreload\n",
    "%autoreload 1"
   ]
  },
  {
   "cell_type": "code",
   "execution_count": 3,
   "metadata": {
    "ExecuteTime": {
     "end_time": "2018-09-18T02:17:27.175647Z",
     "start_time": "2018-09-18T02:17:27.172803Z"
    }
   },
   "outputs": [],
   "source": [
    "import os\n",
    "import sys\n",
    "import time\n",
    "sys.path.append(\"..\")"
   ]
  },
  {
   "cell_type": "code",
   "execution_count": 4,
   "metadata": {
    "ExecuteTime": {
     "end_time": "2018-09-18T02:17:29.849154Z",
     "start_time": "2018-09-18T02:17:29.845775Z"
    }
   },
   "outputs": [],
   "source": [
    "directory = \"../scripts/\"\n",
    "if not os.path.exists(directory):\n",
    "    os.makedirs(directory)"
   ]
  },
  {
   "cell_type": "code",
   "execution_count": 5,
   "metadata": {
    "ExecuteTime": {
     "end_time": "2018-09-18T02:17:30.649246Z",
     "start_time": "2018-09-18T02:17:30.310318Z"
    }
   },
   "outputs": [],
   "source": [
    "%aimport scripts.neato"
   ]
  },
  {
   "cell_type": "code",
   "execution_count": 7,
   "metadata": {
    "ExecuteTime": {
     "end_time": "2018-09-18T02:19:29.304415Z",
     "start_time": "2018-09-18T02:19:29.097783Z"
    }
   },
   "outputs": [
    {
     "data": {
      "image/png": "[encoded data removed]",
      "text/plain": [
       "<Figure size 576x432 with 1 Axes>"
      ]
     },
     "metadata": {
      "needs_background": "light"
     },
     "output_type": "display_data"
    }
   ],
   "source": [
    "scripts.neato.create_plot()"
   ]
  },
  {
   "cell_type": "code",
   "execution_count": null,
   "metadata": {},
   "outputs": [],
   "source": []
  },
  {
   "cell_type": "code",
   "execution_count": null,
   "metadata": {},
   "outputs": [],
   "source": []
  },
  {
   "cell_type": "code",
   "execution_count": null,
   "metadata": {
    "ExecuteTime": {
     "end_time": "2018-02-25T23:34:15.705728Z",
     "start_time": "2018-02-25T23:34:15.699612Z"
    }
   },
   "outputs": [],
   "source": [
    "%%writefile ../scripts/neato.py\n",
    "\n",
    "# a comment\n",
    "def torpedo():\n",
    "    print('Initial statement')"
   ]
  },
  {
   "cell_type": "markdown",
   "metadata": {},
   "source": [
    "## Quick diversion -- how to see text files"
   ]
  },
  {
   "cell_type": "code",
   "execution_count": null,
   "metadata": {
    "ExecuteTime": {
     "end_time": "2018-02-25T23:34:18.695970Z",
     "start_time": "2018-02-25T23:34:18.554306Z"
    }
   },
   "outputs": [],
   "source": [
    "!cat ../scripts/neato.py"
   ]
  },
  {
   "cell_type": "code",
   "execution_count": null,
   "metadata": {
    "ExecuteTime": {
     "end_time": "2018-02-25T23:34:52.431476Z",
     "start_time": "2018-02-25T23:34:52.427335Z"
    }
   },
   "outputs": [],
   "source": [
    "%pycat ../scripts/neato.py"
   ]
  },
  {
   "cell_type": "code",
   "execution_count": null,
   "metadata": {
    "ExecuteTime": {
     "end_time": "2018-09-18T00:18:53.800291Z",
     "start_time": "2018-09-18T00:18:53.518758Z"
    }
   },
   "outputs": [],
   "source": [
    "!subl ../scripts/neato.py"
   ]
  },
  {
   "cell_type": "code",
   "execution_count": null,
   "metadata": {},
   "outputs": [],
   "source": []
  },
  {
   "cell_type": "markdown",
   "metadata": {},
   "source": [
    "## Back to autoreload"
   ]
  },
  {
   "cell_type": "code",
   "execution_count": null,
   "metadata": {
    "ExecuteTime": {
     "end_time": "2018-02-25T23:35:13.825742Z",
     "start_time": "2018-02-25T23:35:13.819854Z"
    }
   },
   "outputs": [],
   "source": [
    "%aimport scripts.neato"
   ]
  },
  {
   "cell_type": "code",
   "execution_count": null,
   "metadata": {
    "ExecuteTime": {
     "end_time": "2018-02-25T23:35:24.939059Z",
     "start_time": "2018-02-25T23:35:24.935667Z"
    }
   },
   "outputs": [],
   "source": [
    "scripts.neato.torpedo()"
   ]
  },
  {
   "cell_type": "code",
   "execution_count": null,
   "metadata": {
    "ExecuteTime": {
     "end_time": "2018-02-25T23:35:38.966054Z",
     "start_time": "2018-02-25T23:35:38.961332Z"
    }
   },
   "outputs": [],
   "source": [
    "%%writefile ../scripts/neato.py\n",
    "\n",
    "def torpedo():\n",
    "    print('Live demos are fun!')"
   ]
  },
  {
   "cell_type": "code",
   "execution_count": null,
   "metadata": {
    "ExecuteTime": {
     "end_time": "2018-02-25T23:35:47.141226Z",
     "start_time": "2018-02-25T23:35:47.137730Z"
    }
   },
   "outputs": [],
   "source": [
    "scripts.neato.torpedo()"
   ]
  },
  {
   "cell_type": "code",
   "execution_count": null,
   "metadata": {},
   "outputs": [],
   "source": []
  }
 ],
 "metadata": {
  "hide_input": false,
  "kernelspec": {
   "display_name": "dspy3",
   "language": "python",
   "name": "dspy3"
  },
  "toc": {
   "base_numbering": 1,
   "nav_menu": {},
   "number_sections": true,
   "sideBar": true,
   "skip_h1_title": false,
   "title_cell": "Table of Contents",
   "title_sidebar": "Contents",
   "toc_cell": false,
   "toc_position": {},
   "toc_section_display": true,
   "toc_window_display": false
  },
  "varInspector": {
   "cols": {
    "lenName": 16,
    "lenType": 16,
    "lenVar": 40
   },
   "kernels_config": {
    "python": {
     "delete_cmd_postfix": "",
     "delete_cmd_prefix": "del ",
     "library": "var_list.py",
     "varRefreshCmd": "print(var_dic_list())"
    },
    "r": {
     "delete_cmd_postfix": ") ",
     "delete_cmd_prefix": "rm(",
     "library": "var_list.r",
     "varRefreshCmd": "cat(var_dic_list()) "
    }
   },
   "types_to_exclude": [
    "module",
    "function",
    "builtin_function_or_method",
    "instance",
    "_Feature"
   ],
   "window_display": false
  }
 },
 "nbformat": 4,
 "nbformat_minor": 2
}
