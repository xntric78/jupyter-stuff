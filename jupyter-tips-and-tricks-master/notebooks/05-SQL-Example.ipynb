{
 "cells": [
  {
   "cell_type": "markdown",
   "metadata": {},
   "source": [
    "# SQL\n",
    "\n",
    "Accessing data stored in databases is a routine exercise. I demonstrate a few helpful methods in the Jupyter Notebook."
   ]
  },
  {
   "cell_type": "code",
   "execution_count": 2,
   "metadata": {
    "ExecuteTime": {
     "end_time": "2018-09-18T02:22:27.193961Z",
     "start_time": "2018-09-18T02:22:27.190498Z"
    }
   },
   "outputs": [
    {
     "name": "stdout",
     "output_type": "stream",
     "text": [
      "The sql_magic extension is already loaded. To reload it, use:\n",
      "  %reload_ext sql_magic\n"
     ]
    }
   ],
   "source": [
    "%load_ext sql_magic"
   ]
  },
  {
   "cell_type": "code",
   "execution_count": 3,
   "metadata": {
    "ExecuteTime": {
     "end_time": "2018-09-18T02:22:28.385169Z",
     "start_time": "2018-09-18T02:22:28.372821Z"
    }
   },
   "outputs": [],
   "source": [
    "import sqlalchemy\n",
    "import pandas as pd\n",
    "import sqlite3\n",
    "from sqlalchemy import create_engine\n",
    "sqlite_engine = create_engine('sqlite://')"
   ]
  },
  {
   "cell_type": "code",
   "execution_count": 4,
   "metadata": {
    "ExecuteTime": {
     "end_time": "2018-09-18T02:22:38.852842Z",
     "start_time": "2018-09-18T02:22:38.841588Z"
    }
   },
   "outputs": [],
   "source": [
    "%config SQL.conn_name = \"sqlite_engine\""
   ]
  },
  {
   "cell_type": "code",
   "execution_count": 5,
   "metadata": {
    "ExecuteTime": {
     "end_time": "2018-09-18T02:22:39.625831Z",
     "start_time": "2018-09-18T02:22:39.617964Z"
    }
   },
   "outputs": [
    {
     "name": "stdout",
     "output_type": "stream",
     "text": [
      "SQL options\n",
      "---------\n",
      "SQL.conn_name=<Unicode>\n",
      "    Current: 'sqlite_engine'\n",
      "    Object name for accessing computing resource environment\n",
      "SQL.notify_result=<Bool>\n",
      "    Current: True\n",
      "    Notify query result to stdout\n",
      "SQL.output_result=<Bool>\n",
      "    Current: True\n",
      "    Output query result to stdout\n"
     ]
    }
   ],
   "source": [
    "%config SQL"
   ]
  },
  {
   "cell_type": "code",
   "execution_count": 6,
   "metadata": {
    "ExecuteTime": {
     "end_time": "2018-09-18T02:22:48.881908Z",
     "start_time": "2018-09-18T02:22:48.871686Z"
    }
   },
   "outputs": [],
   "source": [
    "%config SQL.output_result = False"
   ]
  },
  {
   "cell_type": "markdown",
   "metadata": {},
   "source": [
    "```SQL\n",
    "CREATE TABLE presidents (first_name, last_name, year_of_birth);\n",
    "INSERT INTO presidents VALUES ('George', 'Washington', 1732);\n",
    "INSERT INTO presidents VALUES ('John', 'Adams', 1735);\n",
    "INSERT INTO presidents VALUES ('Thomas', 'Jefferson', 1743);\n",
    "INSERT INTO presidents VALUES ('James', 'Madison', 1751);\n",
    "INSERT INTO presidents VALUES ('James', 'Monroe', 1758);\n",
    "INSERT INTO presidents VALUES ('Zachary', 'Taylor', 1784);\n",
    "INSERT INTO presidents VALUES ('Abraham', 'Lincoln', 1809);\n",
    "INSERT INTO presidents VALUES ('Theodore', 'Roosevelt', 1858);\n",
    "INSERT INTO presidents VALUES ('Richard', 'Nixon', 1913);\n",
    "INSERT INTO presidents VALUES ('Barack', 'Obama', 1961);\n",
    "```"
   ]
  },
  {
   "cell_type": "code",
   "execution_count": 7,
   "metadata": {
    "ExecuteTime": {
     "end_time": "2018-09-18T02:23:20.595083Z",
     "start_time": "2018-09-18T02:23:20.513753Z"
    }
   },
   "outputs": [
    {
     "name": "stdout",
     "output_type": "stream",
     "text": [
      "Query started at 07:23:20 PM PDT; Query executed in 0.00 m"
     ]
    }
   ],
   "source": [
    "%%read_sql temp\n",
    "CREATE TABLE presidents (first_name, last_name, year_of_birth);\n",
    "INSERT INTO presidents VALUES ('George', 'Washington', 1732);\n",
    "INSERT INTO presidents VALUES ('John', 'Adams', 1735);\n",
    "INSERT INTO presidents VALUES ('Thomas', 'Jefferson', 1743);\n",
    "INSERT INTO presidents VALUES ('James', 'Madison', 1751);\n",
    "INSERT INTO presidents VALUES ('James', 'Monroe', 1758);\n",
    "INSERT INTO presidents VALUES ('Zachary', 'Taylor', 1784);\n",
    "INSERT INTO presidents VALUES ('Abraham', 'Lincoln', 1809);\n",
    "INSERT INTO presidents VALUES ('Theodore', 'Roosevelt', 1858);\n",
    "INSERT INTO presidents VALUES ('Richard', 'Nixon', 1913);\n",
    "INSERT INTO presidents VALUES ('Barack', 'Obama', 1961);"
   ]
  },
  {
   "cell_type": "code",
   "execution_count": 8,
   "metadata": {
    "ExecuteTime": {
     "end_time": "2018-09-18T02:23:41.537797Z",
     "start_time": "2018-09-18T02:23:41.524445Z"
    }
   },
   "outputs": [
    {
     "name": "stdout",
     "output_type": "stream",
     "text": [
      "Query started at 07:23:41 PM PDT; Query executed in 0.00 m"
     ]
    }
   ],
   "source": [
    "%%read_sql df\n",
    "SELECT * FROM presidents"
   ]
  },
  {
   "cell_type": "code",
   "execution_count": 9,
   "metadata": {
    "ExecuteTime": {
     "end_time": "2018-09-18T02:23:43.013197Z",
     "start_time": "2018-09-18T02:23:43.002840Z"
    }
   },
   "outputs": [
    {
     "data": {
      "text/html": [
       "<div>\n",
       "<style scoped>\n",
       "    .dataframe tbody tr th:only-of-type {\n",
       "        vertical-align: middle;\n",
       "    }\n",
       "\n",
       "    .dataframe tbody tr th {\n",
       "        vertical-align: top;\n",
       "    }\n",
       "\n",
       "    .dataframe thead th {\n",
       "        text-align: right;\n",
       "    }\n",
       "</style>\n",
       "<table border=\"1\" class=\"dataframe\">\n",
       "  <thead>\n",
       "    <tr style=\"text-align: right;\">\n",
       "      <th></th>\n",
       "      <th>first_name</th>\n",
       "      <th>last_name</th>\n",
       "      <th>year_of_birth</th>\n",
       "    </tr>\n",
       "  </thead>\n",
       "  <tbody>\n",
       "    <tr>\n",
       "      <th>0</th>\n",
       "      <td>George</td>\n",
       "      <td>Washington</td>\n",
       "      <td>1732</td>\n",
       "    </tr>\n",
       "    <tr>\n",
       "      <th>1</th>\n",
       "      <td>John</td>\n",
       "      <td>Adams</td>\n",
       "      <td>1735</td>\n",
       "    </tr>\n",
       "    <tr>\n",
       "      <th>2</th>\n",
       "      <td>Thomas</td>\n",
       "      <td>Jefferson</td>\n",
       "      <td>1743</td>\n",
       "    </tr>\n",
       "    <tr>\n",
       "      <th>3</th>\n",
       "      <td>James</td>\n",
       "      <td>Madison</td>\n",
       "      <td>1751</td>\n",
       "    </tr>\n",
       "    <tr>\n",
       "      <th>4</th>\n",
       "      <td>James</td>\n",
       "      <td>Monroe</td>\n",
       "      <td>1758</td>\n",
       "    </tr>\n",
       "    <tr>\n",
       "      <th>5</th>\n",
       "      <td>Zachary</td>\n",
       "      <td>Taylor</td>\n",
       "      <td>1784</td>\n",
       "    </tr>\n",
       "    <tr>\n",
       "      <th>6</th>\n",
       "      <td>Abraham</td>\n",
       "      <td>Lincoln</td>\n",
       "      <td>1809</td>\n",
       "    </tr>\n",
       "    <tr>\n",
       "      <th>7</th>\n",
       "      <td>Theodore</td>\n",
       "      <td>Roosevelt</td>\n",
       "      <td>1858</td>\n",
       "    </tr>\n",
       "    <tr>\n",
       "      <th>8</th>\n",
       "      <td>Richard</td>\n",
       "      <td>Nixon</td>\n",
       "      <td>1913</td>\n",
       "    </tr>\n",
       "    <tr>\n",
       "      <th>9</th>\n",
       "      <td>Barack</td>\n",
       "      <td>Obama</td>\n",
       "      <td>1961</td>\n",
       "    </tr>\n",
       "  </tbody>\n",
       "</table>\n",
       "</div>"
      ],
      "text/plain": [
       "  first_name   last_name  year_of_birth\n",
       "0     George  Washington           1732\n",
       "1       John       Adams           1735\n",
       "2     Thomas   Jefferson           1743\n",
       "3      James     Madison           1751\n",
       "4      James      Monroe           1758\n",
       "5    Zachary      Taylor           1784\n",
       "6    Abraham     Lincoln           1809\n",
       "7   Theodore   Roosevelt           1858\n",
       "8    Richard       Nixon           1913\n",
       "9     Barack       Obama           1961"
      ]
     },
     "execution_count": 9,
     "metadata": {},
     "output_type": "execute_result"
    }
   ],
   "source": [
    "df"
   ]
  },
  {
   "cell_type": "markdown",
   "metadata": {},
   "source": [
    "## Inline magic"
   ]
  },
  {
   "cell_type": "code",
   "execution_count": null,
   "metadata": {
    "ExecuteTime": {
     "end_time": "2018-06-07T02:11:35.161503Z",
     "start_time": "2018-06-07T02:11:35.144990Z"
    }
   },
   "outputs": [],
   "source": [
    "later_presidents = %read_sql SELECT * FROM presidents WHERE year_of_birth > 1825\n",
    "later_presidents"
   ]
  },
  {
   "cell_type": "markdown",
   "metadata": {},
   "source": [
    "## Through pandas directly"
   ]
  },
  {
   "cell_type": "code",
   "execution_count": 10,
   "metadata": {
    "ExecuteTime": {
     "end_time": "2018-09-18T02:25:52.764624Z",
     "start_time": "2018-09-18T02:25:52.761876Z"
    }
   },
   "outputs": [],
   "source": [
    "birthyear = 1800"
   ]
  },
  {
   "cell_type": "code",
   "execution_count": null,
   "metadata": {
    "ExecuteTime": {
     "end_time": "2018-06-07T02:12:04.500871Z",
     "start_time": "2018-06-07T02:12:04.490006Z"
    }
   },
   "outputs": [],
   "source": [
    "%%read_sql df1\n",
    "SELECT first_name,\n",
    "       last_name,\n",
    "       year_of_birth\n",
    "FROM presidents\n",
    "WHERE year_of_birth > {birthyear}"
   ]
  },
  {
   "cell_type": "code",
   "execution_count": null,
   "metadata": {
    "ExecuteTime": {
     "end_time": "2018-06-07T02:12:06.626441Z",
     "start_time": "2018-06-07T02:12:06.618002Z"
    }
   },
   "outputs": [],
   "source": [
    "df1"
   ]
  },
  {
   "cell_type": "code",
   "execution_count": null,
   "metadata": {},
   "outputs": [],
   "source": []
  },
  {
   "cell_type": "code",
   "execution_count": null,
   "metadata": {},
   "outputs": [],
   "source": []
  },
  {
   "cell_type": "code",
   "execution_count": null,
   "metadata": {},
   "outputs": [],
   "source": []
  },
  {
   "cell_type": "code",
   "execution_count": null,
   "metadata": {},
   "outputs": [],
   "source": []
  },
  {
   "cell_type": "code",
   "execution_count": null,
   "metadata": {},
   "outputs": [],
   "source": []
  },
  {
   "cell_type": "code",
   "execution_count": null,
   "metadata": {},
   "outputs": [],
   "source": []
  },
  {
   "cell_type": "code",
   "execution_count": 11,
   "metadata": {
    "ExecuteTime": {
     "end_time": "2018-09-18T02:26:04.241970Z",
     "start_time": "2018-09-18T02:26:04.236087Z"
    }
   },
   "outputs": [],
   "source": [
    "con = sqlite3.connect(\"presidents.sqlite\")\n",
    "cur = con.cursor()\n",
    "\n",
    "new_dataframe = pd.read_sql(f\"\"\"SELECT first_name, last_name, year_of_birth\n",
    "                               FROM presidents\n",
    "                               WHERE year_of_birth > {birthyear}\n",
    "                               \"\"\", \n",
    "                            con=con)\n",
    "\n",
    "con.close()"
   ]
  },
  {
   "cell_type": "code",
   "execution_count": 12,
   "metadata": {
    "ExecuteTime": {
     "end_time": "2018-09-18T02:26:06.008088Z",
     "start_time": "2018-09-18T02:26:05.999775Z"
    }
   },
   "outputs": [
    {
     "data": {
      "text/html": [
       "<div>\n",
       "<style scoped>\n",
       "    .dataframe tbody tr th:only-of-type {\n",
       "        vertical-align: middle;\n",
       "    }\n",
       "\n",
       "    .dataframe tbody tr th {\n",
       "        vertical-align: top;\n",
       "    }\n",
       "\n",
       "    .dataframe thead th {\n",
       "        text-align: right;\n",
       "    }\n",
       "</style>\n",
       "<table border=\"1\" class=\"dataframe\">\n",
       "  <thead>\n",
       "    <tr style=\"text-align: right;\">\n",
       "      <th></th>\n",
       "      <th>first_name</th>\n",
       "      <th>last_name</th>\n",
       "      <th>year_of_birth</th>\n",
       "    </tr>\n",
       "  </thead>\n",
       "  <tbody>\n",
       "    <tr>\n",
       "      <th>0</th>\n",
       "      <td>Theodore</td>\n",
       "      <td>Roosevelt</td>\n",
       "      <td>1858</td>\n",
       "    </tr>\n",
       "    <tr>\n",
       "      <th>1</th>\n",
       "      <td>Richard</td>\n",
       "      <td>Nixon</td>\n",
       "      <td>1913</td>\n",
       "    </tr>\n",
       "    <tr>\n",
       "      <th>2</th>\n",
       "      <td>Barack</td>\n",
       "      <td>Obama</td>\n",
       "      <td>1961</td>\n",
       "    </tr>\n",
       "  </tbody>\n",
       "</table>\n",
       "</div>"
      ],
      "text/plain": [
       "  first_name  last_name  year_of_birth\n",
       "0   Theodore  Roosevelt           1858\n",
       "1    Richard      Nixon           1913\n",
       "2     Barack      Obama           1961"
      ]
     },
     "execution_count": 12,
     "metadata": {},
     "output_type": "execute_result"
    }
   ],
   "source": [
    "new_dataframe"
   ]
  },
  {
   "cell_type": "code",
   "execution_count": null,
   "metadata": {},
   "outputs": [],
   "source": []
  }
 ],
 "metadata": {
  "anaconda-cloud": {},
  "hide_input": false,
  "kernelspec": {
   "display_name": "dspy3",
   "language": "python",
   "name": "dspy3"
  },
  "toc": {
   "base_numbering": 1,
   "nav_menu": {
    "height": "48px",
    "width": "252px"
   },
   "number_sections": true,
   "sideBar": true,
   "skip_h1_title": false,
   "title_cell": "Table of Contents",
   "title_sidebar": "Contents",
   "toc_cell": false,
   "toc_position": {},
   "toc_section_display": "block",
   "toc_window_display": false
  },
  "varInspector": {
   "cols": {
    "lenName": 16,
    "lenType": 16,
    "lenVar": 40
   },
   "kernels_config": {
    "python": {
     "delete_cmd_postfix": "",
     "delete_cmd_prefix": "del ",
     "library": "var_list.py",
     "varRefreshCmd": "print(var_dic_list())"
    },
    "r": {
     "delete_cmd_postfix": ") ",
     "delete_cmd_prefix": "rm(",
     "library": "var_list.r",
     "varRefreshCmd": "cat(var_dic_list()) "
    }
   },
   "types_to_exclude": [
    "module",
    "function",
    "builtin_function_or_method",
    "instance",
    "_Feature"
   ],
   "window_display": false
  }
 },
 "nbformat": 4,
 "nbformat_minor": 1
}
