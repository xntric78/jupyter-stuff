{
 "cells": [
  {
   "cell_type": "markdown",
   "metadata": {},
   "source": [
    "# Advanced Notebook"
   ]
  },
  {
   "cell_type": "code",
   "execution_count": 1,
   "metadata": {
    "ExecuteTime": {
     "end_time": "2018-09-19T03:46:23.187051Z",
     "start_time": "2018-09-19T03:46:21.591470Z"
    }
   },
   "outputs": [],
   "source": [
    "%matplotlib inline\n",
    "\n",
    "import numpy as np\n",
    "import pandas as pd\n",
    "from pandas.tools.plotting import scatter_matrix\n",
    "from sklearn.datasets import load_boston\n",
    "import matplotlib as mpl\n",
    "import matplotlib.pyplot as plt\n",
    "import seaborn as sns\n",
    "sns.set_context('poster')\n",
    "sns.set_style('whitegrid')\n",
    "plt.rcParams['figure.figsize'] = 12, 8  # plotsize\n",
    "\n",
    "\n",
    "import warnings\n",
    "warnings.filterwarnings('ignore')"
   ]
  },
  {
   "cell_type": "markdown",
   "metadata": {},
   "source": [
    "# BQPlot\n",
    "\n",
    "Examples here are shamelessly stolen from the amazing: https://github.com/maartenbreddels/jupytercon-2017/blob/master/jupytercon2017-widgets.ipynb"
   ]
  },
  {
   "cell_type": "code",
   "execution_count": 2,
   "metadata": {
    "ExecuteTime": {
     "end_time": "2018-09-19T03:46:25.068331Z",
     "start_time": "2018-09-19T03:46:24.977343Z"
    }
   },
   "outputs": [],
   "source": [
    "# mixed feelings about this import\n",
    "import bqplot.pyplot as plt\n",
    "import numpy as np"
   ]
  },
  {
   "cell_type": "code",
   "execution_count": 3,
   "metadata": {
    "ExecuteTime": {
     "end_time": "2018-09-19T03:46:25.342029Z",
     "start_time": "2018-09-19T03:46:25.339250Z"
    }
   },
   "outputs": [],
   "source": [
    "x = np.linspace(0, 2, 50)\n",
    "y = x**2"
   ]
  },
  {
   "cell_type": "code",
   "execution_count": 4,
   "metadata": {
    "ExecuteTime": {
     "end_time": "2018-09-19T03:46:25.690593Z",
     "start_time": "2018-09-19T03:46:25.611706Z"
    }
   },
   "outputs": [
    {
     "data": {
      "application/vnd.jupyter.widget-view+json": {
       "model_id": "da366ea5c4854a878e81f7866db0b757",
       "version_major": 2,
       "version_minor": 0
      },
      "text/plain": [
       "VBox(children=(Figure(axes=[Axis(scale=LinearScale()), Axis(orientation='vertical', scale=LinearScale())], fig…"
      ]
     },
     "metadata": {},
     "output_type": "display_data"
    }
   ],
   "source": [
    "fig = plt.figure()\n",
    "scatter = plt.scatter(x, y)\n",
    "plt.show()"
   ]
  },
  {
   "cell_type": "code",
   "execution_count": 5,
   "metadata": {
    "ExecuteTime": {
     "end_time": "2018-09-19T03:46:26.036888Z",
     "start_time": "2018-09-19T03:46:26.026009Z"
    }
   },
   "outputs": [],
   "source": [
    "fig.animation_duration = 500\n",
    "scatter.y = 2 * x**.5"
   ]
  },
  {
   "cell_type": "code",
   "execution_count": 6,
   "metadata": {
    "ExecuteTime": {
     "end_time": "2018-09-19T03:46:26.170123Z",
     "start_time": "2018-09-19T03:46:26.157341Z"
    }
   },
   "outputs": [],
   "source": [
    "scatter.selected_style = {'stroke':'red', 'fill': 'orange'}\n",
    "plt.brush_selector();"
   ]
  },
  {
   "cell_type": "code",
   "execution_count": 7,
   "metadata": {
    "ExecuteTime": {
     "end_time": "2018-09-19T03:46:26.372518Z",
     "start_time": "2018-09-19T03:46:26.365512Z"
    }
   },
   "outputs": [
    {
     "data": {
      "text/plain": [
       "[]"
      ]
     },
     "execution_count": 7,
     "metadata": {},
     "output_type": "execute_result"
    }
   ],
   "source": [
    "scatter.selected"
   ]
  },
  {
   "cell_type": "code",
   "execution_count": 8,
   "metadata": {
    "ExecuteTime": {
     "end_time": "2018-09-19T03:46:26.670651Z",
     "start_time": "2018-09-19T03:46:26.664068Z"
    }
   },
   "outputs": [],
   "source": [
    "scatter.selected = [1,2,10,40]"
   ]
  },
  {
   "cell_type": "markdown",
   "metadata": {},
   "source": [
    "## ipyvolume"
   ]
  },
  {
   "cell_type": "code",
   "execution_count": 9,
   "metadata": {
    "ExecuteTime": {
     "end_time": "2018-09-19T03:46:27.785075Z",
     "start_time": "2018-09-19T03:46:27.159720Z"
    }
   },
   "outputs": [],
   "source": [
    "import ipyvolume as ipv"
   ]
  },
  {
   "cell_type": "code",
   "execution_count": 10,
   "metadata": {
    "ExecuteTime": {
     "end_time": "2018-09-19T03:46:27.833311Z",
     "start_time": "2018-09-19T03:46:27.830148Z"
    }
   },
   "outputs": [],
   "source": [
    "N = 1000\n",
    "x, y, z = np.random.random((3, N))"
   ]
  },
  {
   "cell_type": "code",
   "execution_count": 11,
   "metadata": {
    "ExecuteTime": {
     "end_time": "2018-09-19T03:46:28.192266Z",
     "start_time": "2018-09-19T03:46:28.019468Z"
    }
   },
   "outputs": [
    {
     "data": {
      "application/vnd.jupyter.widget-view+json": {
       "model_id": "bc19bce70fe5456dba5e546911f6362f",
       "version_major": 2,
       "version_minor": 0
      },
      "text/plain": [
       "VBox(children=(Figure(camera=PerspectiveCamera(fov=46.0, position=(0.0, 0.0, 2.0), quaternion=(0.0, 0.0, 0.0, …"
      ]
     },
     "metadata": {},
     "output_type": "display_data"
    }
   ],
   "source": [
    "fig = ipv.figure()\n",
    "scatter = ipv.scatter(x, y, z, marker='box')\n",
    "ipv.show()"
   ]
  },
  {
   "cell_type": "code",
   "execution_count": 12,
   "metadata": {
    "ExecuteTime": {
     "end_time": "2018-09-19T03:46:28.745291Z",
     "start_time": "2018-09-19T03:46:28.730850Z"
    }
   },
   "outputs": [],
   "source": [
    "scatter.x = scatter.x - 0.5"
   ]
  },
  {
   "cell_type": "code",
   "execution_count": 13,
   "metadata": {
    "ExecuteTime": {
     "end_time": "2018-09-19T03:46:29.284267Z",
     "start_time": "2018-09-19T03:46:29.276971Z"
    }
   },
   "outputs": [],
   "source": [
    "scatter.x = x"
   ]
  },
  {
   "cell_type": "code",
   "execution_count": 14,
   "metadata": {
    "ExecuteTime": {
     "end_time": "2018-09-19T03:46:30.041956Z",
     "start_time": "2018-09-19T03:46:30.029671Z"
    }
   },
   "outputs": [],
   "source": [
    "scatter.color = \"green\"\n",
    "scatter.size = 5"
   ]
  },
  {
   "cell_type": "code",
   "execution_count": 15,
   "metadata": {
    "ExecuteTime": {
     "end_time": "2018-09-19T03:46:30.135152Z",
     "start_time": "2018-09-19T03:46:30.127245Z"
    }
   },
   "outputs": [],
   "source": [
    "scatter.color = np.random.random((N,3))"
   ]
  },
  {
   "cell_type": "code",
   "execution_count": 16,
   "metadata": {
    "ExecuteTime": {
     "end_time": "2018-09-19T03:46:30.638520Z",
     "start_time": "2018-09-19T03:46:30.631700Z"
    }
   },
   "outputs": [],
   "source": [
    "scatter.size = 2"
   ]
  },
  {
   "cell_type": "code",
   "execution_count": 17,
   "metadata": {
    "ExecuteTime": {
     "end_time": "2018-09-19T03:46:32.443482Z",
     "start_time": "2018-09-19T03:46:30.696718Z"
    }
   },
   "outputs": [],
   "source": [
    "ex = ipv.datasets.animated_stream.fetch().data"
   ]
  },
  {
   "cell_type": "code",
   "execution_count": 18,
   "metadata": {
    "ExecuteTime": {
     "end_time": "2018-09-19T03:46:32.453403Z",
     "start_time": "2018-09-19T03:46:32.446965Z"
    }
   },
   "outputs": [
    {
     "data": {
      "text/plain": [
       "(6, 200, 1250)"
      ]
     },
     "execution_count": 18,
     "metadata": {},
     "output_type": "execute_result"
    }
   ],
   "source": [
    "ex.shape"
   ]
  },
  {
   "cell_type": "code",
   "execution_count": 19,
   "metadata": {
    "ExecuteTime": {
     "end_time": "2018-09-19T03:46:33.289185Z",
     "start_time": "2018-09-19T03:46:33.278110Z"
    }
   },
   "outputs": [
    {
     "data": {
      "text/plain": [
       "(6, 200, 313)"
      ]
     },
     "execution_count": 19,
     "metadata": {},
     "output_type": "execute_result"
    }
   ],
   "source": [
    "ex[:, ::, ::4].shape"
   ]
  },
  {
   "cell_type": "code",
   "execution_count": 20,
   "metadata": {
    "ExecuteTime": {
     "end_time": "2018-09-19T03:46:36.369201Z",
     "start_time": "2018-09-19T03:46:35.089776Z"
    }
   },
   "outputs": [
    {
     "data": {
      "application/vnd.jupyter.widget-view+json": {
       "model_id": "279aa56f861746c2bb20f3b52aa9a399",
       "version_major": 2,
       "version_minor": 0
      },
      "text/plain": [
       "VBox(children=(Figure(animation=200.0, camera=PerspectiveCamera(fov=46.0, position=(0.0, 0.0, 2.0), quaternion…"
      ]
     },
     "metadata": {},
     "output_type": "display_data"
    }
   ],
   "source": [
    "ipv.figure()\n",
    "ipv.style.use('dark')\n",
    "quiver = ipv.quiver(*ipv.datasets.animated_stream.fetch().data[:,::,::4], size=5)\n",
    "ipv.animation_control(quiver, interval=200)\n",
    "ipv.show()\n",
    "ipv.style.use('light')"
   ]
  },
  {
   "cell_type": "code",
   "execution_count": null,
   "metadata": {
    "ExecuteTime": {
     "end_time": "2018-06-06T23:37:45.115960Z",
     "start_time": "2018-06-06T23:37:45.113181Z"
    }
   },
   "outputs": [],
   "source": [
    "ipv.style.use('light')"
   ]
  },
  {
   "cell_type": "code",
   "execution_count": 23,
   "metadata": {
    "ExecuteTime": {
     "end_time": "2018-06-07T02:27:04.492537Z",
     "start_time": "2018-06-07T02:27:04.489578Z"
    }
   },
   "outputs": [],
   "source": [
    "quiver.geo = \"cat\""
   ]
  },
  {
   "cell_type": "code",
   "execution_count": 21,
   "metadata": {
    "ExecuteTime": {
     "end_time": "2018-09-19T03:46:40.265215Z",
     "start_time": "2018-09-19T03:46:40.200758Z"
    }
   },
   "outputs": [],
   "source": [
    "N = 1000*1000\n",
    "x, y, z = np.random.random((3, N)).astype('f4')"
   ]
  },
  {
   "cell_type": "code",
   "execution_count": 22,
   "metadata": {
    "ExecuteTime": {
     "end_time": "2018-09-19T03:46:40.686040Z",
     "start_time": "2018-09-19T03:46:40.606619Z"
    }
   },
   "outputs": [
    {
     "data": {
      "application/vnd.jupyter.widget-view+json": {
       "model_id": "b75b9c50d7064d14ba016f24bb44c3eb",
       "version_major": 2,
       "version_minor": 0
      },
      "text/plain": [
       "VBox(children=(Figure(camera=PerspectiveCamera(fov=46.0, position=(0.0, 0.0, 2.0), quaternion=(0.0, 0.0, 0.0, …"
      ]
     },
     "metadata": {},
     "output_type": "display_data"
    }
   ],
   "source": [
    "ipv.figure()\n",
    "s = ipv.scatter(x, y, z, size=0.2)\n",
    "ipv.show()"
   ]
  },
  {
   "cell_type": "code",
   "execution_count": 23,
   "metadata": {
    "ExecuteTime": {
     "end_time": "2018-09-19T03:46:44.157821Z",
     "start_time": "2018-09-19T03:46:43.704660Z"
    }
   },
   "outputs": [],
   "source": [
    "ipv.save(\"3d-example-plot.html\")"
   ]
  },
  {
   "cell_type": "code",
   "execution_count": 24,
   "metadata": {
    "ExecuteTime": {
     "end_time": "2018-09-19T03:46:48.551626Z",
     "start_time": "2018-09-19T03:46:48.325843Z"
    }
   },
   "outputs": [],
   "source": [
    "!open 3d-example-plot.html"
   ]
  },
  {
   "cell_type": "code",
   "execution_count": null,
   "metadata": {},
   "outputs": [],
   "source": []
  }
 ],
 "metadata": {
  "anaconda-cloud": {},
  "hide_input": false,
  "kernelspec": {
   "display_name": "dspy3",
   "language": "python",
   "name": "dspy3"
  },
  "language_info": {
   "codemirror_mode": {
    "name": "ipython",
    "version": 3
   },
   "file_extension": ".py",
   "mimetype": "text/x-python",
   "name": "python",
   "nbconvert_exporter": "python",
   "pygments_lexer": "ipython3",
   "version": "3.6.6"
  },
  "toc": {
   "base_numbering": 1,
   "nav_menu": {
    "height": "48px",
    "width": "252px"
   },
   "number_sections": true,
   "sideBar": true,
   "skip_h1_title": false,
   "title_cell": "Table of Contents",
   "title_sidebar": "Contents",
   "toc_cell": false,
   "toc_position": {},
   "toc_section_display": "block",
   "toc_window_display": false
  },
  "varInspector": {
   "cols": {
    "lenName": 16,
    "lenType": 16,
    "lenVar": 40
   },
   "kernels_config": {
    "python": {
     "delete_cmd_postfix": "",
     "delete_cmd_prefix": "del ",
     "library": "var_list.py",
     "varRefreshCmd": "print(var_dic_list())"
    },
    "r": {
     "delete_cmd_postfix": ") ",
     "delete_cmd_prefix": "rm(",
     "library": "var_list.r",
     "varRefreshCmd": "cat(var_dic_list()) "
    }
   },
   "types_to_exclude": [
    "module",
    "function",
    "builtin_function_or_method",
    "instance",
    "_Feature"
   ],
   "window_display": false
  }
 },
 "nbformat": 4,
 "nbformat_minor": 2
}
