{
 "cells": [
  {
   "cell_type": "markdown",
   "metadata": {},
   "source": [
    "# Start slow\n",
    "\n",
    "## Sub heading\n",
    "\n",
    "This is just a paragraph."
   ]
  },
  {
   "cell_type": "code",
   "execution_count": 91,
   "metadata": {
    "ExecuteTime": {
     "end_time": "2018-09-18T02:50:18.303243Z",
     "start_time": "2018-09-18T02:50:18.298829Z"
    }
   },
   "outputs": [],
   "source": [
    "# code cell\n",
    "name = \"Jonathan\""
   ]
  },
  {
   "cell_type": "code",
   "execution_count": null,
   "metadata": {},
   "outputs": [],
   "source": []
  },
  {
   "cell_type": "markdown",
   "metadata": {},
   "source": [
    "# Tips and Tricks\n",
    "\n",
    "A markdown cell lets you do many _useful things_."
   ]
  },
  {
   "cell_type": "code",
   "execution_count": 34,
   "metadata": {
    "ExecuteTime": {
     "end_time": "2018-09-18T01:16:07.089615Z",
     "start_time": "2018-09-18T01:16:07.086828Z"
    }
   },
   "outputs": [],
   "source": [
    "# Add this to python2 code to make life easier -- safe to use in python3 as well.\n",
    "from __future__ import absolute_import, division, print_function"
   ]
  },
  {
   "cell_type": "code",
   "execution_count": 36,
   "metadata": {
    "ExecuteTime": {
     "end_time": "2018-09-18T01:16:51.318511Z",
     "start_time": "2018-09-18T01:16:51.315941Z"
    }
   },
   "outputs": [],
   "source": [
    "import numpy as np\n",
    "# don't do:\n",
    "# from numpy import *"
   ]
  },
  {
   "cell_type": "code",
   "execution_count": 35,
   "metadata": {
    "ExecuteTime": {
     "end_time": "2018-09-18T01:16:46.620146Z",
     "start_time": "2018-09-18T01:16:46.571619Z"
    }
   },
   "outputs": [
    {
     "data": {
      "text/plain": [
       "'a'"
      ]
     },
     "execution_count": 35,
     "metadata": {},
     "output_type": "execute_result"
    }
   ],
   "source": [
    "max('a')"
   ]
  },
  {
   "cell_type": "code",
   "execution_count": 37,
   "metadata": {
    "ExecuteTime": {
     "end_time": "2018-09-18T01:16:53.494106Z",
     "start_time": "2018-09-18T01:16:53.054030Z"
    }
   },
   "outputs": [
    {
     "ename": "TypeError",
     "evalue": "cannot perform reduce with flexible type",
     "output_type": "error",
     "traceback": [
      "\u001b[0;31m-----------------------------------------------------------------------\u001b[0m",
      "\u001b[0;31mTypeError\u001b[0m                             Traceback (most recent call last)",
      "\u001b[0;32m<ipython-input-37-bc859c5c4752>\u001b[0m in \u001b[0;36m<module>\u001b[0;34m()\u001b[0m\n\u001b[0;32m----> 1\u001b[0;31m \u001b[0mnp\u001b[0m\u001b[0;34m.\u001b[0m\u001b[0mmax\u001b[0m\u001b[0;34m(\u001b[0m\u001b[0;34m'a'\u001b[0m\u001b[0;34m)\u001b[0m\u001b[0;34m\u001b[0m\u001b[0m\n\u001b[0m",
      "\u001b[0;32m~/miniconda3/envs/dspy3/lib/python3.6/site-packages/numpy/core/fromnumeric.py\u001b[0m in \u001b[0;36mamax\u001b[0;34m(a, axis, out, keepdims, initial)\u001b[0m\n\u001b[1;32m   2332\u001b[0m     \"\"\"\n\u001b[1;32m   2333\u001b[0m     return _wrapreduction(a, np.maximum, 'max', axis, None, out, keepdims=keepdims,\n\u001b[0;32m-> 2334\u001b[0;31m                           initial=initial)\n\u001b[0m\u001b[1;32m   2335\u001b[0m \u001b[0;34m\u001b[0m\u001b[0m\n\u001b[1;32m   2336\u001b[0m \u001b[0;34m\u001b[0m\u001b[0m\n",
      "\u001b[0;32m~/miniconda3/envs/dspy3/lib/python3.6/site-packages/numpy/core/fromnumeric.py\u001b[0m in \u001b[0;36m_wrapreduction\u001b[0;34m(obj, ufunc, method, axis, dtype, out, **kwargs)\u001b[0m\n\u001b[1;32m     81\u001b[0m                 \u001b[0;32mreturn\u001b[0m \u001b[0mreduction\u001b[0m\u001b[0;34m(\u001b[0m\u001b[0maxis\u001b[0m\u001b[0;34m=\u001b[0m\u001b[0maxis\u001b[0m\u001b[0;34m,\u001b[0m \u001b[0mout\u001b[0m\u001b[0;34m=\u001b[0m\u001b[0mout\u001b[0m\u001b[0;34m,\u001b[0m \u001b[0;34m**\u001b[0m\u001b[0mpasskwargs\u001b[0m\u001b[0;34m)\u001b[0m\u001b[0;34m\u001b[0m\u001b[0m\n\u001b[1;32m     82\u001b[0m \u001b[0;34m\u001b[0m\u001b[0m\n\u001b[0;32m---> 83\u001b[0;31m     \u001b[0;32mreturn\u001b[0m \u001b[0mufunc\u001b[0m\u001b[0;34m.\u001b[0m\u001b[0mreduce\u001b[0m\u001b[0;34m(\u001b[0m\u001b[0mobj\u001b[0m\u001b[0;34m,\u001b[0m \u001b[0maxis\u001b[0m\u001b[0;34m,\u001b[0m \u001b[0mdtype\u001b[0m\u001b[0;34m,\u001b[0m \u001b[0mout\u001b[0m\u001b[0;34m,\u001b[0m \u001b[0;34m**\u001b[0m\u001b[0mpasskwargs\u001b[0m\u001b[0;34m)\u001b[0m\u001b[0;34m\u001b[0m\u001b[0m\n\u001b[0m\u001b[1;32m     84\u001b[0m \u001b[0;34m\u001b[0m\u001b[0m\n\u001b[1;32m     85\u001b[0m \u001b[0;34m\u001b[0m\u001b[0m\n",
      "\u001b[0;31mTypeError\u001b[0m: cannot perform reduce with flexible type"
     ]
    }
   ],
   "source": [
    "np.max('a')"
   ]
  },
  {
   "cell_type": "code",
   "execution_count": 38,
   "metadata": {
    "ExecuteTime": {
     "end_time": "2018-09-18T01:17:17.680368Z",
     "start_time": "2018-09-18T01:17:17.576717Z"
    }
   },
   "outputs": [],
   "source": [
    "%matplotlib inline\n",
    "%config InlineBackend.figure_format='retina'"
   ]
  },
  {
   "cell_type": "markdown",
   "metadata": {},
   "source": [
    "## Imports"
   ]
  },
  {
   "cell_type": "code",
   "execution_count": 39,
   "metadata": {
    "ExecuteTime": {
     "end_time": "2018-09-18T01:17:41.623824Z",
     "start_time": "2018-09-18T01:17:41.609945Z"
    }
   },
   "outputs": [],
   "source": [
    "import pandas as pd\n",
    "import matplotlib.pyplot as plt\n",
    "import seaborn as sns\n",
    "import os\n",
    "from sklearn.datasets import load_boston\n",
    "from pivottablejs import pivot_ui\n",
    "import qgrid\n",
    "import sys\n",
    "import warnings\n",
    "warnings.filterwarnings('ignore')"
   ]
  },
  {
   "cell_type": "markdown",
   "metadata": {},
   "source": [
    "# Keyboard shortcuts\n",
    "\n",
    "Practice doing these a few times and try to force yourself to use them whenever you can. \n",
    "\n",
    "## Help (h)\n",
    "For help in the Notebook, `ESC` + `h`\n",
    "(doesn't work in Lab)"
   ]
  },
  {
   "cell_type": "markdown",
   "metadata": {},
   "source": [
    "## Select multiple cells\n",
    "\n",
    "j, k, and arrow keys while holding shift selects multiple cells."
   ]
  },
  {
   "cell_type": "code",
   "execution_count": null,
   "metadata": {
    "ExecuteTime": {
     "end_time": "2018-06-06T07:37:56.959097Z",
     "start_time": "2018-06-06T07:37:56.956227Z"
    }
   },
   "outputs": [],
   "source": [
    "first = 1"
   ]
  },
  {
   "cell_type": "code",
   "execution_count": null,
   "metadata": {
    "ExecuteTime": {
     "end_time": "2018-06-06T07:37:56.959097Z",
     "start_time": "2018-06-06T07:37:56.956227Z"
    }
   },
   "outputs": [],
   "source": [
    "second = 2"
   ]
  },
  {
   "cell_type": "code",
   "execution_count": null,
   "metadata": {
    "ExecuteTime": {
     "end_time": "2018-06-06T07:37:56.959097Z",
     "start_time": "2018-06-06T07:37:56.956227Z"
    }
   },
   "outputs": [],
   "source": [
    "third = 3"
   ]
  },
  {
   "cell_type": "markdown",
   "metadata": {},
   "source": [
    "## Split a cell with -\n",
    "\n",
    "Well, ctrl + shift + -, but remember it by horizontal."
   ]
  },
  {
   "cell_type": "code",
   "execution_count": null,
   "metadata": {},
   "outputs": [],
   "source": []
  },
  {
   "cell_type": "code",
   "execution_count": null,
   "metadata": {},
   "outputs": [],
   "source": []
  },
  {
   "cell_type": "code",
   "execution_count": null,
   "metadata": {},
   "outputs": [],
   "source": [
    "print(name)"
   ]
  },
  {
   "cell_type": "markdown",
   "metadata": {},
   "source": [
    "## Add a new cell (a)bove"
   ]
  },
  {
   "cell_type": "markdown",
   "metadata": {},
   "source": [
    "## Add a new cell (b)elow"
   ]
  },
  {
   "cell_type": "code",
   "execution_count": null,
   "metadata": {},
   "outputs": [],
   "source": []
  },
  {
   "cell_type": "markdown",
   "metadata": {},
   "source": [
    "## (d)(d)elete "
   ]
  },
  {
   "cell_type": "code",
   "execution_count": null,
   "metadata": {},
   "outputs": [],
   "source": []
  },
  {
   "cell_type": "code",
   "execution_count": null,
   "metadata": {},
   "outputs": [],
   "source": []
  },
  {
   "cell_type": "markdown",
   "metadata": {},
   "source": [
    "## (c)opy cells\n",
    "\n",
    "## (v)aste cells"
   ]
  },
  {
   "cell_type": "markdown",
   "metadata": {},
   "source": [
    "# Pivot Tables w/ pandas\n",
    "\n",
    "A library and example from: http://nicolas.kruchten.com/content/2015/09/jupyter_pivottablejs/"
   ]
  },
  {
   "cell_type": "code",
   "execution_count": 40,
   "metadata": {
    "ExecuteTime": {
     "end_time": "2018-09-18T01:20:28.520365Z",
     "start_time": "2018-09-18T01:20:28.490497Z"
    }
   },
   "outputs": [],
   "source": [
    "df = pd.read_csv(\"../data/mps.csv\", encoding=\"ISO-8859-1\")"
   ]
  },
  {
   "cell_type": "code",
   "execution_count": 41,
   "metadata": {
    "ExecuteTime": {
     "end_time": "2018-09-18T01:20:35.877346Z",
     "start_time": "2018-09-18T01:20:35.855793Z"
    }
   },
   "outputs": [
    {
     "data": {
      "text/html": [
       "<div>\n",
       "<style scoped>\n",
       "    .dataframe tbody tr th:only-of-type {\n",
       "        vertical-align: middle;\n",
       "    }\n",
       "\n",
       "    .dataframe tbody tr th {\n",
       "        vertical-align: top;\n",
       "    }\n",
       "\n",
       "    .dataframe thead th {\n",
       "        text-align: right;\n",
       "    }\n",
       "</style>\n",
       "<table border=\"1\" class=\"dataframe\">\n",
       "  <thead>\n",
       "    <tr style=\"text-align: right;\">\n",
       "      <th></th>\n",
       "      <th>Name</th>\n",
       "      <th>Party</th>\n",
       "      <th>Province</th>\n",
       "      <th>Age</th>\n",
       "      <th>Gender</th>\n",
       "    </tr>\n",
       "  </thead>\n",
       "  <tbody>\n",
       "    <tr>\n",
       "      <th>0</th>\n",
       "      <td>Liu, Laurin</td>\n",
       "      <td>NDP</td>\n",
       "      <td>Quebec</td>\n",
       "      <td>22.0</td>\n",
       "      <td>Female</td>\n",
       "    </tr>\n",
       "    <tr>\n",
       "      <th>1</th>\n",
       "      <td>Mourani, Maria</td>\n",
       "      <td>Bloc Quebecois</td>\n",
       "      <td>Quebec</td>\n",
       "      <td>43.0</td>\n",
       "      <td>Female</td>\n",
       "    </tr>\n",
       "    <tr>\n",
       "      <th>2</th>\n",
       "      <td>Sellah, Djaouida</td>\n",
       "      <td>NDP</td>\n",
       "      <td>Quebec</td>\n",
       "      <td>NaN</td>\n",
       "      <td>Female</td>\n",
       "    </tr>\n",
       "    <tr>\n",
       "      <th>3</th>\n",
       "      <td>St-Denis, Lise</td>\n",
       "      <td>NDP</td>\n",
       "      <td>Quebec</td>\n",
       "      <td>72.0</td>\n",
       "      <td>Female</td>\n",
       "    </tr>\n",
       "    <tr>\n",
       "      <th>4</th>\n",
       "      <td>Fry, Hedy</td>\n",
       "      <td>Liberal</td>\n",
       "      <td>British Columbia</td>\n",
       "      <td>71.0</td>\n",
       "      <td>Female</td>\n",
       "    </tr>\n",
       "    <tr>\n",
       "      <th>5</th>\n",
       "      <td>Turmel, Nycole</td>\n",
       "      <td>NDP</td>\n",
       "      <td>Quebec</td>\n",
       "      <td>70.0</td>\n",
       "      <td>Female</td>\n",
       "    </tr>\n",
       "    <tr>\n",
       "      <th>6</th>\n",
       "      <td>Sgro, Judy</td>\n",
       "      <td>Liberal</td>\n",
       "      <td>Ontario</td>\n",
       "      <td>68.0</td>\n",
       "      <td>Female</td>\n",
       "    </tr>\n",
       "    <tr>\n",
       "      <th>7</th>\n",
       "      <td>Raynault, Francine</td>\n",
       "      <td>NDP</td>\n",
       "      <td>Quebec</td>\n",
       "      <td>67.0</td>\n",
       "      <td>Female</td>\n",
       "    </tr>\n",
       "    <tr>\n",
       "      <th>8</th>\n",
       "      <td>Davidson, Patricia</td>\n",
       "      <td>Conservative</td>\n",
       "      <td>Ontario</td>\n",
       "      <td>66.0</td>\n",
       "      <td>Female</td>\n",
       "    </tr>\n",
       "    <tr>\n",
       "      <th>9</th>\n",
       "      <td>Smith, Joy</td>\n",
       "      <td>Conservative</td>\n",
       "      <td>Manitoba</td>\n",
       "      <td>65.0</td>\n",
       "      <td>Female</td>\n",
       "    </tr>\n",
       "  </tbody>\n",
       "</table>\n",
       "</div>"
      ],
      "text/plain": [
       "                 Name           Party          Province   Age  Gender\n",
       "0         Liu, Laurin             NDP            Quebec  22.0  Female\n",
       "1      Mourani, Maria  Bloc Quebecois            Quebec  43.0  Female\n",
       "2    Sellah, Djaouida             NDP            Quebec   NaN  Female\n",
       "3      St-Denis, Lise             NDP            Quebec  72.0  Female\n",
       "4           Fry, Hedy         Liberal  British Columbia  71.0  Female\n",
       "5      Turmel, Nycole             NDP            Quebec  70.0  Female\n",
       "6          Sgro, Judy         Liberal           Ontario  68.0  Female\n",
       "7  Raynault, Francine             NDP            Quebec  67.0  Female\n",
       "8  Davidson, Patricia    Conservative           Ontario  66.0  Female\n",
       "9          Smith, Joy    Conservative          Manitoba  65.0  Female"
      ]
     },
     "execution_count": 41,
     "metadata": {},
     "output_type": "execute_result"
    }
   ],
   "source": [
    "# recommend using .head()\n",
    "df.head(10)"
   ]
  },
  {
   "cell_type": "markdown",
   "metadata": {},
   "source": [
    "# Enhanced Pandas Dataframe Display"
   ]
  },
  {
   "cell_type": "code",
   "execution_count": 42,
   "metadata": {
    "ExecuteTime": {
     "end_time": "2018-09-18T01:21:14.066900Z",
     "start_time": "2018-09-18T01:21:14.064530Z"
    }
   },
   "outputs": [],
   "source": [
    "# Province, Party, Average, Age, Heatmap"
   ]
  },
  {
   "cell_type": "code",
   "execution_count": null,
   "metadata": {
    "ExecuteTime": {
     "end_time": "2018-09-17T21:58:49.991969Z",
     "start_time": "2018-09-17T21:58:49.987737Z"
    }
   },
   "outputs": [],
   "source": []
  },
  {
   "cell_type": "code",
   "execution_count": 43,
   "metadata": {
    "ExecuteTime": {
     "end_time": "2018-09-18T01:21:16.042617Z",
     "start_time": "2018-09-18T01:21:16.031701Z"
    },
    "scrolled": false
   },
   "outputs": [
    {
     "data": {
      "text/html": [
       "\n",
       "        <iframe\n",
       "            width=\"100%\"\n",
       "            height=\"500\"\n",
       "            src=\"pivottablejs.html\"\n",
       "            frameborder=\"0\"\n",
       "            allowfullscreen\n",
       "        ></iframe>\n",
       "        "
      ],
      "text/plain": [
       "<IPython.lib.display.IFrame at 0x1205e0be0>"
      ]
     },
     "execution_count": 43,
     "metadata": {},
     "output_type": "execute_result"
    }
   ],
   "source": [
    "pivot_ui(df)"
   ]
  },
  {
   "cell_type": "code",
   "execution_count": 44,
   "metadata": {
    "ExecuteTime": {
     "end_time": "2018-09-18T01:23:13.410441Z",
     "start_time": "2018-09-18T01:23:13.396609Z"
    }
   },
   "outputs": [],
   "source": [
    "df_dict = load_boston()\n",
    "features = pd.DataFrame(data=df_dict.data, columns = df_dict.feature_names)\n",
    "target = pd.DataFrame(data=df_dict.target, columns = ['MEDV'])\n",
    "df = pd.concat([features, target], axis=1)"
   ]
  },
  {
   "cell_type": "code",
   "execution_count": 45,
   "metadata": {
    "ExecuteTime": {
     "end_time": "2018-09-18T01:23:15.115852Z",
     "start_time": "2018-09-18T01:23:15.087577Z"
    }
   },
   "outputs": [
    {
     "data": {
      "text/html": [
       "<div>\n",
       "<style scoped>\n",
       "    .dataframe tbody tr th:only-of-type {\n",
       "        vertical-align: middle;\n",
       "    }\n",
       "\n",
       "    .dataframe tbody tr th {\n",
       "        vertical-align: top;\n",
       "    }\n",
       "\n",
       "    .dataframe thead th {\n",
       "        text-align: right;\n",
       "    }\n",
       "</style>\n",
       "<table border=\"1\" class=\"dataframe\">\n",
       "  <thead>\n",
       "    <tr style=\"text-align: right;\">\n",
       "      <th></th>\n",
       "      <th>CRIM</th>\n",
       "      <th>ZN</th>\n",
       "      <th>INDUS</th>\n",
       "      <th>CHAS</th>\n",
       "      <th>NOX</th>\n",
       "      <th>RM</th>\n",
       "      <th>AGE</th>\n",
       "      <th>DIS</th>\n",
       "      <th>RAD</th>\n",
       "      <th>TAX</th>\n",
       "      <th>PTRATIO</th>\n",
       "      <th>B</th>\n",
       "      <th>LSTAT</th>\n",
       "      <th>MEDV</th>\n",
       "      <th>Zone</th>\n",
       "    </tr>\n",
       "  </thead>\n",
       "  <tbody>\n",
       "    <tr>\n",
       "      <th>0</th>\n",
       "      <td>0.00632</td>\n",
       "      <td>18.0</td>\n",
       "      <td>2.31</td>\n",
       "      <td>0.0</td>\n",
       "      <td>0.538</td>\n",
       "      <td>6.575</td>\n",
       "      <td>65.2</td>\n",
       "      <td>4.0900</td>\n",
       "      <td>1.0</td>\n",
       "      <td>296.0</td>\n",
       "      <td>15.3</td>\n",
       "      <td>396.90</td>\n",
       "      <td>4.98</td>\n",
       "      <td>24.0</td>\n",
       "      <td>18.0</td>\n",
       "    </tr>\n",
       "    <tr>\n",
       "      <th>1</th>\n",
       "      <td>0.02731</td>\n",
       "      <td>0.0</td>\n",
       "      <td>7.07</td>\n",
       "      <td>0.0</td>\n",
       "      <td>0.469</td>\n",
       "      <td>6.421</td>\n",
       "      <td>78.9</td>\n",
       "      <td>4.9671</td>\n",
       "      <td>2.0</td>\n",
       "      <td>242.0</td>\n",
       "      <td>17.8</td>\n",
       "      <td>396.90</td>\n",
       "      <td>9.14</td>\n",
       "      <td>21.6</td>\n",
       "      <td>0.0</td>\n",
       "    </tr>\n",
       "    <tr>\n",
       "      <th>2</th>\n",
       "      <td>0.02729</td>\n",
       "      <td>0.0</td>\n",
       "      <td>7.07</td>\n",
       "      <td>0.0</td>\n",
       "      <td>0.469</td>\n",
       "      <td>7.185</td>\n",
       "      <td>61.1</td>\n",
       "      <td>4.9671</td>\n",
       "      <td>2.0</td>\n",
       "      <td>242.0</td>\n",
       "      <td>17.8</td>\n",
       "      <td>392.83</td>\n",
       "      <td>4.03</td>\n",
       "      <td>34.7</td>\n",
       "      <td>0.0</td>\n",
       "    </tr>\n",
       "    <tr>\n",
       "      <th>3</th>\n",
       "      <td>0.03237</td>\n",
       "      <td>0.0</td>\n",
       "      <td>2.18</td>\n",
       "      <td>0.0</td>\n",
       "      <td>0.458</td>\n",
       "      <td>6.998</td>\n",
       "      <td>45.8</td>\n",
       "      <td>6.0622</td>\n",
       "      <td>3.0</td>\n",
       "      <td>222.0</td>\n",
       "      <td>18.7</td>\n",
       "      <td>394.63</td>\n",
       "      <td>2.94</td>\n",
       "      <td>33.4</td>\n",
       "      <td>0.0</td>\n",
       "    </tr>\n",
       "    <tr>\n",
       "      <th>4</th>\n",
       "      <td>0.06905</td>\n",
       "      <td>0.0</td>\n",
       "      <td>2.18</td>\n",
       "      <td>0.0</td>\n",
       "      <td>0.458</td>\n",
       "      <td>7.147</td>\n",
       "      <td>54.2</td>\n",
       "      <td>6.0622</td>\n",
       "      <td>3.0</td>\n",
       "      <td>222.0</td>\n",
       "      <td>18.7</td>\n",
       "      <td>396.90</td>\n",
       "      <td>5.33</td>\n",
       "      <td>36.2</td>\n",
       "      <td>0.0</td>\n",
       "    </tr>\n",
       "  </tbody>\n",
       "</table>\n",
       "</div>"
      ],
      "text/plain": [
       "      CRIM    ZN  INDUS CHAS    NOX     RM   AGE     DIS  RAD    TAX  PTRATIO  \\\n",
       "0  0.00632  18.0   2.31  0.0  0.538  6.575  65.2  4.0900  1.0  296.0     15.3   \n",
       "1  0.02731   0.0   7.07  0.0  0.469  6.421  78.9  4.9671  2.0  242.0     17.8   \n",
       "2  0.02729   0.0   7.07  0.0  0.469  7.185  61.1  4.9671  2.0  242.0     17.8   \n",
       "3  0.03237   0.0   2.18  0.0  0.458  6.998  45.8  6.0622  3.0  222.0     18.7   \n",
       "4  0.06905   0.0   2.18  0.0  0.458  7.147  54.2  6.0622  3.0  222.0     18.7   \n",
       "\n",
       "        B  LSTAT  MEDV  Zone  \n",
       "0  396.90   4.98  24.0  18.0  \n",
       "1  396.90   9.14  21.6   0.0  \n",
       "2  392.83   4.03  34.7   0.0  \n",
       "3  394.63   2.94  33.4   0.0  \n",
       "4  396.90   5.33  36.2   0.0  "
      ]
     },
     "execution_count": 45,
     "metadata": {},
     "output_type": "execute_result"
    }
   ],
   "source": [
    "df['Zone'] = df['ZN'].astype('category')\n",
    "df['CHAS'] = df['CHAS'].astype('category')\n",
    "df.head()"
   ]
  },
  {
   "cell_type": "markdown",
   "metadata": {},
   "source": [
    "## QGrid\n",
    "\n",
    "Interactive pandas dataframes: https://github.com/quantopian/qgrid"
   ]
  },
  {
   "cell_type": "code",
   "execution_count": null,
   "metadata": {
    "ExecuteTime": {
     "end_time": "2018-09-17T23:42:32.525234Z",
     "start_time": "2018-09-17T23:42:32.522372Z"
    }
   },
   "outputs": [],
   "source": []
  },
  {
   "cell_type": "code",
   "execution_count": 46,
   "metadata": {
    "ExecuteTime": {
     "end_time": "2018-09-18T01:25:00.704529Z",
     "start_time": "2018-09-18T01:25:00.512342Z"
    }
   },
   "outputs": [],
   "source": [
    "qgrid_widget = qgrid.show_grid(df[['CRIM',\n",
    "                                   'Zone',\n",
    "                                   'INDUS',\n",
    "                                   'CHAS',\n",
    "                                   'NOX',\n",
    "                                   'AGE',\n",
    "                                   'RAD',\n",
    "                                   'LSTAT',\n",
    "                                   'MEDV',\n",
    "                                  ]], show_toolbar=True)"
   ]
  },
  {
   "cell_type": "code",
   "execution_count": 47,
   "metadata": {
    "ExecuteTime": {
     "end_time": "2018-09-18T01:25:02.666300Z",
     "start_time": "2018-09-18T01:25:02.660539Z"
    },
    "scrolled": false
   },
   "outputs": [
    {
     "data": {
      "application/vnd.jupyter.widget-view+json": {
       "model_id": "0a74ecfc146f484f8eb0635528a2f13b",
       "version_major": 2,
       "version_minor": 0
      },
      "text/plain": [
       "QgridWidget(grid_options={'fullWidthRows': True, 'syncColumnCellResize': True, 'forceFitColumns': True, 'defau…"
      ]
     },
     "metadata": {},
     "output_type": "display_data"
    }
   ],
   "source": [
    "qgrid_widget"
   ]
  },
  {
   "cell_type": "code",
   "execution_count": 48,
   "metadata": {
    "ExecuteTime": {
     "end_time": "2018-09-18T01:27:00.537173Z",
     "start_time": "2018-09-18T01:27:00.532201Z"
    }
   },
   "outputs": [],
   "source": [
    "df2 = qgrid_widget.get_changed_df()"
   ]
  },
  {
   "cell_type": "code",
   "execution_count": 49,
   "metadata": {
    "ExecuteTime": {
     "end_time": "2018-09-18T01:27:05.115047Z",
     "start_time": "2018-09-18T01:27:05.101140Z"
    }
   },
   "outputs": [
    {
     "data": {
      "text/html": [
       "<div>\n",
       "<style scoped>\n",
       "    .dataframe tbody tr th:only-of-type {\n",
       "        vertical-align: middle;\n",
       "    }\n",
       "\n",
       "    .dataframe tbody tr th {\n",
       "        vertical-align: top;\n",
       "    }\n",
       "\n",
       "    .dataframe thead th {\n",
       "        text-align: right;\n",
       "    }\n",
       "</style>\n",
       "<table border=\"1\" class=\"dataframe\">\n",
       "  <thead>\n",
       "    <tr style=\"text-align: right;\">\n",
       "      <th></th>\n",
       "      <th>CRIM</th>\n",
       "      <th>Zone</th>\n",
       "      <th>INDUS</th>\n",
       "      <th>CHAS</th>\n",
       "      <th>NOX</th>\n",
       "      <th>AGE</th>\n",
       "      <th>RAD</th>\n",
       "      <th>LSTAT</th>\n",
       "      <th>MEDV</th>\n",
       "    </tr>\n",
       "  </thead>\n",
       "  <tbody>\n",
       "    <tr>\n",
       "      <th>6</th>\n",
       "      <td>0.08829</td>\n",
       "      <td>12.5</td>\n",
       "      <td>7.87</td>\n",
       "      <td>0.0</td>\n",
       "      <td>0.5240</td>\n",
       "      <td>42.1</td>\n",
       "      <td>5.0</td>\n",
       "      <td>12.43</td>\n",
       "      <td>22.9</td>\n",
       "    </tr>\n",
       "    <tr>\n",
       "      <th>64</th>\n",
       "      <td>0.01951</td>\n",
       "      <td>17.5</td>\n",
       "      <td>1.38</td>\n",
       "      <td>0.0</td>\n",
       "      <td>0.4161</td>\n",
       "      <td>59.5</td>\n",
       "      <td>3.0</td>\n",
       "      <td>8.05</td>\n",
       "      <td>33.0</td>\n",
       "    </tr>\n",
       "    <tr>\n",
       "      <th>0</th>\n",
       "      <td>0.00632</td>\n",
       "      <td>18.0</td>\n",
       "      <td>2.31</td>\n",
       "      <td>0.0</td>\n",
       "      <td>0.5380</td>\n",
       "      <td>65.2</td>\n",
       "      <td>1.0</td>\n",
       "      <td>4.98</td>\n",
       "      <td>24.0</td>\n",
       "    </tr>\n",
       "  </tbody>\n",
       "</table>\n",
       "</div>"
      ],
      "text/plain": [
       "       CRIM  Zone  INDUS CHAS     NOX   AGE  RAD  LSTAT  MEDV\n",
       "6   0.08829  12.5   7.87  0.0  0.5240  42.1  5.0  12.43  22.9\n",
       "64  0.01951  17.5   1.38  0.0  0.4161  59.5  3.0   8.05  33.0\n",
       "0   0.00632  18.0   2.31  0.0  0.5380  65.2  1.0   4.98  24.0"
      ]
     },
     "execution_count": 49,
     "metadata": {},
     "output_type": "execute_result"
    }
   ],
   "source": [
    "df2.head(7)"
   ]
  },
  {
   "cell_type": "code",
   "execution_count": 50,
   "metadata": {
    "ExecuteTime": {
     "end_time": "2018-09-18T01:27:16.168268Z",
     "start_time": "2018-09-18T01:27:16.148523Z"
    }
   },
   "outputs": [
    {
     "data": {
      "text/html": [
       "<div>\n",
       "<style scoped>\n",
       "    .dataframe tbody tr th:only-of-type {\n",
       "        vertical-align: middle;\n",
       "    }\n",
       "\n",
       "    .dataframe tbody tr th {\n",
       "        vertical-align: top;\n",
       "    }\n",
       "\n",
       "    .dataframe thead th {\n",
       "        text-align: right;\n",
       "    }\n",
       "</style>\n",
       "<table border=\"1\" class=\"dataframe\">\n",
       "  <thead>\n",
       "    <tr style=\"text-align: right;\">\n",
       "      <th></th>\n",
       "      <th>CRIM</th>\n",
       "      <th>ZN</th>\n",
       "      <th>INDUS</th>\n",
       "      <th>CHAS</th>\n",
       "      <th>NOX</th>\n",
       "      <th>RM</th>\n",
       "      <th>AGE</th>\n",
       "      <th>DIS</th>\n",
       "      <th>RAD</th>\n",
       "      <th>TAX</th>\n",
       "      <th>PTRATIO</th>\n",
       "      <th>B</th>\n",
       "      <th>LSTAT</th>\n",
       "      <th>MEDV</th>\n",
       "      <th>Zone</th>\n",
       "    </tr>\n",
       "  </thead>\n",
       "  <tbody>\n",
       "    <tr>\n",
       "      <th>0</th>\n",
       "      <td>0.00632</td>\n",
       "      <td>18.0</td>\n",
       "      <td>2.31</td>\n",
       "      <td>0.0</td>\n",
       "      <td>0.538</td>\n",
       "      <td>6.575</td>\n",
       "      <td>65.2</td>\n",
       "      <td>4.0900</td>\n",
       "      <td>1.0</td>\n",
       "      <td>296.0</td>\n",
       "      <td>15.3</td>\n",
       "      <td>396.90</td>\n",
       "      <td>4.98</td>\n",
       "      <td>24.0</td>\n",
       "      <td>18.0</td>\n",
       "    </tr>\n",
       "    <tr>\n",
       "      <th>1</th>\n",
       "      <td>0.02731</td>\n",
       "      <td>0.0</td>\n",
       "      <td>7.07</td>\n",
       "      <td>0.0</td>\n",
       "      <td>0.469</td>\n",
       "      <td>6.421</td>\n",
       "      <td>78.9</td>\n",
       "      <td>4.9671</td>\n",
       "      <td>2.0</td>\n",
       "      <td>242.0</td>\n",
       "      <td>17.8</td>\n",
       "      <td>396.90</td>\n",
       "      <td>9.14</td>\n",
       "      <td>21.6</td>\n",
       "      <td>0.0</td>\n",
       "    </tr>\n",
       "    <tr>\n",
       "      <th>2</th>\n",
       "      <td>0.02729</td>\n",
       "      <td>0.0</td>\n",
       "      <td>7.07</td>\n",
       "      <td>0.0</td>\n",
       "      <td>0.469</td>\n",
       "      <td>7.185</td>\n",
       "      <td>61.1</td>\n",
       "      <td>4.9671</td>\n",
       "      <td>2.0</td>\n",
       "      <td>242.0</td>\n",
       "      <td>17.8</td>\n",
       "      <td>392.83</td>\n",
       "      <td>4.03</td>\n",
       "      <td>34.7</td>\n",
       "      <td>0.0</td>\n",
       "    </tr>\n",
       "    <tr>\n",
       "      <th>3</th>\n",
       "      <td>0.03237</td>\n",
       "      <td>0.0</td>\n",
       "      <td>2.18</td>\n",
       "      <td>0.0</td>\n",
       "      <td>0.458</td>\n",
       "      <td>6.998</td>\n",
       "      <td>45.8</td>\n",
       "      <td>6.0622</td>\n",
       "      <td>3.0</td>\n",
       "      <td>222.0</td>\n",
       "      <td>18.7</td>\n",
       "      <td>394.63</td>\n",
       "      <td>2.94</td>\n",
       "      <td>33.4</td>\n",
       "      <td>0.0</td>\n",
       "    </tr>\n",
       "    <tr>\n",
       "      <th>4</th>\n",
       "      <td>0.06905</td>\n",
       "      <td>0.0</td>\n",
       "      <td>2.18</td>\n",
       "      <td>0.0</td>\n",
       "      <td>0.458</td>\n",
       "      <td>7.147</td>\n",
       "      <td>54.2</td>\n",
       "      <td>6.0622</td>\n",
       "      <td>3.0</td>\n",
       "      <td>222.0</td>\n",
       "      <td>18.7</td>\n",
       "      <td>396.90</td>\n",
       "      <td>5.33</td>\n",
       "      <td>36.2</td>\n",
       "      <td>0.0</td>\n",
       "    </tr>\n",
       "    <tr>\n",
       "      <th>5</th>\n",
       "      <td>0.02985</td>\n",
       "      <td>0.0</td>\n",
       "      <td>2.18</td>\n",
       "      <td>0.0</td>\n",
       "      <td>0.458</td>\n",
       "      <td>6.430</td>\n",
       "      <td>58.7</td>\n",
       "      <td>6.0622</td>\n",
       "      <td>3.0</td>\n",
       "      <td>222.0</td>\n",
       "      <td>18.7</td>\n",
       "      <td>394.12</td>\n",
       "      <td>5.21</td>\n",
       "      <td>28.7</td>\n",
       "      <td>0.0</td>\n",
       "    </tr>\n",
       "    <tr>\n",
       "      <th>6</th>\n",
       "      <td>0.08829</td>\n",
       "      <td>12.5</td>\n",
       "      <td>7.87</td>\n",
       "      <td>0.0</td>\n",
       "      <td>0.524</td>\n",
       "      <td>6.012</td>\n",
       "      <td>66.6</td>\n",
       "      <td>5.5605</td>\n",
       "      <td>5.0</td>\n",
       "      <td>311.0</td>\n",
       "      <td>15.2</td>\n",
       "      <td>395.60</td>\n",
       "      <td>12.43</td>\n",
       "      <td>22.9</td>\n",
       "      <td>12.5</td>\n",
       "    </tr>\n",
       "  </tbody>\n",
       "</table>\n",
       "</div>"
      ],
      "text/plain": [
       "      CRIM    ZN  INDUS CHAS    NOX     RM   AGE     DIS  RAD    TAX  PTRATIO  \\\n",
       "0  0.00632  18.0   2.31  0.0  0.538  6.575  65.2  4.0900  1.0  296.0     15.3   \n",
       "1  0.02731   0.0   7.07  0.0  0.469  6.421  78.9  4.9671  2.0  242.0     17.8   \n",
       "2  0.02729   0.0   7.07  0.0  0.469  7.185  61.1  4.9671  2.0  242.0     17.8   \n",
       "3  0.03237   0.0   2.18  0.0  0.458  6.998  45.8  6.0622  3.0  222.0     18.7   \n",
       "4  0.06905   0.0   2.18  0.0  0.458  7.147  54.2  6.0622  3.0  222.0     18.7   \n",
       "5  0.02985   0.0   2.18  0.0  0.458  6.430  58.7  6.0622  3.0  222.0     18.7   \n",
       "6  0.08829  12.5   7.87  0.0  0.524  6.012  66.6  5.5605  5.0  311.0     15.2   \n",
       "\n",
       "        B  LSTAT  MEDV  Zone  \n",
       "0  396.90   4.98  24.0  18.0  \n",
       "1  396.90   9.14  21.6   0.0  \n",
       "2  392.83   4.03  34.7   0.0  \n",
       "3  394.63   2.94  33.4   0.0  \n",
       "4  396.90   5.33  36.2   0.0  \n",
       "5  394.12   5.21  28.7   0.0  \n",
       "6  395.60  12.43  22.9  12.5  "
      ]
     },
     "execution_count": 50,
     "metadata": {},
     "output_type": "execute_result"
    }
   ],
   "source": [
    "df.head(7)"
   ]
  },
  {
   "cell_type": "markdown",
   "metadata": {},
   "source": [
    "# Tab"
   ]
  },
  {
   "cell_type": "code",
   "execution_count": 51,
   "metadata": {
    "ExecuteTime": {
     "end_time": "2018-09-18T01:28:15.095295Z",
     "start_time": "2018-09-18T01:28:15.092645Z"
    }
   },
   "outputs": [],
   "source": [
    "import numpy as np"
   ]
  },
  {
   "cell_type": "code",
   "execution_count": 52,
   "metadata": {
    "ExecuteTime": {
     "end_time": "2018-09-18T01:28:49.202369Z",
     "start_time": "2018-09-18T01:28:49.184208Z"
    }
   },
   "outputs": [
    {
     "ename": "TypeError",
     "evalue": "chisquare() takes at least 1 positional argument (0 given)",
     "output_type": "error",
     "traceback": [
      "\u001b[0;31m-----------------------------------------------------------------------\u001b[0m",
      "\u001b[0;31mTypeError\u001b[0m                             Traceback (most recent call last)",
      "\u001b[0;32m<ipython-input-52-8575d948e151>\u001b[0m in \u001b[0;36m<module>\u001b[0;34m()\u001b[0m\n\u001b[0;32m----> 1\u001b[0;31m \u001b[0mnp\u001b[0m\u001b[0;34m.\u001b[0m\u001b[0mrandom\u001b[0m\u001b[0;34m.\u001b[0m\u001b[0mchisquare\u001b[0m\u001b[0;34m(\u001b[0m\u001b[0msize\u001b[0m\u001b[0;34m=\u001b[0m\u001b[0;36m5\u001b[0m\u001b[0;34m)\u001b[0m\u001b[0;34m\u001b[0m\u001b[0m\n\u001b[0m",
      "\u001b[0;32mmtrand.pyx\u001b[0m in \u001b[0;36mmtrand.RandomState.chisquare\u001b[0;34m()\u001b[0m\n",
      "\u001b[0;31mTypeError\u001b[0m: chisquare() takes at least 1 positional argument (0 given)"
     ]
    }
   ],
   "source": [
    "np.random.chisquare(size=5)"
   ]
  },
  {
   "cell_type": "code",
   "execution_count": null,
   "metadata": {
    "ExecuteTime": {
     "end_time": "2018-06-06T07:41:48.859315Z",
     "start_time": "2018-06-06T07:41:48.845245Z"
    }
   },
   "outputs": [],
   "source": [
    "# pure tab right ↓ less useful\n",
    "np.random.choice(jafopisjfapoisdjf)"
   ]
  },
  {
   "cell_type": "markdown",
   "metadata": {},
   "source": [
    "## shift-tab"
   ]
  },
  {
   "cell_type": "code",
   "execution_count": null,
   "metadata": {},
   "outputs": [],
   "source": [
    "# shift-tab right ↓ more useful\n",
    "np.linspace(start=, endpoint=, )"
   ]
  },
  {
   "cell_type": "markdown",
   "metadata": {},
   "source": [
    "## shift-tab-tab"
   ]
  },
  {
   "cell_type": "markdown",
   "metadata": {},
   "source": [
    "## shift-tab-tab-tab"
   ]
  },
  {
   "cell_type": "code",
   "execution_count": null,
   "metadata": {},
   "outputs": [],
   "source": [
    "np.linspace(50, 150, num=100, endpoint=False, )"
   ]
  },
  {
   "cell_type": "markdown",
   "metadata": {},
   "source": [
    "## shift-tab-tab-tab-tab"
   ]
  },
  {
   "cell_type": "code",
   "execution_count": null,
   "metadata": {
    "ExecuteTime": {
     "end_time": "2018-06-06T07:41:53.566846Z",
     "start_time": "2018-06-06T07:41:53.556479Z"
    }
   },
   "outputs": [],
   "source": [
    "plt.plot(np.linspace(start, stop,), )"
   ]
  },
  {
   "cell_type": "markdown",
   "metadata": {},
   "source": [
    "## ?"
   ]
  },
  {
   "cell_type": "code",
   "execution_count": 53,
   "metadata": {
    "ExecuteTime": {
     "end_time": "2018-09-18T01:32:28.213813Z",
     "start_time": "2018-09-18T01:32:28.180027Z"
    }
   },
   "outputs": [],
   "source": [
    "np.linspace?"
   ]
  },
  {
   "cell_type": "code",
   "execution_count": 54,
   "metadata": {
    "ExecuteTime": {
     "end_time": "2018-09-18T01:32:45.184457Z",
     "start_time": "2018-09-18T01:32:45.179002Z"
    }
   },
   "outputs": [],
   "source": [
    "?np.linspace"
   ]
  },
  {
   "cell_type": "markdown",
   "metadata": {},
   "source": [
    "## ??\n",
    "\n",
    "(Lab can scroll if you click)"
   ]
  },
  {
   "cell_type": "code",
   "execution_count": 55,
   "metadata": {
    "ExecuteTime": {
     "end_time": "2018-09-18T01:33:02.961792Z",
     "start_time": "2018-09-18T01:33:02.935341Z"
    },
    "scrolled": false
   },
   "outputs": [],
   "source": [
    "np.linspace??"
   ]
  },
  {
   "cell_type": "code",
   "execution_count": 56,
   "metadata": {
    "ExecuteTime": {
     "end_time": "2018-09-18T01:33:44.296947Z",
     "start_time": "2018-09-18T01:33:44.088148Z"
    }
   },
   "outputs": [],
   "source": [
    "!subl ~/miniconda3/envs/dspy3/lib/python3.6/site-packages/numpy/core/function_base.py"
   ]
  },
  {
   "cell_type": "code",
   "execution_count": null,
   "metadata": {},
   "outputs": [],
   "source": []
  },
  {
   "cell_type": "code",
   "execution_count": 57,
   "metadata": {
    "ExecuteTime": {
     "end_time": "2018-09-18T01:34:55.350296Z",
     "start_time": "2018-09-18T01:34:55.345136Z"
    }
   },
   "outputs": [
    {
     "name": "stdout",
     "output_type": "stream",
     "text": [
      "\n",
      "This is a multi-lined string\n",
      "that I want to write inside of a function.\n",
      "Notice what happens when I print this.\n",
      "    And when something is indented more.\n"
     ]
    }
   ],
   "source": [
    "import textwrap\n",
    "def example_function():\n",
    "    \"\"\"Docstring for example function\"\"\"\n",
    "    \n",
    "    print(textwrap.dedent(\"\"\"\n",
    "    This is a multi-lined string\n",
    "    that I want to write inside of a function.\n",
    "    Notice what happens when I print this.\n",
    "        And when something is indented more.\"\"\"))\n",
    "\n",
    "\n",
    "example_function()"
   ]
  },
  {
   "cell_type": "markdown",
   "metadata": {},
   "source": [
    "## Inspect _everything_ and Find and Replace"
   ]
  },
  {
   "cell_type": "code",
   "execution_count": 60,
   "metadata": {
    "ExecuteTime": {
     "end_time": "2018-09-18T01:37:12.315569Z",
     "start_time": "2018-09-18T01:37:12.312660Z"
    }
   },
   "outputs": [],
   "source": [
    "# But first find and replace\n",
    "def silly_function(xval):\n",
    "    \"\"\"Takes a value and returns the value.\"\"\"\n",
    "    xval_sq = xval ** 2.0\n",
    "    1 + 12\n",
    "    xval_abs = np.sqrt(xval_sq)\n",
    "    return xval_abs"
   ]
  },
  {
   "cell_type": "code",
   "execution_count": null,
   "metadata": {},
   "outputs": [],
   "source": [
    "silly_function(2,)"
   ]
  },
  {
   "cell_type": "code",
   "execution_count": null,
   "metadata": {
    "ExecuteTime": {
     "end_time": "2018-06-07T01:29:40.891373Z",
     "start_time": "2018-06-07T01:29:40.886723Z"
    }
   },
   "outputs": [],
   "source": [
    "silly_function?"
   ]
  },
  {
   "cell_type": "code",
   "execution_count": 61,
   "metadata": {
    "ExecuteTime": {
     "end_time": "2018-09-18T01:37:17.908705Z",
     "start_time": "2018-09-18T01:37:17.901124Z"
    }
   },
   "outputs": [],
   "source": [
    "silly_function??"
   ]
  },
  {
   "cell_type": "code",
   "execution_count": 62,
   "metadata": {
    "ExecuteTime": {
     "end_time": "2018-09-18T01:37:52.974847Z",
     "start_time": "2018-09-18T01:37:52.834098Z"
    }
   },
   "outputs": [
    {
     "name": "stdout",
     "output_type": "stream",
     "text": [
      "coal_prod_2008.csv           coalpublic2012.xls\r\n",
      "coal_prod_2009.csv           collincountyforeclosures.csv\r\n",
      "coal_prod_2010.csv           example.csv\r\n",
      "coal_prod_2011.csv           mps.csv\r\n",
      "coal_prod_2012.csv           nbextensions.png\r\n",
      "coal_prod_cleaned.csv        raw_players.csv.gz\r\n",
      "coal_prod_cleaned.csv.zip\r\n"
     ]
    }
   ],
   "source": [
    "!ls ../data/"
   ]
  },
  {
   "cell_type": "code",
   "execution_count": 65,
   "metadata": {
    "ExecuteTime": {
     "end_time": "2018-09-18T01:39:11.278335Z",
     "start_time": "2018-09-18T01:39:11.262501Z"
    }
   },
   "outputs": [],
   "source": [
    "coal_years = !ls ../data/coal_prod_20*.csv"
   ]
  },
  {
   "cell_type": "code",
   "execution_count": 66,
   "metadata": {
    "ExecuteTime": {
     "end_time": "2018-09-18T01:39:11.687849Z",
     "start_time": "2018-09-18T01:39:11.681540Z"
    }
   },
   "outputs": [
    {
     "data": {
      "text/plain": [
       "['../data/coal_prod_2008.csv',\n",
       " '../data/coal_prod_2009.csv',\n",
       " '../data/coal_prod_2010.csv',\n",
       " '../data/coal_prod_2011.csv',\n",
       " '../data/coal_prod_2012.csv']"
      ]
     },
     "execution_count": 66,
     "metadata": {},
     "output_type": "execute_result"
    }
   ],
   "source": [
    "coal_years"
   ]
  },
  {
   "cell_type": "markdown",
   "metadata": {},
   "source": [
    "## Line numbers (lowercase \"L\")\n",
    "\n",
    "Type lowercase \"L\" to have line numbers; shift-L for line numbers notebook-wide."
   ]
  },
  {
   "cell_type": "markdown",
   "metadata": {},
   "source": [
    "## Move blocks of code around\n",
    "\n",
    "\n",
    "### Indent/dedent\n",
    "\n",
    "    Cmd + [\n",
    "    Cmd + ]\n",
    "\n",
    "### Comment\n",
    "\n",
    "    Cmd + /"
   ]
  },
  {
   "cell_type": "code",
   "execution_count": 67,
   "metadata": {
    "ExecuteTime": {
     "end_time": "2018-09-18T01:41:44.039339Z",
     "start_time": "2018-09-18T01:41:44.034049Z"
    }
   },
   "outputs": [],
   "source": [
    "example_dict = {}\n",
    "\n",
    "# Indent/dedent/comment\n",
    "for index in range(5):\n",
    "    example_dict[\"one\"] = 1\n",
    "    example_dict[\"two\"] = 2\n",
    "    example_dict[\"three\"] = 3\n",
    "    example_dict[\"four\"] = 4"
   ]
  },
  {
   "cell_type": "markdown",
   "metadata": {},
   "source": [
    "## Multicursor magic\n",
    "\n",
    "Hold down `option`, click and drag (for big cursor).\n",
    "\n",
    "cmd + click == wherever you click. \n",
    "\n",
    "Shift command P -- command palette."
   ]
  },
  {
   "cell_type": "code",
   "execution_count": 68,
   "metadata": {
    "ExecuteTime": {
     "end_time": "2018-09-18T01:45:29.194287Z",
     "start_time": "2018-09-18T01:45:29.191089Z"
    }
   },
   "outputs": [],
   "source": [
    "example_dict[\"prepend_one_better_neat\"] = 1.0\n",
    "example_dict[\"prepend_two_better_neat\"] = 2.0\n",
    "example_dict[\"prepend_three_better_neat\"] = 3.0\n",
    "example_dict[\"prepend_four_better_neat\"] = 4.0"
   ]
  },
  {
   "cell_type": "markdown",
   "metadata": {},
   "source": [
    "## Monospace"
   ]
  },
  {
   "cell_type": "markdown",
   "metadata": {},
   "source": [
    "You can also get `monospaced` fonts by indenting 4 spaces:\n",
    "\n",
    "    mkdir toc\n",
    "    cd toc"
   ]
  },
  {
   "cell_type": "markdown",
   "metadata": {},
   "source": [
    "## Syntax Highlighting"
   ]
  },
  {
   "cell_type": "markdown",
   "metadata": {},
   "source": [
    "Wrap with triple-backticks and language:\n",
    "\n",
    "```bash\n",
    "mkdir toc\n",
    "cd toc\n",
    "wget https://repo.continuum.io/miniconda/Miniconda3-latest-MacOSX-x86_64.sh\n",
    "```"
   ]
  },
  {
   "cell_type": "markdown",
   "metadata": {},
   "source": [
    "```SQL\n",
    "SELECT first_name,\n",
    "       last_name,\n",
    "       year_of_birth\n",
    "FROM presidents\n",
    "WHERE year_of_birth > 1800;\n",
    "```"
   ]
  },
  {
   "cell_type": "markdown",
   "metadata": {},
   "source": [
    "## Headings and LaTeX\n",
    "\n",
    "With text and $\\LaTeX$ support.\n",
    "\n",
    "$$\\begin{align}\n",
    "        B'&=-\\nabla \\times E,\\\\\n",
    "        E'&=\\nabla \\times B - 4\\pi j\n",
    "\\end{align}$$"
   ]
  },
  {
   "cell_type": "markdown",
   "metadata": {},
   "source": [
    "# Magics\n",
    "\n",
    " - `%` $\\equiv$ inline magic\n",
    " - `%%` $\\equiv$ cell magic"
   ]
  },
  {
   "cell_type": "code",
   "execution_count": 69,
   "metadata": {
    "ExecuteTime": {
     "end_time": "2018-09-18T01:48:57.087216Z",
     "start_time": "2018-09-18T01:48:57.080242Z"
    }
   },
   "outputs": [
    {
     "data": {
      "text/latex": [
       "\n",
       "If you want to get crazier$\\ldots$\n",
       "\n",
       "\\begin{equation}\n",
       "\\oint_S {E_n dA = \\frac{1}{{\\varepsilon _0 }}} Q_\\textrm{inside}\n",
       "\\end{equation}"
      ],
      "text/plain": [
       "<IPython.core.display.Latex object>"
      ]
     },
     "metadata": {},
     "output_type": "display_data"
    }
   ],
   "source": [
    "%%latex\n",
    "\n",
    "If you want to get crazier$\\ldots$\n",
    "\n",
    "\\begin{equation}\n",
    "\\oint_S {E_n dA = \\frac{1}{{\\varepsilon _0 }}} Q_\\textrm{inside}\n",
    "\\end{equation}"
   ]
  },
  {
   "cell_type": "code",
   "execution_count": 70,
   "metadata": {
    "ExecuteTime": {
     "end_time": "2018-09-18T01:51:50.605471Z",
     "start_time": "2018-09-18T01:51:49.047092Z"
    },
    "collapsed": true
   },
   "outputs": [
    {
     "name": "stdout",
     "output_type": "stream",
     "text": [
      "./\n",
      "./00README\n",
      "./atom.dat\n",
      "./atomtab.f\n",
      "./autovpin.f\n",
      "./bintofits.f\n",
      "./calcn.f\n",
      "./case.f\n",
      "./chanwav.f\n",
      "./checkb.f\n",
      "./chisum26.f\n",
      "./cmax1.f\n",
      "./cms_src.f\n",
      "./com_cons.f\n",
      "./dcholin.f\n",
      "./dexpf.f\n",
      "./dlycabscft.f\n",
      "./docs/\n",
      "./docs/rdgen10.2.pdf\n",
      "./docs/vpfit10.2.pdf\n",
      "./dotick.f\n",
      "./dpoly.f\n",
      "./dsepvar.f\n",
      "./eigen.f\n",
      "./erfcc.f\n",
      "./externals.f\n",
      "./fl_gen.f\n",
      "./gen_vpin.f\n",
      "./ginsert.f\n",
      "./gu_tabsort.f\n",
      "./hedit.f\n",
      "./linfit.f\n",
      "./lm_udchole.f\n",
      "./lyregset.f\n",
      "./makefile\n",
      "./medianv.f\n",
      "./MMatomdat_atom_noiso.dat\n",
      "./pda_che2d.f\n",
      "./pda_dp1vlu.f\n",
      "./pda_dpcoef.f\n",
      "./pda_dpolft.f\n",
      "./pda_qsiad.f\n",
      "./pda_src.f\n",
      "./pda_xermsg.f\n",
      "./pgfiles/\n",
      "./pgfiles/Al.pg\n",
      "./pgfiles/AlSi.pg\n",
      "./pgfiles/CaII.pg\n",
      "./pgfiles/CI2.pg\n",
      "./pgfiles/CIH2.pg\n",
      "./pgfiles/CII.pg\n",
      "./pgfiles/CII.pg~\n",
      "./pgfiles/CIIOI.pg\n",
      "./pgfiles/CIIOI.pg~\n",
      "./pgfiles/CIISi.pg\n",
      "./pgfiles/CIV.pg\n",
      "./pgfiles/CIVSiIV.pg\n",
      "./pgfiles/CrZn.pg\n",
      "./pgfiles/FeII.pg\n",
      "./pgfiles/FeIIhi.pg\n",
      "./pgfiles/hc.pg\n",
      "./pgfiles/HC4.pg\n",
      "./pgfiles/HCNlo.pg\n",
      "./pgfiles/hcnosi.pg\n",
      "./pgfiles/hcsi.pg\n",
      "./pgfiles/HD.pg\n",
      "./pgfiles/HDs.pg\n",
      "./pgfiles/HHC4N5O6.pg\n",
      "./pgfiles/HHC4O6.pg\n",
      "./pgfiles/HHC4O6Si4.pg\n",
      "./pgfiles/HHC4Si4.pg\n",
      "./pgfiles/HHO6.pg\n",
      "./pgfiles/hiHCNO.pg\n",
      "./pgfiles/hiHCOSi.pg\n",
      "./pgfiles/hiion.pg\n",
      "./pgfiles/hiSi.pg\n",
      "./pgfiles/HNI.pg\n",
      "./pgfiles/HOhi.pg\n",
      "./pgfiles/HQhi.pg\n",
      "./pgfiles/Hvhi.pg\n",
      "./pgfiles/LaCIV.pg\n",
      "./pgfiles/LaN.pg\n",
      "./pgfiles/laonly.pg\n",
      "./pgfiles/LL.pg\n",
      "./pgfiles/LLO.pg\n",
      "./pgfiles/llyman.pg\n",
      "./pgfiles/loc.pg\n",
      "./pgfiles/local.pg\n",
      "./pgfiles/lohi.pg\n",
      "./pgfiles/lointhi.pg\n",
      "./pgfiles/lointz.pg\n",
      "./pgfiles/loion.pg\n",
      "./pgfiles/loloz.pg\n",
      "./pgfiles/lorare.pg\n",
      "./pgfiles/lowz.pg\n",
      "./pgfiles/lowzFeII.pg\n",
      "./pgfiles/ly4.pg\n",
      "./pgfiles/lyabg.pg\n",
      "./pgfiles/lyman.pg\n",
      "./pgfiles/lyman8.pg\n",
      "./pgfiles/MgFeMn.pg\n",
      "./pgfiles/MgICI.pg\n",
      "./pgfiles/MgII.pg\n",
      "./pgfiles/MgIIFeII.pg\n",
      "./pgfiles/NaCa.pg\n",
      "./pgfiles/NiII.pg\n",
      "./pgfiles/nitrogen.pg\n",
      "./pgfiles/NV.pg\n",
      "./pgfiles/OI.pg\n",
      "./pgfiles/OIArI.pg\n",
      "./pgfiles/oneline.pg\n",
      "./pgfiles/OSipair.pg\n",
      "./pgfiles/OVI.pg\n",
      "./pgfiles/OVIHI.pg\n",
      "./pgfiles/range.pg\n",
      "./pgfiles/sdlaion.pg\n",
      "./pgfiles/SiII.pg\n",
      "./pgfiles/SiIIfs.pg\n",
      "./pgfiles/SiIIl.pg\n",
      "./pgfiles/SiIV.pg\n",
      "./pgfiles/stloion.pg\n",
      "./pgfiles/strong.pg\n",
      "./pgfiles/TiII.pg\n",
      "./pgfiles/ultralow.pg\n",
      "./pgfiles/vhiHCNO.pg\n",
      "./pldef.f\n",
      "./plset.f\n",
      "./pr_mdian1.f\n",
      "./prg_polyd.f\n",
      "./probks.f\n",
      "./rd_ablin.f\n",
      "./rd_adnois.f\n",
      "./rd_alias.f\n",
      "./rd_comalias.f\n",
      "./rd_compreset.f\n",
      "./rd_cuchstr.f\n",
      "./rd_cufilnm.f\n",
      "./rd_cuplot.f\n",
      "./rd_cuwvrest.f\n",
      "./rd_cydata.f\n",
      "./rd_daswap.f\n",
      "./rd_dblid.f\n",
      "./rd_dmanip.f\n",
      "./rd_drebin.f\n",
      "./rd_dvcont.f\n",
      "./rd_estcolb.f\n",
      "./rd_ewwav.f\n",
      "./rd_extabs.f\n",
      "./rd_fluxbb.f\n",
      "./rd_gen.f\n",
      "./rd_gprof.f\n",
      "./rd_gprofe.f\n",
      "./rd_gpsim.f\n",
      "./rd_hdust.f\n",
      "./rd_intvtab.f\n",
      "./rd_markreg.f\n",
      "./rd_mattrd.f\n",
      "./rd_meantau.f\n",
      "./rd_moderrs.f\n",
      "./rd_multiset.f\n",
      "./rd_pgannot.f\n",
      "./rd_plcset.f\n",
      "./rd_pmpset.f\n",
      "./rd_prhelp.dat\n",
      "./rd_prhelp.f\n",
      "./rd_qdatafiles.f\n",
      "./rd_readlinwav.f\n",
      "./rd_sclsig.f\n",
      "./rd_scrn.f\n",
      "./rd_setintv.f\n",
      "./rd_sizes.f\n",
      "./rd_splvtick.f\n",
      "./rd_stackz.f\n",
      "./rd_start.dat\n",
      "./rd_stplot.f\n",
      "./rd_tgplots.f\n",
      "./rd_tickvpfl.f\n",
      "./rd_ulims.f\n",
      "./rd_ulimse.f\n",
      "./rd_ulimx.f\n",
      "./rd_ulinfo.f\n",
      "./rd_wrfits.f\n",
      "./rd_wrwcfits.f\n",
      "./rd_wvsc.f\n",
      "./rd_xcdc.f\n",
      "./rd_zcorr.f\n",
      "./rd_ztabcf.f\n",
      "./sepvar.f\n",
      "./splot.f\n",
      "./spvoigt.f\n",
      "./svbksbd.f\n",
      "./svdajc.f\n",
      "./svdcmpd.f\n",
      "./svdfit.f\n",
      "./test.f\n",
      "./tickpg.f\n",
      "./tiedb.f\n",
      "./tikset.f\n",
      "./tstfit3d.f\n",
      "./udchole.f\n",
      "./varythis.f\n",
      "./voigt_king.f\n",
      "./vp_abfind.f\n",
      "./vp_abundset.f\n",
      "./vp_addline.f\n",
      "./vp_addxlink.f\n",
      "./vp_archwav.f\n",
      "./vp_asciin.f\n",
      "./vp_ationsep.f\n",
      "./vp_atomass.f\n",
      "./vp_blfixf.f\n",
      "./vp_cfcopy.f\n",
      "./vp_chanwav.f\n",
      "./vp_charlims.f\n",
      "./vp_chdisprof.f\n",
      "./vp_checkn.f\n",
      "./vp_chipconv.f\n",
      "./vp_chsation.f\n",
      "./vp_chspread.f\n",
      "./vp_cmssrc.f\n",
      "./vp_curse.f\n",
      "./vp_cval.f\n",
      "./vp_dattim.f\n",
      "./vp_dattim_alt.f\n",
      "./vp_deriv.f\n",
      "./vp_dlinin.f\n",
      "./vp_dlset.f\n",
      "./vp_dotick.f\n",
      "./vp_emlsmry.f\n",
      "./vp_empval.f\n",
      "./vp_emscchk.f\n",
      "./vp_emtset.f\n",
      "./vp_endorder.f\n",
      "./vp_endrej.f\n",
      "./vp_errej.f\n",
      "./vp_ewred.f\n",
      "./vp_f13fin.f\n",
      "./vp_f13finx.f\n",
      "./vp_f13read.f\n",
      "./vp_f_sigscl.f\n",
      "./vp_fgf13write.f\n",
      "./vp_flchderivs.f\n",
      "./vp_fnzbin.f\n",
      "./vp_getargs.f\n",
      "./vp_getres.f\n",
      "./vp_gglwcoeff.f\n",
      "./vp_gsclfts.f\n",
      "./vp_gwatfits.f\n",
      "./vp_initval.f\n",
      "./vp_ionregcheck.f\n",
      "./vp_ksvnorm.f\n",
      "./vp_lineid.f\n",
      "./vp_linlim.f\n",
      "./vp_listfiles.f\n",
      "./vp_lycont.f\n",
      "./vp_lyconte.f\n",
      "./vp_minpol.f\n",
      "./vp_minquad.f\n",
      "./vp_nearlin.f\n",
      "./vp_newtfxl.f\n",
      "./vp_pareorder.f\n",
      "./vp_parmcest.f\n",
      "./vp_pgbegin.f\n",
      "./vp_pgcurs.f\n",
      "./vp_plcset.f\n",
      "./vp_poisson.f\n",
      "./vp_presetsys.f\n",
      "./vp_psfinterp.f\n",
      "./vp_rdbwvfts.f\n",
      "./vp_rdlines.f\n",
      "./vp_rdspecial.f\n",
      "./vp_rdwaveval.f\n",
      "./vp_readfits.f\n",
      "./vp_rfitsext.f\n",
      "./vp_runstst.f\n",
      "./vp_rwlims.f\n",
      "./vp_scontf.f\n",
      "./vp_setintv.f\n",
      "./vp_setoptn.f\n",
      "./vp_setup.dat\n",
      "./vp_sizes.f\n",
      "./vp_smry.f\n",
      "./vp_spdatin.f\n",
      "./vp_splot.dat\n",
      "./vp_spread.f\n",
      "./vp_spvoigte.f\n",
      "./vp_srcpath.f\n",
      "./vp_startval.f\n",
      "./vp_stration.f\n",
      "./vp_stripcmt.f\n",
      "./vp_subchspread.f\n",
      "./vp_sumlinclear.f\n",
      "./vp_sysdel.f\n",
      "./vp_tdcolset.f\n",
      "./vp_tieval.f\n",
      "./vp_trimattab.f\n",
      "./vp_tsetxref.f\n",
      "./vp_ucheck.f\n",
      "./vp_ucoptv.f\n",
      "./vp_ucprinerr.f\n",
      "./vp_ucprinit.f\n",
      "./vp_usdef.f\n",
      "./vp_vreset.f\n",
      "./vp_wrt25.f\n",
      "./vp_wval.f\n",
      "./vp_wvalch.f\n",
      "./vp_wvalsubch.f\n",
      "./vp_wverass.f\n",
      "./vpf_bvalsp.f\n",
      "./vpf_dvresn.f\n",
      "./vpfit.f\n",
      "./vpgti.f\n",
      "./vppreset.com\n",
      "./vpreset.awk\n",
      "./wcor.f\n",
      "./wval.f\n"
     ]
    },
    {
     "name": "stderr",
     "output_type": "stream",
     "text": [
      "--2018-09-17 18:51:49--  http://www.ast.cam.ac.uk/~rfc/vpfit10.2.tar.gz\n",
      "Resolving www.ast.cam.ac.uk (www.ast.cam.ac.uk)... 131.111.71.71\n",
      "Connecting to www.ast.cam.ac.uk (www.ast.cam.ac.uk)|131.111.71.71|:80... connected.\n",
      "HTTP request sent, awaiting response... 301 Moved Permanently\n",
      "Location: https://www.ast.cam.ac.uk:443/~rfc/vpfit10.2.tar.gz [following]\n",
      "--2018-09-17 18:51:49--  https://www.ast.cam.ac.uk/~rfc/vpfit10.2.tar.gz\n",
      "Connecting to www.ast.cam.ac.uk (www.ast.cam.ac.uk)|131.111.71.71|:443... connected.\n",
      "HTTP request sent, awaiting response... 404 Not Found\n",
      "2018-09-17 18:51:50 ERROR 404: Not Found.\n",
      "\n",
      "mkdir: vpfit10: File exists\n"
     ]
    }
   ],
   "source": [
    "%%bash\n",
    "wget http://www.ast.cam.ac.uk/~rfc/vpfit10.2.tar.gz\n",
    "mkdir vpfit10\n",
    "cd vpfit10\n",
    "tar -xvzf ../vpfit10.2.tar.gz"
   ]
  },
  {
   "cell_type": "code",
   "execution_count": 71,
   "metadata": {
    "ExecuteTime": {
     "end_time": "2018-09-18T01:53:17.624610Z",
     "start_time": "2018-09-18T01:53:17.621715Z"
    }
   },
   "outputs": [],
   "source": [
    "normal_argument = 12.4\n",
    "second_argument = 98.4\n",
    "\n",
    "arg_with_spaces = \"the secret to life\""
   ]
  },
  {
   "cell_type": "code",
   "execution_count": 72,
   "metadata": {
    "ExecuteTime": {
     "end_time": "2018-09-18T01:53:25.535665Z",
     "start_time": "2018-09-18T01:53:25.505202Z"
    }
   },
   "outputs": [
    {
     "name": "stdout",
     "output_type": "stream",
     "text": [
      "This script knows the value of the argument: 12.4\n",
      "It also has no trouble with the second argument: 98.4\n"
     ]
    }
   ],
   "source": [
    "%%bash -s {normal_argument} {second_argument}\n",
    "echo \"This script knows the value of the argument: $1\"\n",
    "echo \"It also has no trouble with the second argument: $2\""
   ]
  },
  {
   "cell_type": "code",
   "execution_count": 73,
   "metadata": {
    "ExecuteTime": {
     "end_time": "2018-09-18T01:53:41.404355Z",
     "start_time": "2018-09-18T01:53:41.383747Z"
    }
   },
   "outputs": [
    {
     "name": "stdout",
     "output_type": "stream",
     "text": [
      "This bash script knows the secret to life.\n"
     ]
    }
   ],
   "source": [
    "%%bash -s \"$arg_with_spaces\"\n",
    "echo \"This bash script knows $1.\""
   ]
  },
  {
   "cell_type": "code",
   "execution_count": 74,
   "metadata": {
    "ExecuteTime": {
     "end_time": "2018-09-18T01:55:51.266885Z",
     "start_time": "2018-09-18T01:55:51.133335Z"
    }
   },
   "outputs": [
    {
     "name": "stdout",
     "output_type": "stream",
     "text": [
      "00-Overview.ipynb                Basic-Plotting.ipynb\r\n",
      "01-Tips-and-tricks.ipynb         Data_Cleaning.ipynb\r\n",
      "02-NBExtensions.ipynb            Example-pycat.ipynb\r\n",
      "03-Interactive-Splines.ipynb     delete.ipynb\r\n",
      "04-Autoreload.ipynb              ex1.png\r\n",
      "05-SQL-Example.ipynb             history.ipynb\r\n",
      "06-Advanced-Visualization.ipynb  jupyterlab-example.md\r\n",
      "07-Some_basics.ipynb             pivottablejs.html\r\n",
      "08-More_basics.ipynb             presidents.sqlite\r\n",
      "09-Extras.ipynb                  \u001b[34mvpfit10\u001b[m\u001b[m/\r\n",
      "10-R-stuff.ipynb                 vpfit10.2.tar.gz\r\n",
      "11-older-stuff.ipynb             vpfit10.2.tar.gz.1\r\n",
      "12-old-pandas.ipynb              vpfit10.2.tar.gz.2\r\n",
      "3d-example-plot.html             vpfit10.2.tar.gz.3\r\n",
      "Advanced-Notebook-Tricks.ipynb\r\n"
     ]
    }
   ],
   "source": [
    "ls"
   ]
  },
  {
   "cell_type": "code",
   "execution_count": 75,
   "metadata": {
    "ExecuteTime": {
     "end_time": "2018-09-18T01:55:56.486231Z",
     "start_time": "2018-09-18T01:55:56.356579Z"
    }
   },
   "outputs": [
    {
     "name": "stdout",
     "output_type": "stream",
     "text": [
      "00-Overview.ipynb               Basic-Plotting.ipynb\r\n",
      "01-Tips-and-tricks.ipynb        Data_Cleaning.ipynb\r\n",
      "02-NBExtensions.ipynb           Example-pycat.ipynb\r\n",
      "03-Interactive-Splines.ipynb    delete.ipynb\r\n",
      "04-Autoreload.ipynb             ex1.png\r\n",
      "05-SQL-Example.ipynb            history.ipynb\r\n",
      "06-Advanced-Visualization.ipynb jupyterlab-example.md\r\n",
      "07-Some_basics.ipynb            pivottablejs.html\r\n",
      "08-More_basics.ipynb            presidents.sqlite\r\n",
      "09-Extras.ipynb                 \u001b[34mvpfit10\u001b[m\u001b[m\r\n",
      "10-R-stuff.ipynb                vpfit10.2.tar.gz\r\n",
      "11-older-stuff.ipynb            vpfit10.2.tar.gz.1\r\n",
      "12-old-pandas.ipynb             vpfit10.2.tar.gz.2\r\n",
      "3d-example-plot.html            vpfit10.2.tar.gz.3\r\n",
      "Advanced-Notebook-Tricks.ipynb\r\n"
     ]
    }
   ],
   "source": [
    "!ls"
   ]
  },
  {
   "cell_type": "code",
   "execution_count": 76,
   "metadata": {
    "ExecuteTime": {
     "end_time": "2018-09-18T01:55:59.309383Z",
     "start_time": "2018-09-18T01:55:59.180253Z"
    }
   },
   "outputs": [
    {
     "name": "stdout",
     "output_type": "stream",
     "text": [
      "00-Overview.ipynb                Basic-Plotting.ipynb\r\n",
      "01-Tips-and-tricks.ipynb         Data_Cleaning.ipynb\r\n",
      "02-NBExtensions.ipynb            Example-pycat.ipynb\r\n",
      "03-Interactive-Splines.ipynb     delete.ipynb\r\n",
      "04-Autoreload.ipynb              ex1.png\r\n",
      "05-SQL-Example.ipynb             history.ipynb\r\n",
      "06-Advanced-Visualization.ipynb  jupyterlab-example.md\r\n",
      "07-Some_basics.ipynb             pivottablejs.html\r\n",
      "08-More_basics.ipynb             presidents.sqlite\r\n",
      "09-Extras.ipynb                  \u001b[34mvpfit10\u001b[m\u001b[m/\r\n",
      "10-R-stuff.ipynb                 vpfit10.2.tar.gz\r\n",
      "11-older-stuff.ipynb             vpfit10.2.tar.gz.1\r\n",
      "12-old-pandas.ipynb              vpfit10.2.tar.gz.2\r\n",
      "3d-example-plot.html             vpfit10.2.tar.gz.3\r\n",
      "Advanced-Notebook-Tricks.ipynb\r\n"
     ]
    }
   ],
   "source": [
    "%ls"
   ]
  },
  {
   "cell_type": "code",
   "execution_count": null,
   "metadata": {
    "ExecuteTime": {
     "end_time": "2018-06-07T01:43:31.212664Z",
     "start_time": "2018-06-07T01:43:31.084900Z"
    },
    "scrolled": true
   },
   "outputs": [],
   "source": [
    "ls vpfit10/"
   ]
  },
  {
   "cell_type": "code",
   "execution_count": 77,
   "metadata": {
    "ExecuteTime": {
     "end_time": "2018-09-18T01:56:06.420870Z",
     "start_time": "2018-09-18T01:56:06.416845Z"
    }
   },
   "outputs": [],
   "source": [
    "tailthing = \"*.ipynb\""
   ]
  },
  {
   "cell_type": "code",
   "execution_count": 78,
   "metadata": {
    "ExecuteTime": {
     "end_time": "2018-09-18T01:56:06.658135Z",
     "start_time": "2018-09-18T01:56:06.654043Z"
    }
   },
   "outputs": [
    {
     "data": {
      "text/plain": [
       "'*.ipynb'"
      ]
     },
     "execution_count": 78,
     "metadata": {},
     "output_type": "execute_result"
    }
   ],
   "source": [
    "tailthing"
   ]
  },
  {
   "cell_type": "code",
   "execution_count": 79,
   "metadata": {
    "ExecuteTime": {
     "end_time": "2018-09-18T01:56:07.183527Z",
     "start_time": "2018-09-18T01:56:07.056097Z"
    }
   },
   "outputs": [
    {
     "name": "stdout",
     "output_type": "stream",
     "text": [
      "00-Overview.ipynb               10-R-stuff.ipynb\r\n",
      "01-Tips-and-tricks.ipynb        11-older-stuff.ipynb\r\n",
      "02-NBExtensions.ipynb           12-old-pandas.ipynb\r\n",
      "03-Interactive-Splines.ipynb    Advanced-Notebook-Tricks.ipynb\r\n",
      "04-Autoreload.ipynb             Basic-Plotting.ipynb\r\n",
      "05-SQL-Example.ipynb            Data_Cleaning.ipynb\r\n",
      "06-Advanced-Visualization.ipynb Example-pycat.ipynb\r\n",
      "07-Some_basics.ipynb            delete.ipynb\r\n",
      "08-More_basics.ipynb            history.ipynb\r\n",
      "09-Extras.ipynb\r\n"
     ]
    }
   ],
   "source": [
    "!ls {tailthing}"
   ]
  },
  {
   "cell_type": "code",
   "execution_count": null,
   "metadata": {
    "ExecuteTime": {
     "end_time": "2018-06-07T01:44:22.656902Z",
     "start_time": "2018-06-07T01:44:22.643206Z"
    }
   },
   "outputs": [],
   "source": [
    "output = !ls "
   ]
  },
  {
   "cell_type": "code",
   "execution_count": null,
   "metadata": {
    "ExecuteTime": {
     "end_time": "2018-06-07T01:44:28.983447Z",
     "start_time": "2018-06-07T01:44:28.978506Z"
    }
   },
   "outputs": [],
   "source": [
    "output"
   ]
  },
  {
   "cell_type": "code",
   "execution_count": 80,
   "metadata": {
    "ExecuteTime": {
     "end_time": "2018-09-18T01:56:35.008783Z",
     "start_time": "2018-09-18T01:56:35.002291Z"
    }
   },
   "outputs": [
    {
     "data": {
      "text/plain": [
       "{'SSH_AGENT_PID': '2481',\n",
       " 'TERM_PROGRAM': 'iTerm.app',\n",
       " 'TERM': 'xterm-color',\n",
       " 'SHELL': '/bin/bash',\n",
       " 'initials': 'jbw',\n",
       " 'CLICOLOR': '1',\n",
       " 'TMPDIR': '/var/folders/yk/2rgr0zrj0614jntythcnlyvw0000gn/T/',\n",
       " 'CONDA_SHLVL': '1',\n",
       " 'Apple_PubSub_Socket_Render': '/private/tmp/com.apple.launchd.TvGrZnHaI7/Render',\n",
       " 'CONDA_PROMPT_MODIFIER': '(dspy3) ',\n",
       " 'BASH': '/Users/jonathan/.dotfiles',\n",
       " 'TERM_PROGRAM_VERSION': '3.2.0',\n",
       " 'OLDPWD': '/Users/jonathan/github',\n",
       " 'TERM_SESSION_ID': 'w0t0p0:E986FE70-65B5-42A4-BEF7-C9067EF5485C',\n",
       " 'USER': 'jonathan',\n",
       " 'CONDA_EXE': '/Users/jonathan/miniconda3/bin/conda',\n",
       " 'SSH_AUTH_SOCK': '/var/folders/yk/2rgr0zrj0614jntythcnlyvw0000gn/T//ssh-OtYDstwhzvmz/agent.2479',\n",
       " '__CF_USER_TEXT_ENCODING': '0x1F5:0x0:0x0',\n",
       " 'PATH': '/Users/jonathan/miniconda3/envs/dspy3/bin:/Users/jonathan/miniconda3/envs/dspy3/bin:/Users/jonathan/miniconda3/bin:/usr/local/bin:/usr/bin:/bin:/usr/sbin:/sbin:/Library/TeX/texbin:/opt/X11/bin',\n",
       " 'CONDA_PREFIX': '/Users/jonathan/miniconda3/envs/dspy3',\n",
       " 'PWD': '/Users/jonathan/github/jupyter-tips-and-tricks',\n",
       " 'EDITOR': 'vim',\n",
       " 'LANG': 'en_US.UTF-8',\n",
       " 'ITERM_PROFILE': 'Default',\n",
       " 'XPC_FLAGS': '0x0',\n",
       " 'ITERM_ORIG_PS1': '(dspy3) \\\\n# \\\\w\\\\n# \\\\[\\\\e[0;32m\\\\]\\\\h \\\\[\\\\e[0m\\\\]\\\\[\\\\e[0;36m\\\\]${git_branch}\\\\[\\\\e[0;31m\\\\]$git_dirty\\\\[\\\\e[0m\\\\]$ ',\n",
       " 'PS1': '(dspy3) \\\\n# \\\\w\\\\n# \\\\[\\\\e[0;32m\\\\]\\\\h \\\\[\\\\e[0m\\\\]\\\\[\\\\e[0;36m\\\\]${git_branch}\\\\[\\\\e[0;31m\\\\]$git_dirty\\\\[\\\\e[0m\\\\]$ ',\n",
       " 'PS3': '#? ',\n",
       " 'HISTCONTROL': 'ignoreboth',\n",
       " 'PS2': '> ',\n",
       " 'XPC_SERVICE_NAME': '0',\n",
       " 'GITAWAREPROMPT': '/Users/jonathan/.bash/git-aware-prompt',\n",
       " 'SHLVL': '1',\n",
       " 'PS4': '+',\n",
       " 'HOME': '/Users/jonathan',\n",
       " 'COLORFGBG': '15;0',\n",
       " 'ITERM_PREV_PS1': '\\\\[\\x1b]133;D;$?\\x07\\x1b]133;A\\x07\\\\](dspy3) \\\\n# \\\\w\\\\n# \\\\[\\\\e[0;32m\\\\]\\\\h \\\\[\\\\e[0m\\\\]\\\\[\\\\e[0;36m\\\\]${git_branch}\\\\[\\\\e[0;31m\\\\]$git_dirty\\\\[\\\\e[0m\\\\]$ \\\\[\\x1b]133;B\\x07\\\\]',\n",
       " 'ITERM_SESSION_ID': 'w0t0p0:E986FE70-65B5-42A4-BEF7-C9067EF5485C',\n",
       " 'CONDA_PYTHON_EXE': '/Users/jonathan/miniconda3/bin/python',\n",
       " 'LOGNAME': 'jonathan',\n",
       " 'CONDA_DEFAULT_ENV': 'dspy3',\n",
       " 'PROMPT_COMMAND': '__bp_precmd_invoke_cmd; echo -ne \"\\\\033]0;${USER}@${HOSTNAME%%.*} ${PWD}\"; echo -ne \"\\\\007\"; __bp_interactive_mode',\n",
       " 'DISPLAY': '/private/tmp/com.apple.launchd.h7BfCglOn7/org.macosforge.xquartz:0',\n",
       " 'COLORTERM': 'truecolor',\n",
       " '_': '/Users/jonathan/miniconda3/envs/dspy3/bin/jupyter',\n",
       " 'GIT_PYTHON_REFRESH': 'quiet',\n",
       " 'JPY_PARENT_PID': '36791',\n",
       " 'PAGER': 'cat',\n",
       " 'GIT_PAGER': 'cat',\n",
       " 'MPLBACKEND': 'module://ipykernel.pylab.backend_inline'}"
      ]
     },
     "execution_count": 80,
     "metadata": {},
     "output_type": "execute_result"
    }
   ],
   "source": [
    "%env "
   ]
  },
  {
   "cell_type": "code",
   "execution_count": null,
   "metadata": {},
   "outputs": [],
   "source": []
  },
  {
   "cell_type": "markdown",
   "metadata": {},
   "source": [
    "## Danger zone\n",
    "\n",
    "    _, _N and _iN"
   ]
  },
  {
   "cell_type": "code",
   "execution_count": 81,
   "metadata": {
    "ExecuteTime": {
     "end_time": "2018-09-18T01:58:13.733397Z",
     "start_time": "2018-09-18T01:58:13.610701Z"
    }
   },
   "outputs": [
    {
     "name": "stdout",
     "output_type": "stream",
     "text": [
      "/Users/jonathan/github/jupyter-tips-and-tricks/notebooks\r\n"
     ]
    }
   ],
   "source": [
    "!pwd"
   ]
  },
  {
   "cell_type": "code",
   "execution_count": 82,
   "metadata": {
    "ExecuteTime": {
     "end_time": "2018-09-18T01:58:15.294337Z",
     "start_time": "2018-09-18T01:58:15.288906Z"
    }
   },
   "outputs": [
    {
     "data": {
      "text/plain": [
       "3"
      ]
     },
     "execution_count": 82,
     "metadata": {},
     "output_type": "execute_result"
    }
   ],
   "source": [
    "a = 3\n",
    "a"
   ]
  },
  {
   "cell_type": "code",
   "execution_count": 83,
   "metadata": {
    "ExecuteTime": {
     "end_time": "2018-09-18T01:58:29.966635Z",
     "start_time": "2018-09-18T01:58:29.961071Z"
    }
   },
   "outputs": [
    {
     "data": {
      "text/plain": [
       "'a = 3\\na'"
      ]
     },
     "execution_count": 83,
     "metadata": {},
     "output_type": "execute_result"
    }
   ],
   "source": [
    "_i82"
   ]
  },
  {
   "cell_type": "code",
   "execution_count": 84,
   "metadata": {
    "ExecuteTime": {
     "end_time": "2018-09-18T01:58:39.473182Z",
     "start_time": "2018-09-18T01:58:39.468616Z"
    }
   },
   "outputs": [
    {
     "data": {
      "text/plain": [
       "3"
      ]
     },
     "execution_count": 84,
     "metadata": {},
     "output_type": "execute_result"
    }
   ],
   "source": [
    "_82"
   ]
  },
  {
   "cell_type": "code",
   "execution_count": 85,
   "metadata": {
    "ExecuteTime": {
     "end_time": "2018-09-18T01:58:55.952794Z",
     "start_time": "2018-09-18T01:58:55.948696Z"
    }
   },
   "outputs": [
    {
     "data": {
      "text/plain": [
       "3"
      ]
     },
     "execution_count": 85,
     "metadata": {},
     "output_type": "execute_result"
    }
   ],
   "source": [
    "_"
   ]
  },
  {
   "cell_type": "code",
   "execution_count": 86,
   "metadata": {
    "ExecuteTime": {
     "end_time": "2018-09-18T01:59:08.812042Z",
     "start_time": "2018-09-18T01:59:08.808989Z"
    }
   },
   "outputs": [],
   "source": [
    "b = 5"
   ]
  },
  {
   "cell_type": "code",
   "execution_count": 87,
   "metadata": {
    "ExecuteTime": {
     "end_time": "2018-09-18T01:59:43.827023Z",
     "start_time": "2018-09-18T01:59:43.824659Z"
    }
   },
   "outputs": [],
   "source": [
    "c = a * b "
   ]
  },
  {
   "cell_type": "code",
   "execution_count": null,
   "metadata": {},
   "outputs": [],
   "source": []
  },
  {
   "cell_type": "code",
   "execution_count": null,
   "metadata": {
    "ExecuteTime": {
     "end_time": "2018-06-07T01:46:36.999622Z",
     "start_time": "2018-06-07T01:46:36.995686Z"
    }
   },
   "outputs": [],
   "source": []
  },
  {
   "cell_type": "code",
   "execution_count": null,
   "metadata": {},
   "outputs": [],
   "source": []
  },
  {
   "cell_type": "code",
   "execution_count": 88,
   "metadata": {
    "ExecuteTime": {
     "end_time": "2018-09-18T01:59:51.965404Z",
     "start_time": "2018-09-18T01:59:51.587282Z"
    }
   },
   "outputs": [],
   "source": [
    "%notebook history.ipynb"
   ]
  },
  {
   "cell_type": "code",
   "execution_count": null,
   "metadata": {},
   "outputs": [],
   "source": []
  },
  {
   "cell_type": "code",
   "execution_count": null,
   "metadata": {},
   "outputs": [],
   "source": []
  },
  {
   "cell_type": "code",
   "execution_count": null,
   "metadata": {
    "ExecuteTime": {
     "end_time": "2018-02-25T23:12:50.247713Z",
     "start_time": "2018-02-25T23:12:50.065966Z"
    }
   },
   "outputs": [],
   "source": [
    "!subl 01-Tips-and-tricks.ipynb"
   ]
  },
  {
   "cell_type": "code",
   "execution_count": null,
   "metadata": {},
   "outputs": [],
   "source": []
  },
  {
   "cell_type": "code",
   "execution_count": null,
   "metadata": {},
   "outputs": [],
   "source": []
  },
  {
   "cell_type": "code",
   "execution_count": null,
   "metadata": {},
   "outputs": [],
   "source": []
  },
  {
   "cell_type": "code",
   "execution_count": null,
   "metadata": {},
   "outputs": [],
   "source": []
  },
  {
   "cell_type": "code",
   "execution_count": null,
   "metadata": {},
   "outputs": [],
   "source": []
  }
 ],
 "metadata": {
  "anaconda-cloud": {},
  "hide_input": false,
  "kernelspec": {
   "display_name": "dspy3",
   "language": "python",
   "name": "dspy3"
  },
  "language_info": {
   "codemirror_mode": {
    "name": "ipython",
    "version": 3
   },
   "file_extension": ".py",
   "mimetype": "text/x-python",
   "name": "python",
   "nbconvert_exporter": "python",
   "pygments_lexer": "ipython3",
   "version": "3.6.6"
  },
  "toc": {
   "base_numbering": 1,
   "nav_menu": {
    "height": "208px",
    "width": "252px"
   },
   "number_sections": true,
   "sideBar": true,
   "skip_h1_title": false,
   "title_cell": "Table of Contents",
   "title_sidebar": "Contents",
   "toc_cell": false,
   "toc_position": {},
   "toc_section_display": "block",
   "toc_window_display": false
  },
  "varInspector": {
   "cols": {
    "lenName": 16,
    "lenType": 16,
    "lenVar": 40
   },
   "kernels_config": {
    "python": {
     "delete_cmd_postfix": "",
     "delete_cmd_prefix": "del ",
     "library": "var_list.py",
     "varRefreshCmd": "print(var_dic_list())"
    },
    "r": {
     "delete_cmd_postfix": ") ",
     "delete_cmd_prefix": "rm(",
     "library": "var_list.r",
     "varRefreshCmd": "cat(var_dic_list()) "
    }
   },
   "types_to_exclude": [
    "module",
    "function",
    "builtin_function_or_method",
    "instance",
    "_Feature"
   ],
   "window_display": false
  },
  "widgets": {
   "state": {
    "1f2b33bdbf62410e92177b1ae2e22d0e": {
     "views": [
      {
       "cell_index": 9
      }
     ]
    }
   },
   "version": "1.2.0"
  }
 },
 "nbformat": 4,
 "nbformat_minor": 2
}
